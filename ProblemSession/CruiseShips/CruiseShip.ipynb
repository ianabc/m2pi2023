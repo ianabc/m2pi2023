{
 "cells": [
  {
   "cell_type": "code",
   "execution_count": 1,
   "metadata": {},
   "outputs": [],
   "source": [
    "import numpy as np\n",
    "import pandas as pd\n",
    "import matplotlib.pyplot as plt\n",
    "import seaborn as sns"
   ]
  },
  {
   "cell_type": "code",
   "execution_count": 2,
   "metadata": {},
   "outputs": [],
   "source": [
    "plt.rcParams['figure.figsize'] = (16, 12)"
   ]
  },
  {
   "cell_type": "markdown",
   "metadata": {},
   "source": [
    "# Cruise Ship Crew Requirements\n",
    "\n",
    "You've been given a dataset describing various features of cruise ships such as their tonnage, total number of passengers, number of cabins etc. You've been asked to explore the dataset, present some summary statistics and (hopefully) build a model to calculate the number of crew required to staff a new ship. Again, you are asked to break the problem down into three stages\n",
    "\n",
    "### Part 1: Exploration and Cleaning\n",
    "1. Read in this data, clean and tidy if necessary.\n",
    "1. Calculate basic statistics to understand what you have been given\n",
    "1. Select some columns which might be correlated with price\n",
    "\n",
    "### Part 2: Analysis and Model Building\n",
    "1. Create training and testing sets\n",
    "2. Scale and transform features as needed \n",
    "3. Fit a model to predict crew requirements for new ships\n",
    "\n",
    "### Part 3: Results\n",
    "1. Summarize your findings"
   ]
  },
  {
   "cell_type": "markdown",
   "metadata": {},
   "source": [
    "## Part 1"
   ]
  },
  {
   "cell_type": "code",
   "execution_count": 3,
   "metadata": {},
   "outputs": [],
   "source": [
    "sCSV = 'https://m2pi.syzygy.ca/data/cruise_ship_info.csv'\n",
    "\n",
    "sDF = pd.read_csv(sCSV)"
   ]
  },
  {
   "cell_type": "markdown",
   "metadata": {},
   "source": [
    " * Take a look at the numerical columns\n",
    " * I threw away `Ship_name`, seemed redundant\n",
    " * Look at distributions of the numerical columns. `scatter_matrix` from `pandas.plotting` can help\n",
    " * Look at correlations with `sDF.corr`\n",
    " * Hopefully you should find that the strongest correlations are with `Tonnage`, `Passengers`, `length` and `cabins`."
   ]
  },
  {
   "cell_type": "markdown",
   "metadata": {},
   "source": [
    "## Part 2"
   ]
  },
  {
   "cell_type": "markdown",
   "metadata": {},
   "source": [
    "### Splitting the test and training data\n",
    "\n",
    "**You are supposed to do this year, and leave your test data aside until the very end**\n",
    "\n",
    "* From part 1, if the distribution of features was not normal, you would need to split with that in mind (`StratifiedShuffleSplit` can help with this). Here things were mostly OK so you can just use `train_test_split` from `sklearn.model_selection`.\n",
    "* Use `StandardScaler` on the numerical columns and `OneHotEncoder` on the categorical\n",
    "* fit and transform your training dataset\n",
    "* Try fitting a model. Maybe start with `LinearRegression`, then see what the [choosing the right estimator](https://scikit-learn.org/stable/tutorial/machine_learning_map/index.html) page recommends.\n",
    "* Once you are happy with the model type, try tuning the hyperparameters with `GridSearchCV` from `sklearn.model_selection`."
   ]
  },
  {
   "cell_type": "markdown",
   "metadata": {},
   "source": [
    "## Part 3"
   ]
  },
  {
   "cell_type": "markdown",
   "metadata": {},
   "source": [
    "At this point, you should  be ready to \"open the box\" and see how you did with your test data. As mentioned at the top, this is the very last thing you do."
   ]
  }
 ],
 "metadata": {
  "kernelspec": {
   "display_name": "Python 3 (ipykernel)",
   "language": "python",
   "name": "python3"
  },
  "language_info": {
   "codemirror_mode": {
    "name": "ipython",
    "version": 3
   },
   "file_extension": ".py",
   "mimetype": "text/x-python",
   "name": "python",
   "nbconvert_exporter": "python",
   "pygments_lexer": "ipython3",
   "version": "3.11.4"
  }
 },
 "nbformat": 4,
 "nbformat_minor": 4
}
