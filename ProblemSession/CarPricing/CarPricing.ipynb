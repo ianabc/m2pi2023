{
 "cells": [
  {
   "cell_type": "code",
   "execution_count": 1,
   "metadata": {},
   "outputs": [],
   "source": [
    "import numpy as np\n",
    "import pandas as pd\n",
    "import matplotlib.pyplot as plt\n",
    "import seaborn as sns"
   ]
  },
  {
   "cell_type": "code",
   "execution_count": 2,
   "metadata": {},
   "outputs": [],
   "source": [
    "plt.rcParams['figure.figsize'] = (16,10)"
   ]
  },
  {
   "cell_type": "markdown",
   "metadata": {},
   "source": [
    "# Car Pricing\n",
    "\n",
    "You've been given a dataset describing various features of some cars including their list price.\n",
    "\n",
    "  * https://m2pi.syzygy.ca/data/CarPrice_Assignment.csv\n",
    "\n",
    "You've been asked to explore this dataset, present some summary statistics and (hopefully) build a model for setting the list price. We've broken the problem down into 3 stages...\n",
    "\n",
    "\n",
    "### Part 1: Exploration and Cleaning\n",
    "1. Read in this data, clean and tidy it if necessary\n",
    "1. Calculate basic statistics to understand what you have been given\n",
    "1. Select some columns which might be correlated with price\n",
    "\n",
    "### Part 2: Analysis and Model Building\n",
    "1. Create training and testing sets\n",
    "1. Scale things if needed\n",
    "1. Fit a pricing model\n",
    "\n",
    "### Part 3: Results\n",
    "1. Apply your model and summarize your findings"
   ]
  },
  {
   "cell_type": "markdown",
   "metadata": {},
   "source": [
    "## Part 1"
   ]
  },
  {
   "cell_type": "code",
   "execution_count": null,
   "metadata": {},
   "outputs": [],
   "source": [
    "wCSV = 'https://m2pi.syzygy.ca/data/CarPrice.csv'\n",
    "wDF = pd.read_csv(\n",
    "    wCSV,\n",
    "    index_col='car_ID',\n",
    "    usecols=[\n",
    "        'car_ID',\n",
    "        'CarName',\n",
    "        'doornumber',\n",
    "        'enginelocation',\n",
    "        'curbweight',\n",
    "        'enginesize',\n",
    "        'compressionratio',\n",
    "        'horsepower',\n",
    "        'peakrpm',\n",
    "        'highwaympg',\n",
    "        'citympg',\n",
    "        'price'\n",
    "    ]\n",
    ")"
   ]
  },
  {
   "cell_type": "markdown",
   "metadata": {},
   "source": [
    "* Look through the column types and check `.describe()`\n",
    "* There is a problem with the `citympg` column. It's a (broken!) string, make it an int\n",
    "* There's one row with an odd price value, decide how to deal with it\n",
    "* For the categorical columns look at value counts and make them pandas categorical type\n",
    "* Drop the `CarName` column unless you have the energy to try to extract manufacturers or something like that\n",
    "* Look at the `.corr()` of the dataframe"
   ]
  },
  {
   "cell_type": "markdown",
   "metadata": {},
   "source": [
    "## Part 2"
   ]
  },
  {
   "cell_type": "markdown",
   "metadata": {},
   "source": [
    "* Split the test and training data. Decide if you need to use stratified sampling during the split\n",
    "* Use `StandardScaler` on the numerical columns and `OneHotEncoder` on the categorical ones\n",
    "* Train a model. Start with something simple and then try other regression models to see what works\n",
    "* For whichever model you've selected, try to tune the hyperparameters and select the best ones"
   ]
  },
  {
   "cell_type": "markdown",
   "metadata": {},
   "source": [
    "## Part 3\n",
    "\n",
    "Apply the model selected above to your test data set"
   ]
  }
 ],
 "metadata": {
  "kernelspec": {
   "display_name": "Python 3 (ipykernel)",
   "language": "python",
   "name": "python3"
  },
  "language_info": {
   "codemirror_mode": {
    "name": "ipython",
    "version": 3
   },
   "file_extension": ".py",
   "mimetype": "text/x-python",
   "name": "python",
   "nbconvert_exporter": "python",
   "pygments_lexer": "ipython3",
   "version": "3.11.4"
  }
 },
 "nbformat": 4,
 "nbformat_minor": 4
}
