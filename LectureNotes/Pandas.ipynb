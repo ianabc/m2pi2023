{
 "cells": [
  {
   "cell_type": "markdown",
   "metadata": {},
   "source": [
    "# Pandas\n",
    "Pandas (Python Data Analysis Library) is an extremely popular module which you'll find at the top of a huge proportion of data science notebooks. Like numpy, it's also popular enough to deserve its own import idiom..."
   ]
  },
  {
   "cell_type": "code",
   "execution_count": 2,
   "metadata": {},
   "outputs": [],
   "source": [
    "import pandas as pd\n",
    "import numpy as np"
   ]
  },
  {
   "cell_type": "markdown",
   "metadata": {},
   "source": [
    "To get a quick idea of the scope of pandas take a look at the autocomplete for pd."
   ]
  },
  {
   "cell_type": "code",
   "execution_count": null,
   "metadata": {},
   "outputs": [],
   "source": [
    "pd."
   ]
  },
  {
   "cell_type": "markdown",
   "metadata": {},
   "source": [
    "The fundamental objects in pandas are the `Series` and the `DataFrame`. These build on the idea of a numpy `ndarray`, but they add the idea of an index and they include a rich set of methods which we can use to manipulate data."
   ]
  },
  {
   "cell_type": "markdown",
   "metadata": {},
   "source": [
    "## Series\n",
    "The pandas `Series` object is basically a one dimensional _indexed_ array. Schematically, they look like\n",
    "\n",
    "| Index | Value |\n",
    "|-------|-------|\n",
    "| 0     |  0.12 |\n",
    "| 1     |  0.24 |\n",
    "| 2     |  0.36 |\n",
    "| 3     |  0.48 |\n",
    "\n",
    "There are two columns: an index and a value. Most of the time the index values are distinct (this isn't a firm requirement though!) but the index doesn't have to be integers. Any hashable type will do"
   ]
  },
  {
   "cell_type": "code",
   "execution_count": 3,
   "metadata": {},
   "outputs": [
    {
     "data": {
      "text/plain": [
       "one      1.0\n",
       "two      2.0\n",
       "three    3.0\n",
       "dtype: float64"
      ]
     },
     "execution_count": 3,
     "metadata": {},
     "output_type": "execute_result"
    }
   ],
   "source": [
    "s1 = pd.Series({'one' : 1.0, 'two': 2.0, 'three': 3.0})\n",
    "s1"
   ]
  },
  {
   "cell_type": "markdown",
   "metadata": {},
   "source": [
    "One particularly common option is to use a timestamp as the index (don't worry about the syntax here, we'll come back to time-series later)..."
   ]
  },
  {
   "cell_type": "code",
   "execution_count": 4,
   "metadata": {},
   "outputs": [
    {
     "data": {
      "text/plain": [
       "2020-06-03 00:00:00     first\n",
       "2020-06-03 01:00:00    second\n",
       "2020-06-03 02:00:00     third\n",
       "Freq: H, dtype: object"
      ]
     },
     "execution_count": 4,
     "metadata": {},
     "output_type": "execute_result"
    }
   ],
   "source": [
    "dti = pd.date_range('2020-06-03', periods=3, freq='H')\n",
    "pd.Series(['first', 'second', 'third'], index=dti)"
   ]
  },
  {
   "cell_type": "markdown",
   "metadata": {},
   "source": [
    "The next thing to notice is that the values all share the same type (e.g. `dtype: float64` for `s1`, `object` for `dti`). `pandas` will make `Series` of almost any type as long as all the rows share the same type, but it will always try to pick the most efficient implementation. For numerical values, it'll use `numpy.ndarrays`, but if it can't infer a specific type, it will fall back to a generic `object` type. It really pays (in speed) to keep an eye on the `dtype` and use a `numpy.ndarray` type where possible. For categorical values there is a special `Categorical` `dtype` which can help when interfacing with `sklearn`."
   ]
  },
  {
   "cell_type": "markdown",
   "metadata": {},
   "source": [
    "### Making `Series`\n",
    "\n",
    "You'll probably find that you want to deal with `DataFrames` more often than `Series`, but lots of operations in `panadas` return Series (or want them as an argument in some operation) so it's good to know how to build them.\n",
    "\n",
    "Like `ndarray`'s, you can initialize a `Series` from a sequence, by default it'll get an ascending integer index"
   ]
  },
  {
   "cell_type": "code",
   "execution_count": 5,
   "metadata": {},
   "outputs": [
    {
     "data": {
      "text/plain": [
       "0    1.0\n",
       "1    2.0\n",
       "2    3.0\n",
       "3    4.0\n",
       "4    5.0\n",
       "dtype: float64"
      ]
     },
     "execution_count": 5,
     "metadata": {},
     "output_type": "execute_result"
    }
   ],
   "source": [
    "sf = pd.Series([1.0, 2.0, 3.0, 4.0, 5.0])\n",
    "sf"
   ]
  },
  {
   "cell_type": "code",
   "execution_count": 6,
   "metadata": {},
   "outputs": [
    {
     "data": {
      "text/plain": [
       "0    0\n",
       "1    1\n",
       "2    2\n",
       "3    3\n",
       "4    4\n",
       "dtype: int64"
      ]
     },
     "execution_count": 6,
     "metadata": {},
     "output_type": "execute_result"
    }
   ],
   "source": [
    "si = pd.Series(range(5))\n",
    "si"
   ]
  },
  {
   "cell_type": "code",
   "execution_count": 7,
   "metadata": {},
   "outputs": [
    {
     "data": {
      "text/plain": [
       "dtype('int64')"
      ]
     },
     "execution_count": 7,
     "metadata": {},
     "output_type": "execute_result"
    }
   ],
   "source": [
    "si.dtype"
   ]
  },
  {
   "cell_type": "markdown",
   "metadata": {},
   "source": [
    "So far, this looks a lot like a numpy array (or even just a list), but we can switch the indexing to suit our needs, by explicitly passing the `index=` arguement"
   ]
  },
  {
   "cell_type": "code",
   "execution_count": 8,
   "metadata": {},
   "outputs": [
    {
     "data": {
      "text/plain": [
       "one      1.0\n",
       "two      2.0\n",
       "three    3.0\n",
       "four     4.0\n",
       "five     5.0\n",
       "dtype: float64"
      ]
     },
     "execution_count": 8,
     "metadata": {},
     "output_type": "execute_result"
    }
   ],
   "source": [
    "sm = pd.Series([1., 2., 3., 4., 5.], index=['one', 'two', 'three', 'four', 'five'])\n",
    "sm"
   ]
  },
  {
   "cell_type": "markdown",
   "metadata": {},
   "source": [
    "### Indexing and Slicing\n",
    "\n",
    "square bracket notation will select by index value, this is convenient, but see `.loc` and `.iloc` later for more flexibility."
   ]
  },
  {
   "cell_type": "code",
   "execution_count": 9,
   "metadata": {},
   "outputs": [
    {
     "data": {
      "text/plain": [
       "3.0"
      ]
     },
     "execution_count": 9,
     "metadata": {},
     "output_type": "execute_result"
    }
   ],
   "source": [
    "sm['three']"
   ]
  },
  {
   "cell_type": "markdown",
   "metadata": {},
   "source": [
    "Now the series is starting to look more like a dictionary, in fact, that's another good way to construct `Series`"
   ]
  },
  {
   "cell_type": "code",
   "execution_count": 10,
   "metadata": {},
   "outputs": [
    {
     "data": {
      "text/plain": [
       "one      1\n",
       "three    3\n",
       "two      2\n",
       "four     4\n",
       "five     5\n",
       "dtype: int64"
      ]
     },
     "execution_count": 10,
     "metadata": {},
     "output_type": "execute_result"
    }
   ],
   "source": [
    "sn = pd.Series({'one': 1, 'three': 3, 'two': 2, 'four': 4, 'five': 5})\n",
    "sn"
   ]
  },
  {
   "cell_type": "markdown",
   "metadata": {},
   "source": [
    "When you look closely though, a Series has a few tricks that a dictionary doesn't..."
   ]
  },
  {
   "cell_type": "code",
   "execution_count": 12,
   "metadata": {},
   "outputs": [
    {
     "data": {
      "text/plain": [
       "three    3\n",
       "two      2\n",
       "four     4\n",
       "dtype: int64"
      ]
     },
     "execution_count": 12,
     "metadata": {},
     "output_type": "execute_result"
    }
   ],
   "source": [
    "sn['three':'four']"
   ]
  },
  {
   "cell_type": "markdown",
   "metadata": {},
   "source": [
    "N.B. label based indexes are _inclusive_ of the `stop` value. This is different from most other indexes you'll see in python, and can cause a little confusion. If you use numbers to do the slice, you'll get the familiar python behaviour"
   ]
  },
  {
   "cell_type": "code",
   "execution_count": 13,
   "metadata": {},
   "outputs": [
    {
     "data": {
      "text/plain": [
       "three    3\n",
       "two      2\n",
       "dtype: int64"
      ]
     },
     "execution_count": 13,
     "metadata": {},
     "output_type": "execute_result"
    }
   ],
   "source": [
    "sn[1:3]"
   ]
  },
  {
   "cell_type": "markdown",
   "metadata": {},
   "source": [
    "Series have a `keys()` method, but it returns an index object"
   ]
  },
  {
   "cell_type": "code",
   "execution_count": 14,
   "metadata": {},
   "outputs": [
    {
     "data": {
      "text/plain": [
       "Index(['one', 'three', 'two', 'four', 'five'], dtype='object')"
      ]
     },
     "execution_count": 14,
     "metadata": {},
     "output_type": "execute_result"
    }
   ],
   "source": [
    "sn.keys()"
   ]
  },
  {
   "cell_type": "markdown",
   "metadata": {},
   "source": [
    "Element by element statements evaluate to Booleans"
   ]
  },
  {
   "cell_type": "code",
   "execution_count": 15,
   "metadata": {},
   "outputs": [
    {
     "data": {
      "text/plain": [
       "one      False\n",
       "three     True\n",
       "two      False\n",
       "four      True\n",
       "five      True\n",
       "dtype: bool"
      ]
     },
     "execution_count": 15,
     "metadata": {},
     "output_type": "execute_result"
    }
   ],
   "source": [
    "sn > 2"
   ]
  },
  {
   "cell_type": "markdown",
   "metadata": {},
   "source": [
    "and if you remember the material on numpy fancy indexing, this can be very useful"
   ]
  },
  {
   "cell_type": "code",
   "execution_count": 17,
   "metadata": {},
   "outputs": [
    {
     "data": {
      "text/plain": [
       "three    3\n",
       "four     4\n",
       "five     5\n",
       "dtype: int64"
      ]
     },
     "execution_count": 17,
     "metadata": {},
     "output_type": "execute_result"
    }
   ],
   "source": [
    "sn[sn > 2]"
   ]
  },
  {
   "cell_type": "markdown",
   "metadata": {},
   "source": [
    "You can combine these conditions in more complicated expressions, but be careful that `&` isn't interpretred as a bitwise operation"
   ]
  },
  {
   "cell_type": "code",
   "execution_count": 18,
   "metadata": {},
   "outputs": [
    {
     "data": {
      "text/plain": [
       "three    3\n",
       "four     4\n",
       "dtype: int64"
      ]
     },
     "execution_count": 18,
     "metadata": {},
     "output_type": "execute_result"
    }
   ],
   "source": [
    "sn[(sn > 2) & (sn < 5)]"
   ]
  },
  {
   "cell_type": "markdown",
   "metadata": {},
   "source": [
    "There are also some extra indexing methods available to you: `.loc`, `.iloc`, `.ix`. These let you be much more explicit about exactly what you want to return. At a very basic level, they can help you avoid label confusion..."
   ]
  },
  {
   "cell_type": "code",
   "execution_count": 19,
   "metadata": {
    "editable": true,
    "slideshow": {
     "slide_type": ""
    },
    "tags": []
   },
   "outputs": [
    {
     "data": {
      "text/plain": [
       "3        apple\n",
       "2       banana\n",
       "1       orange\n",
       "7    pineapple\n",
       "dtype: object"
      ]
     },
     "execution_count": 19,
     "metadata": {},
     "output_type": "execute_result"
    }
   ],
   "source": [
    "sa = pd.Series(data=['apple', 'banana', 'orange', 'pineapple'], index=[3, 2, 1, 7])\n",
    "\n",
    "sa"
   ]
  },
  {
   "cell_type": "markdown",
   "metadata": {},
   "source": [
    "Suppose we want the value in the 4th row..."
   ]
  },
  {
   "cell_type": "code",
   "execution_count": 20,
   "metadata": {},
   "outputs": [
    {
     "data": {
      "text/plain": [
       "'apple'"
      ]
     },
     "execution_count": 20,
     "metadata": {},
     "output_type": "execute_result"
    }
   ],
   "source": [
    "sa[3]"
   ]
  },
  {
   "cell_type": "markdown",
   "metadata": {},
   "source": [
    "Nope, `3` was interperted as a label. There's an ambiguity because of the type of the index. Fortunately `pandas` gives us a pair of functions to avoid that problem\n",
    "\n",
    "  * `.iloc[]`: Purely integer-location based indexing.\n",
    "  * `loc[]` : Purely label based indexing."
   ]
  },
  {
   "cell_type": "code",
   "execution_count": 22,
   "metadata": {},
   "outputs": [
    {
     "data": {
      "text/plain": [
       "'apple'"
      ]
     },
     "execution_count": 22,
     "metadata": {},
     "output_type": "execute_result"
    }
   ],
   "source": [
    "sa.loc[3]"
   ]
  },
  {
   "cell_type": "code",
   "execution_count": 23,
   "metadata": {},
   "outputs": [
    {
     "data": {
      "text/plain": [
       "'pineapple'"
      ]
     },
     "execution_count": 23,
     "metadata": {},
     "output_type": "execute_result"
    }
   ],
   "source": [
    "sa.iloc[3]"
   ]
  },
  {
   "cell_type": "markdown",
   "metadata": {},
   "source": [
    "And `.iloc` will also work with slices"
   ]
  },
  {
   "cell_type": "code",
   "execution_count": 24,
   "metadata": {},
   "outputs": [
    {
     "data": {
      "text/plain": [
       "3     apple\n",
       "1    orange\n",
       "dtype: object"
      ]
     },
     "execution_count": 24,
     "metadata": {},
     "output_type": "execute_result"
    }
   ],
   "source": [
    "sa.iloc[:3:2]"
   ]
  },
  {
   "cell_type": "markdown",
   "metadata": {},
   "source": [
    "Logical and fancy indexing work here too"
   ]
  },
  {
   "cell_type": "code",
   "execution_count": 25,
   "metadata": {},
   "outputs": [
    {
     "data": {
      "text/plain": [
       "1       orange\n",
       "2       banana\n",
       "7    pineapple\n",
       "dtype: object"
      ]
     },
     "execution_count": 25,
     "metadata": {},
     "output_type": "execute_result"
    }
   ],
   "source": [
    "sa.iloc[[2, 1, 3]]"
   ]
  },
  {
   "cell_type": "markdown",
   "metadata": {},
   "source": [
    "Logical indexing works with these methods as well..."
   ]
  },
  {
   "cell_type": "code",
   "execution_count": 26,
   "metadata": {},
   "outputs": [
    {
     "data": {
      "text/plain": [
       "four    4\n",
       "five    5\n",
       "dtype: int64"
      ]
     },
     "execution_count": 26,
     "metadata": {},
     "output_type": "execute_result"
    }
   ],
   "source": [
    "sn.loc[sn>3]"
   ]
  },
  {
   "cell_type": "markdown",
   "metadata": {},
   "source": [
    "_**Exercise**: Create a series with the letters of the alphabet as values (try using `enumerate`). Use the .`sort_index` method to reverse the `Series` and slice the result to pick out the values between `t` and `k` (inclusive)_"
   ]
  },
  {
   "cell_type": "code",
   "execution_count": 33,
   "metadata": {},
   "outputs": [
    {
     "data": {
      "text/plain": [
       "t    19\n",
       "s    18\n",
       "r    17\n",
       "q    16\n",
       "p    15\n",
       "o    14\n",
       "n    13\n",
       "m    12\n",
       "l    11\n",
       "dtype: int64"
      ]
     },
     "execution_count": 33,
     "metadata": {},
     "output_type": "execute_result"
    }
   ],
   "source": [
    "alphabet = pd.Series({letter: i for (i, letter) in enumerate('abcdefghijklmnopqrstuvwxyz')})\n",
    "alphabet.sort_index(ascending=False)['t':'l']"
   ]
  },
  {
   "cell_type": "markdown",
   "metadata": {},
   "source": [
    "## DataFrames\n",
    "\n",
    "Most of the time you will be using `DataFrames` rather than `Series` (though the result of many `DataFrame` operations is a `Series`), but at a first pass it is OK to think of `DataFrames` as a bunch of `Series` stuck together with a common index. \n",
    "\n",
    "\n",
    "| Index | Value1 | Value2 | \n",
    "|-------|--------|--------|\n",
    "|   0   |  0.12  |   'a'  |\n",
    "|   1   |  0.24  |   'b'  |\n",
    "|   2   |  0.36  |   'c'  |\n",
    "|   3   |  0.48  |   'd'  |\n",
    "\n",
    "The rules discussed above for the index stay the same but notice that we can now have different types in the various columns"
   ]
  },
  {
   "cell_type": "code",
   "execution_count": 34,
   "metadata": {},
   "outputs": [
    {
     "data": {
      "text/html": [
       "<div>\n",
       "<style scoped>\n",
       "    .dataframe tbody tr th:only-of-type {\n",
       "        vertical-align: middle;\n",
       "    }\n",
       "\n",
       "    .dataframe tbody tr th {\n",
       "        vertical-align: top;\n",
       "    }\n",
       "\n",
       "    .dataframe thead th {\n",
       "        text-align: right;\n",
       "    }\n",
       "</style>\n",
       "<table border=\"1\" class=\"dataframe\">\n",
       "  <thead>\n",
       "    <tr style=\"text-align: right;\">\n",
       "      <th></th>\n",
       "      <th>floats</th>\n",
       "      <th>ints</th>\n",
       "    </tr>\n",
       "  </thead>\n",
       "  <tbody>\n",
       "    <tr>\n",
       "      <th>five</th>\n",
       "      <td>5.0</td>\n",
       "      <td>5</td>\n",
       "    </tr>\n",
       "    <tr>\n",
       "      <th>four</th>\n",
       "      <td>4.0</td>\n",
       "      <td>4</td>\n",
       "    </tr>\n",
       "    <tr>\n",
       "      <th>one</th>\n",
       "      <td>1.0</td>\n",
       "      <td>1</td>\n",
       "    </tr>\n",
       "    <tr>\n",
       "      <th>three</th>\n",
       "      <td>3.0</td>\n",
       "      <td>3</td>\n",
       "    </tr>\n",
       "    <tr>\n",
       "      <th>two</th>\n",
       "      <td>2.0</td>\n",
       "      <td>2</td>\n",
       "    </tr>\n",
       "  </tbody>\n",
       "</table>\n",
       "</div>"
      ],
      "text/plain": [
       "       floats  ints\n",
       "five      5.0     5\n",
       "four      4.0     4\n",
       "one       1.0     1\n",
       "three     3.0     3\n",
       "two       2.0     2"
      ]
     },
     "execution_count": 34,
     "metadata": {},
     "output_type": "execute_result"
    }
   ],
   "source": [
    "d1 = pd.DataFrame({'floats': sm, 'ints': sn})\n",
    "d1"
   ]
  },
  {
   "cell_type": "code",
   "execution_count": 35,
   "metadata": {},
   "outputs": [
    {
     "data": {
      "text/plain": [
       "floats    float64\n",
       "ints        int64\n",
       "dtype: object"
      ]
     },
     "execution_count": 35,
     "metadata": {},
     "output_type": "execute_result"
    }
   ],
   "source": [
    "d1.dtypes"
   ]
  },
  {
   "cell_type": "markdown",
   "metadata": {},
   "source": [
    "### DataFrame Attributes\n",
    "\n",
    "We've already seen some of the attributes of the DataFrame (column etc.) but there are quite a few available, take a look at `index`, `columns`, `shape`, `dtypes`"
   ]
  },
  {
   "cell_type": "code",
   "execution_count": 36,
   "metadata": {},
   "outputs": [
    {
     "data": {
      "text/plain": [
       "Index(['five', 'four', 'one', 'three', 'two'], dtype='object')"
      ]
     },
     "execution_count": 36,
     "metadata": {},
     "output_type": "execute_result"
    }
   ],
   "source": [
    "d1.index"
   ]
  },
  {
   "cell_type": "code",
   "execution_count": 37,
   "metadata": {},
   "outputs": [
    {
     "data": {
      "text/plain": [
       "Index(['floats', 'ints'], dtype='object')"
      ]
     },
     "execution_count": 37,
     "metadata": {},
     "output_type": "execute_result"
    }
   ],
   "source": [
    "d1.columns"
   ]
  },
  {
   "cell_type": "code",
   "execution_count": 38,
   "metadata": {},
   "outputs": [
    {
     "data": {
      "text/plain": [
       "(5, 2)"
      ]
     },
     "execution_count": 38,
     "metadata": {},
     "output_type": "execute_result"
    }
   ],
   "source": [
    "d1.shape"
   ]
  },
  {
   "cell_type": "code",
   "execution_count": 39,
   "metadata": {},
   "outputs": [
    {
     "data": {
      "text/plain": [
       "floats    float64\n",
       "ints        int64\n",
       "dtype: object"
      ]
     },
     "execution_count": 39,
     "metadata": {},
     "output_type": "execute_result"
    }
   ],
   "source": [
    "d1.dtypes"
   ]
  },
  {
   "cell_type": "markdown",
   "metadata": {},
   "source": [
    "There are also some useful utility functions for getting oriented with the contents of the dataframe"
   ]
  },
  {
   "cell_type": "code",
   "execution_count": 40,
   "metadata": {},
   "outputs": [
    {
     "data": {
      "text/html": [
       "<div>\n",
       "<style scoped>\n",
       "    .dataframe tbody tr th:only-of-type {\n",
       "        vertical-align: middle;\n",
       "    }\n",
       "\n",
       "    .dataframe tbody tr th {\n",
       "        vertical-align: top;\n",
       "    }\n",
       "\n",
       "    .dataframe thead th {\n",
       "        text-align: right;\n",
       "    }\n",
       "</style>\n",
       "<table border=\"1\" class=\"dataframe\">\n",
       "  <thead>\n",
       "    <tr style=\"text-align: right;\">\n",
       "      <th></th>\n",
       "      <th>floats</th>\n",
       "      <th>ints</th>\n",
       "    </tr>\n",
       "  </thead>\n",
       "  <tbody>\n",
       "    <tr>\n",
       "      <th>count</th>\n",
       "      <td>5.000000</td>\n",
       "      <td>5.000000</td>\n",
       "    </tr>\n",
       "    <tr>\n",
       "      <th>mean</th>\n",
       "      <td>3.000000</td>\n",
       "      <td>3.000000</td>\n",
       "    </tr>\n",
       "    <tr>\n",
       "      <th>std</th>\n",
       "      <td>1.581139</td>\n",
       "      <td>1.581139</td>\n",
       "    </tr>\n",
       "    <tr>\n",
       "      <th>min</th>\n",
       "      <td>1.000000</td>\n",
       "      <td>1.000000</td>\n",
       "    </tr>\n",
       "    <tr>\n",
       "      <th>25%</th>\n",
       "      <td>2.000000</td>\n",
       "      <td>2.000000</td>\n",
       "    </tr>\n",
       "    <tr>\n",
       "      <th>50%</th>\n",
       "      <td>3.000000</td>\n",
       "      <td>3.000000</td>\n",
       "    </tr>\n",
       "    <tr>\n",
       "      <th>75%</th>\n",
       "      <td>4.000000</td>\n",
       "      <td>4.000000</td>\n",
       "    </tr>\n",
       "    <tr>\n",
       "      <th>max</th>\n",
       "      <td>5.000000</td>\n",
       "      <td>5.000000</td>\n",
       "    </tr>\n",
       "  </tbody>\n",
       "</table>\n",
       "</div>"
      ],
      "text/plain": [
       "         floats      ints\n",
       "count  5.000000  5.000000\n",
       "mean   3.000000  3.000000\n",
       "std    1.581139  1.581139\n",
       "min    1.000000  1.000000\n",
       "25%    2.000000  2.000000\n",
       "50%    3.000000  3.000000\n",
       "75%    4.000000  4.000000\n",
       "max    5.000000  5.000000"
      ]
     },
     "execution_count": 40,
     "metadata": {},
     "output_type": "execute_result"
    }
   ],
   "source": [
    "d1.describe()"
   ]
  },
  {
   "cell_type": "markdown",
   "metadata": {},
   "source": [
    "(If you pass `include=all` to describe, it will also try to tell you what it can about non-numerical values)"
   ]
  },
  {
   "cell_type": "code",
   "execution_count": 41,
   "metadata": {},
   "outputs": [
    {
     "name": "stdout",
     "output_type": "stream",
     "text": [
      "<class 'pandas.core.frame.DataFrame'>\n",
      "Index: 5 entries, five to two\n",
      "Data columns (total 2 columns):\n",
      " #   Column  Non-Null Count  Dtype  \n",
      "---  ------  --------------  -----  \n",
      " 0   floats  5 non-null      float64\n",
      " 1   ints    5 non-null      int64  \n",
      "dtypes: float64(1), int64(1)\n",
      "memory usage: 120.0+ bytes\n"
     ]
    }
   ],
   "source": [
    "d1.info()"
   ]
  },
  {
   "cell_type": "code",
   "execution_count": 42,
   "metadata": {},
   "outputs": [
    {
     "data": {
      "text/html": [
       "<div>\n",
       "<style scoped>\n",
       "    .dataframe tbody tr th:only-of-type {\n",
       "        vertical-align: middle;\n",
       "    }\n",
       "\n",
       "    .dataframe tbody tr th {\n",
       "        vertical-align: top;\n",
       "    }\n",
       "\n",
       "    .dataframe thead th {\n",
       "        text-align: right;\n",
       "    }\n",
       "</style>\n",
       "<table border=\"1\" class=\"dataframe\">\n",
       "  <thead>\n",
       "    <tr style=\"text-align: right;\">\n",
       "      <th></th>\n",
       "      <th>floats</th>\n",
       "      <th>ints</th>\n",
       "    </tr>\n",
       "  </thead>\n",
       "  <tbody>\n",
       "    <tr>\n",
       "      <th>five</th>\n",
       "      <td>5.0</td>\n",
       "      <td>5</td>\n",
       "    </tr>\n",
       "    <tr>\n",
       "      <th>four</th>\n",
       "      <td>4.0</td>\n",
       "      <td>4</td>\n",
       "    </tr>\n",
       "  </tbody>\n",
       "</table>\n",
       "</div>"
      ],
      "text/plain": [
       "      floats  ints\n",
       "five     5.0     5\n",
       "four     4.0     4"
      ]
     },
     "execution_count": 42,
     "metadata": {},
     "output_type": "execute_result"
    }
   ],
   "source": [
    "d1.head(n=2)"
   ]
  },
  {
   "cell_type": "markdown",
   "metadata": {},
   "source": [
    "### Indexing\n",
    "\n",
    "When indexing a dataframe, the default is to give you the column (you can also use the syntax `d1.ints`)"
   ]
  },
  {
   "cell_type": "code",
   "execution_count": 43,
   "metadata": {},
   "outputs": [
    {
     "data": {
      "text/plain": [
       "five     5\n",
       "four     4\n",
       "one      1\n",
       "three    3\n",
       "two      2\n",
       "Name: ints, dtype: int64"
      ]
     },
     "execution_count": 43,
     "metadata": {},
     "output_type": "execute_result"
    }
   ],
   "source": [
    "d1['ints']"
   ]
  },
  {
   "cell_type": "markdown",
   "metadata": {},
   "source": [
    "If you are looking for the row, then try `.loc` with the row index value"
   ]
  },
  {
   "cell_type": "code",
   "execution_count": 44,
   "metadata": {},
   "outputs": [
    {
     "data": {
      "text/plain": [
       "floats    1.0\n",
       "ints      1.0\n",
       "Name: one, dtype: float64"
      ]
     },
     "execution_count": 44,
     "metadata": {},
     "output_type": "execute_result"
    }
   ],
   "source": [
    "d1.loc['one']"
   ]
  },
  {
   "cell_type": "markdown",
   "metadata": {},
   "source": [
    "In fact, you probably want to lean towards `.loc` when you want to subset rows and/or columns. It is much more flexible and helps pandas resolve some potential ambiguities about what you want to select. Here is a column selection..."
   ]
  },
  {
   "cell_type": "code",
   "execution_count": 48,
   "metadata": {},
   "outputs": [
    {
     "data": {
      "text/html": [
       "<div>\n",
       "<style scoped>\n",
       "    .dataframe tbody tr th:only-of-type {\n",
       "        vertical-align: middle;\n",
       "    }\n",
       "\n",
       "    .dataframe tbody tr th {\n",
       "        vertical-align: top;\n",
       "    }\n",
       "\n",
       "    .dataframe thead th {\n",
       "        text-align: right;\n",
       "    }\n",
       "</style>\n",
       "<table border=\"1\" class=\"dataframe\">\n",
       "  <thead>\n",
       "    <tr style=\"text-align: right;\">\n",
       "      <th></th>\n",
       "      <th>ints</th>\n",
       "      <th>floats</th>\n",
       "    </tr>\n",
       "  </thead>\n",
       "  <tbody>\n",
       "    <tr>\n",
       "      <th>four</th>\n",
       "      <td>4</td>\n",
       "      <td>4.0</td>\n",
       "    </tr>\n",
       "    <tr>\n",
       "      <th>one</th>\n",
       "      <td>1</td>\n",
       "      <td>1.0</td>\n",
       "    </tr>\n",
       "    <tr>\n",
       "      <th>three</th>\n",
       "      <td>3</td>\n",
       "      <td>3.0</td>\n",
       "    </tr>\n",
       "    <tr>\n",
       "      <th>two</th>\n",
       "      <td>2</td>\n",
       "      <td>2.0</td>\n",
       "    </tr>\n",
       "  </tbody>\n",
       "</table>\n",
       "</div>"
      ],
      "text/plain": [
       "       ints  floats\n",
       "four      4     4.0\n",
       "one       1     1.0\n",
       "three     3     3.0\n",
       "two       2     2.0"
      ]
     },
     "execution_count": 48,
     "metadata": {},
     "output_type": "execute_result"
    }
   ],
   "source": [
    "d1.loc['four':, ['ints', 'floats']]"
   ]
  },
  {
   "cell_type": "markdown",
   "metadata": {},
   "source": [
    "(The square brackets around 'ints' here tell pandas I want a `DataFrame` to be returned, rather than a `Series`)"
   ]
  },
  {
   "cell_type": "code",
   "execution_count": 49,
   "metadata": {},
   "outputs": [
    {
     "data": {
      "text/html": [
       "<div>\n",
       "<style scoped>\n",
       "    .dataframe tbody tr th:only-of-type {\n",
       "        vertical-align: middle;\n",
       "    }\n",
       "\n",
       "    .dataframe tbody tr th {\n",
       "        vertical-align: top;\n",
       "    }\n",
       "\n",
       "    .dataframe thead th {\n",
       "        text-align: right;\n",
       "    }\n",
       "</style>\n",
       "<table border=\"1\" class=\"dataframe\">\n",
       "  <thead>\n",
       "    <tr style=\"text-align: right;\">\n",
       "      <th></th>\n",
       "      <th>floats</th>\n",
       "      <th>ints</th>\n",
       "    </tr>\n",
       "  </thead>\n",
       "  <tbody>\n",
       "    <tr>\n",
       "      <th>five</th>\n",
       "      <td>5.0</td>\n",
       "      <td>5</td>\n",
       "    </tr>\n",
       "    <tr>\n",
       "      <th>four</th>\n",
       "      <td>4.0</td>\n",
       "      <td>4</td>\n",
       "    </tr>\n",
       "  </tbody>\n",
       "</table>\n",
       "</div>"
      ],
      "text/plain": [
       "      floats  ints\n",
       "five     5.0     5\n",
       "four     4.0     4"
      ]
     },
     "execution_count": 49,
     "metadata": {},
     "output_type": "execute_result"
    }
   ],
   "source": [
    "d1.iloc[:2]"
   ]
  },
  {
   "cell_type": "code",
   "execution_count": 50,
   "metadata": {},
   "outputs": [
    {
     "data": {
      "text/plain": [
       "five    5\n",
       "four    4\n",
       "Name: ints, dtype: int64"
      ]
     },
     "execution_count": 50,
     "metadata": {},
     "output_type": "execute_result"
    }
   ],
   "source": [
    "# `.iloc will interprete both row and column specifiers as numerical positions\n",
    "d1.iloc[:2, 1]"
   ]
  },
  {
   "cell_type": "markdown",
   "metadata": {},
   "source": [
    "Logical/fancy indexing works with `.loc` and `.iloc` as well, but remember the parentheses or `&` will be interpreted as a bitwise operator."
   ]
  },
  {
   "cell_type": "code",
   "execution_count": 66,
   "metadata": {},
   "outputs": [
    {
     "ename": "ValueError",
     "evalue": "The truth value of a Series is ambiguous. Use a.empty, a.bool(), a.item(), a.any() or a.all().",
     "output_type": "error",
     "traceback": [
      "\u001b[0;31m---------------------------------------------------------------------------\u001b[0m",
      "\u001b[0;31mValueError\u001b[0m                                Traceback (most recent call last)",
      "\u001b[0;32m/tmp/ipykernel_164/2981081191.py\u001b[0m in \u001b[0;36m?\u001b[0;34m()\u001b[0m\n\u001b[0;32m----> 1\u001b[0;31m \u001b[0md1\u001b[0m\u001b[0;34m.\u001b[0m\u001b[0mloc\u001b[0m\u001b[0;34m[\u001b[0m\u001b[0;34m(\u001b[0m\u001b[0md1\u001b[0m\u001b[0;34m[\u001b[0m\u001b[0;34m'ints'\u001b[0m\u001b[0;34m]\u001b[0m \u001b[0;34m>\u001b[0m \u001b[0;36m2\u001b[0m \u001b[0;32mand\u001b[0m \u001b[0md1\u001b[0m\u001b[0;34m[\u001b[0m\u001b[0;34m'floats'\u001b[0m\u001b[0;34m]\u001b[0m\u001b[0;34m)\u001b[0m \u001b[0;34m<\u001b[0m \u001b[0;36m4\u001b[0m\u001b[0;34m,\u001b[0m \u001b[0;34m[\u001b[0m\u001b[0;34m'ints'\u001b[0m\u001b[0;34m]\u001b[0m\u001b[0;34m]\u001b[0m\u001b[0;34m\u001b[0m\u001b[0;34m\u001b[0m\u001b[0m\n\u001b[0m",
      "\u001b[0;32m/opt/conda/lib/python3.11/site-packages/pandas/core/generic.py\u001b[0m in \u001b[0;36m?\u001b[0;34m(self)\u001b[0m\n\u001b[1;32m   1525\u001b[0m     \u001b[0;34m@\u001b[0m\u001b[0mfinal\u001b[0m\u001b[0;34m\u001b[0m\u001b[0;34m\u001b[0m\u001b[0m\n\u001b[1;32m   1526\u001b[0m     \u001b[0;32mdef\u001b[0m \u001b[0m__nonzero__\u001b[0m\u001b[0;34m(\u001b[0m\u001b[0mself\u001b[0m\u001b[0;34m)\u001b[0m \u001b[0;34m->\u001b[0m \u001b[0mNoReturn\u001b[0m\u001b[0;34m:\u001b[0m\u001b[0;34m\u001b[0m\u001b[0;34m\u001b[0m\u001b[0m\n\u001b[0;32m-> 1527\u001b[0;31m         raise ValueError(\n\u001b[0m\u001b[1;32m   1528\u001b[0m             \u001b[0;34mf\"The truth value of a {type(self).__name__} is ambiguous. \"\u001b[0m\u001b[0;34m\u001b[0m\u001b[0;34m\u001b[0m\u001b[0m\n\u001b[1;32m   1529\u001b[0m             \u001b[0;34m\"Use a.empty, a.bool(), a.item(), a.any() or a.all().\"\u001b[0m\u001b[0;34m\u001b[0m\u001b[0;34m\u001b[0m\u001b[0m\n\u001b[1;32m   1530\u001b[0m         )\n",
      "\u001b[0;31mValueError\u001b[0m: The truth value of a Series is ambiguous. Use a.empty, a.bool(), a.item(), a.any() or a.all()."
     ]
    }
   ],
   "source": [
    "d1.loc[(d1['ints'] > 2 and d1['floats']) < 4, ['ints']]"
   ]
  },
  {
   "cell_type": "code",
   "execution_count": 52,
   "metadata": {},
   "outputs": [
    {
     "data": {
      "text/html": [
       "<div>\n",
       "<style scoped>\n",
       "    .dataframe tbody tr th:only-of-type {\n",
       "        vertical-align: middle;\n",
       "    }\n",
       "\n",
       "    .dataframe tbody tr th {\n",
       "        vertical-align: top;\n",
       "    }\n",
       "\n",
       "    .dataframe thead th {\n",
       "        text-align: right;\n",
       "    }\n",
       "</style>\n",
       "<table border=\"1\" class=\"dataframe\">\n",
       "  <thead>\n",
       "    <tr style=\"text-align: right;\">\n",
       "      <th></th>\n",
       "      <th>floats</th>\n",
       "      <th>ints</th>\n",
       "    </tr>\n",
       "  </thead>\n",
       "  <tbody>\n",
       "    <tr>\n",
       "      <th>four</th>\n",
       "      <td>4.0</td>\n",
       "      <td>4</td>\n",
       "    </tr>\n",
       "    <tr>\n",
       "      <th>one</th>\n",
       "      <td>1.0</td>\n",
       "      <td>1</td>\n",
       "    </tr>\n",
       "  </tbody>\n",
       "</table>\n",
       "</div>"
      ],
      "text/plain": [
       "      floats  ints\n",
       "four     4.0     4\n",
       "one      1.0     1"
      ]
     },
     "execution_count": 52,
     "metadata": {},
     "output_type": "execute_result"
    }
   ],
   "source": [
    "d1.loc[d1.ints.isin((1, 4))]"
   ]
  },
  {
   "cell_type": "markdown",
   "metadata": {},
   "source": [
    "Wherever possible, `pandas` (like `numpy`) will try to return a view on the same data rather than a copy, but because the indexing possibilities in `pandas` are much greater, the specific rules are more subtle, suffice to say, `.loc` and `.iloc` will generally help resolve the ambiguity and if you really need to break the link between two dataframes you can use the `.copy()` method."
   ]
  },
  {
   "cell_type": "code",
   "execution_count": 53,
   "metadata": {},
   "outputs": [
    {
     "data": {
      "text/plain": [
       "True"
      ]
     },
     "execution_count": 53,
     "metadata": {},
     "output_type": "execute_result"
    }
   ],
   "source": [
    "d1a = d1\n",
    "d1a is d1"
   ]
  },
  {
   "cell_type": "code",
   "execution_count": 54,
   "metadata": {},
   "outputs": [
    {
     "data": {
      "text/plain": [
       "False"
      ]
     },
     "execution_count": 54,
     "metadata": {},
     "output_type": "execute_result"
    }
   ],
   "source": [
    "d1b = d1.copy()\n",
    "d1b is d1"
   ]
  },
  {
   "cell_type": "markdown",
   "metadata": {},
   "source": [
    "### Manipulating DataFrames\n",
    "\n",
    "`DataFrames` are mutable; we can change the values in rows and columns and we can add/remove columns in place. `pandas` will usually operate in place, but some modifications (e.g. changing column dtype) require implicit data copies."
   ]
  },
  {
   "cell_type": "code",
   "execution_count": 55,
   "metadata": {},
   "outputs": [
    {
     "data": {
      "text/html": [
       "<div>\n",
       "<style scoped>\n",
       "    .dataframe tbody tr th:only-of-type {\n",
       "        vertical-align: middle;\n",
       "    }\n",
       "\n",
       "    .dataframe tbody tr th {\n",
       "        vertical-align: top;\n",
       "    }\n",
       "\n",
       "    .dataframe thead th {\n",
       "        text-align: right;\n",
       "    }\n",
       "</style>\n",
       "<table border=\"1\" class=\"dataframe\">\n",
       "  <thead>\n",
       "    <tr style=\"text-align: right;\">\n",
       "      <th></th>\n",
       "      <th>floats</th>\n",
       "      <th>ints</th>\n",
       "    </tr>\n",
       "  </thead>\n",
       "  <tbody>\n",
       "    <tr>\n",
       "      <th>five</th>\n",
       "      <td>5.0</td>\n",
       "      <td>5</td>\n",
       "    </tr>\n",
       "    <tr>\n",
       "      <th>four</th>\n",
       "      <td>3.0</td>\n",
       "      <td>3</td>\n",
       "    </tr>\n",
       "    <tr>\n",
       "      <th>one</th>\n",
       "      <td>1.0</td>\n",
       "      <td>1</td>\n",
       "    </tr>\n",
       "    <tr>\n",
       "      <th>three</th>\n",
       "      <td>3.0</td>\n",
       "      <td>3</td>\n",
       "    </tr>\n",
       "    <tr>\n",
       "      <th>two</th>\n",
       "      <td>2.0</td>\n",
       "      <td>2</td>\n",
       "    </tr>\n",
       "  </tbody>\n",
       "</table>\n",
       "</div>"
      ],
      "text/plain": [
       "       floats  ints\n",
       "five      5.0     5\n",
       "four      3.0     3\n",
       "one       1.0     1\n",
       "three     3.0     3\n",
       "two       2.0     2"
      ]
     },
     "execution_count": 55,
     "metadata": {},
     "output_type": "execute_result"
    }
   ],
   "source": [
    "d1.iloc[1] = (3.0, 3)\n",
    "d1"
   ]
  },
  {
   "cell_type": "markdown",
   "metadata": {},
   "source": [
    "Add a new column"
   ]
  },
  {
   "cell_type": "code",
   "execution_count": 56,
   "metadata": {},
   "outputs": [
    {
     "data": {
      "text/html": [
       "<div>\n",
       "<style scoped>\n",
       "    .dataframe tbody tr th:only-of-type {\n",
       "        vertical-align: middle;\n",
       "    }\n",
       "\n",
       "    .dataframe tbody tr th {\n",
       "        vertical-align: top;\n",
       "    }\n",
       "\n",
       "    .dataframe thead th {\n",
       "        text-align: right;\n",
       "    }\n",
       "</style>\n",
       "<table border=\"1\" class=\"dataframe\">\n",
       "  <thead>\n",
       "    <tr style=\"text-align: right;\">\n",
       "      <th></th>\n",
       "      <th>floats</th>\n",
       "      <th>ints</th>\n",
       "      <th>ratio</th>\n",
       "    </tr>\n",
       "  </thead>\n",
       "  <tbody>\n",
       "    <tr>\n",
       "      <th>five</th>\n",
       "      <td>5.0</td>\n",
       "      <td>5</td>\n",
       "      <td>0.5</td>\n",
       "    </tr>\n",
       "    <tr>\n",
       "      <th>four</th>\n",
       "      <td>3.0</td>\n",
       "      <td>3</td>\n",
       "      <td>0.5</td>\n",
       "    </tr>\n",
       "    <tr>\n",
       "      <th>one</th>\n",
       "      <td>1.0</td>\n",
       "      <td>1</td>\n",
       "      <td>0.5</td>\n",
       "    </tr>\n",
       "    <tr>\n",
       "      <th>three</th>\n",
       "      <td>3.0</td>\n",
       "      <td>3</td>\n",
       "      <td>0.5</td>\n",
       "    </tr>\n",
       "    <tr>\n",
       "      <th>two</th>\n",
       "      <td>2.0</td>\n",
       "      <td>2</td>\n",
       "      <td>0.5</td>\n",
       "    </tr>\n",
       "  </tbody>\n",
       "</table>\n",
       "</div>"
      ],
      "text/plain": [
       "       floats  ints  ratio\n",
       "five      5.0     5    0.5\n",
       "four      3.0     3    0.5\n",
       "one       1.0     1    0.5\n",
       "three     3.0     3    0.5\n",
       "two       2.0     2    0.5"
      ]
     },
     "execution_count": 56,
     "metadata": {},
     "output_type": "execute_result"
    }
   ],
   "source": [
    "d1['ratio'] = d1['ints'] / (2 * d1['floats'])\n",
    "d1"
   ]
  },
  {
   "cell_type": "markdown",
   "metadata": {},
   "source": [
    "\"Patching up\" dataframes by modifying individual cells or groups of cells can be a little bit tricky. The basic reason is that a lot of the operations you would like to use to address the cell will return a copy of the dataframe but in general you want to modify the original."
   ]
  },
  {
   "cell_type": "code",
   "execution_count": 58,
   "metadata": {},
   "outputs": [
    {
     "name": "stderr",
     "output_type": "stream",
     "text": [
      "/tmp/ipykernel_164/3754205575.py:1: SettingWithCopyWarning: \n",
      "A value is trying to be set on a copy of a slice from a DataFrame\n",
      "\n",
      "See the caveats in the documentation: https://pandas.pydata.org/pandas-docs/stable/user_guide/indexing.html#returning-a-view-versus-a-copy\n",
      "  d1['floats']['five'] = 5.1\n"
     ]
    }
   ],
   "source": [
    "d1['floats']['five'] = 5.1"
   ]
  },
  {
   "cell_type": "markdown",
   "metadata": {},
   "source": [
    "The heart of this issue is described in the warning you'll see given above, but if you only need to change a single (scalar) value you can use `pd.DataFrame.at`"
   ]
  },
  {
   "cell_type": "code",
   "execution_count": 59,
   "metadata": {},
   "outputs": [],
   "source": [
    "d1.at['five', 'floats'] = 5.0"
   ]
  },
  {
   "cell_type": "markdown",
   "metadata": {},
   "source": [
    "For more general cases you can use `pd.DataFrame.loc`, (N.B. Avoid chained indexing ([][])"
   ]
  },
  {
   "cell_type": "code",
   "execution_count": 60,
   "metadata": {},
   "outputs": [
    {
     "data": {
      "text/html": [
       "<div>\n",
       "<style scoped>\n",
       "    .dataframe tbody tr th:only-of-type {\n",
       "        vertical-align: middle;\n",
       "    }\n",
       "\n",
       "    .dataframe tbody tr th {\n",
       "        vertical-align: top;\n",
       "    }\n",
       "\n",
       "    .dataframe thead th {\n",
       "        text-align: right;\n",
       "    }\n",
       "</style>\n",
       "<table border=\"1\" class=\"dataframe\">\n",
       "  <thead>\n",
       "    <tr style=\"text-align: right;\">\n",
       "      <th></th>\n",
       "      <th>floats</th>\n",
       "      <th>ints</th>\n",
       "      <th>ratio</th>\n",
       "    </tr>\n",
       "  </thead>\n",
       "  <tbody>\n",
       "    <tr>\n",
       "      <th>five</th>\n",
       "      <td>5.1</td>\n",
       "      <td>5</td>\n",
       "      <td>0.5</td>\n",
       "    </tr>\n",
       "    <tr>\n",
       "      <th>four</th>\n",
       "      <td>3.1</td>\n",
       "      <td>3</td>\n",
       "      <td>0.5</td>\n",
       "    </tr>\n",
       "    <tr>\n",
       "      <th>one</th>\n",
       "      <td>1.1</td>\n",
       "      <td>1</td>\n",
       "      <td>0.5</td>\n",
       "    </tr>\n",
       "    <tr>\n",
       "      <th>three</th>\n",
       "      <td>3.1</td>\n",
       "      <td>3</td>\n",
       "      <td>0.5</td>\n",
       "    </tr>\n",
       "    <tr>\n",
       "      <th>two</th>\n",
       "      <td>2.1</td>\n",
       "      <td>2</td>\n",
       "      <td>0.5</td>\n",
       "    </tr>\n",
       "  </tbody>\n",
       "</table>\n",
       "</div>"
      ],
      "text/plain": [
       "       floats  ints  ratio\n",
       "five      5.1     5    0.5\n",
       "four      3.1     3    0.5\n",
       "one       1.1     1    0.5\n",
       "three     3.1     3    0.5\n",
       "two       2.1     2    0.5"
      ]
     },
     "execution_count": 60,
     "metadata": {},
     "output_type": "execute_result"
    }
   ],
   "source": [
    "d1.loc[:, 'floats'] += 0.1\n",
    "d1"
   ]
  },
  {
   "cell_type": "markdown",
   "metadata": {},
   "source": [
    "`pandas` also has facilities like `fillna` or `replace` to fill in multiple missing values using various strategies, we'll look at those later."
   ]
  },
  {
   "cell_type": "markdown",
   "metadata": {},
   "source": [
    "## DataFrame Methods\n",
    "\n",
    "There are *lots* of methods for operating on DataFrames, have a look at the tab completion and explore the documentation for them. In particular, take a look at the help for `describe`, `head` and `tail`. These are great for orienting yourself with a new dataset"
   ]
  },
  {
   "cell_type": "markdown",
   "metadata": {},
   "source": [
    "We won't have time to dive into all of the methods but we'll sample a few, then you should explore the documentation for others. Some of the most often used are\n",
    "\n",
    "* `min`, `max`\n",
    "* `mean`, `mode`, `median`\n",
    "* `max`, `min`, `idxmax`, `idxmin`\n",
    "* `any`, `all`\n",
    "* `astype`\n",
    "* `dropna`\n",
    "* `sort_index`, `sort_values`\n",
    "* `plot`\n",
    "\n",
    "Generally these will return another `DataFrame` with the results you are looking for, but you can also pass the `inplace=True` keyword argument which will modify the `DataFrame` in place and save some memory."
   ]
  },
  {
   "cell_type": "code",
   "execution_count": 61,
   "metadata": {},
   "outputs": [
    {
     "data": {
      "text/plain": [
       "floats    1.1\n",
       "ints      1.0\n",
       "ratio     0.5\n",
       "dtype: float64"
      ]
     },
     "execution_count": 61,
     "metadata": {},
     "output_type": "execute_result"
    }
   ],
   "source": [
    "d1.min()"
   ]
  },
  {
   "cell_type": "code",
   "execution_count": 62,
   "metadata": {},
   "outputs": [
    {
     "data": {
      "text/plain": [
       "floats     True\n",
       "ints       True\n",
       "ratio     False\n",
       "dtype: bool"
      ]
     },
     "execution_count": 62,
     "metadata": {},
     "output_type": "execute_result"
    }
   ],
   "source": [
    "(d1 > 3).any()"
   ]
  },
  {
   "cell_type": "markdown",
   "metadata": {},
   "source": [
    "You can coerce values to different type"
   ]
  },
  {
   "cell_type": "code",
   "execution_count": 63,
   "metadata": {},
   "outputs": [
    {
     "data": {
      "text/plain": [
       "five     5\n",
       "four     3\n",
       "one      1\n",
       "three    3\n",
       "two      2\n",
       "Name: floats, dtype: int64"
      ]
     },
     "execution_count": 63,
     "metadata": {},
     "output_type": "execute_result"
    }
   ],
   "source": [
    "d1['floats'].astype(int)"
   ]
  },
  {
   "cell_type": "markdown",
   "metadata": {},
   "source": [
    "And sort values (or indices)"
   ]
  },
  {
   "cell_type": "code",
   "execution_count": 64,
   "metadata": {},
   "outputs": [
    {
     "data": {
      "text/html": [
       "<div>\n",
       "<style scoped>\n",
       "    .dataframe tbody tr th:only-of-type {\n",
       "        vertical-align: middle;\n",
       "    }\n",
       "\n",
       "    .dataframe tbody tr th {\n",
       "        vertical-align: top;\n",
       "    }\n",
       "\n",
       "    .dataframe thead th {\n",
       "        text-align: right;\n",
       "    }\n",
       "</style>\n",
       "<table border=\"1\" class=\"dataframe\">\n",
       "  <thead>\n",
       "    <tr style=\"text-align: right;\">\n",
       "      <th></th>\n",
       "      <th>floats</th>\n",
       "      <th>ints</th>\n",
       "      <th>ratio</th>\n",
       "    </tr>\n",
       "  </thead>\n",
       "  <tbody>\n",
       "    <tr>\n",
       "      <th>one</th>\n",
       "      <td>1.1</td>\n",
       "      <td>1</td>\n",
       "      <td>0.5</td>\n",
       "    </tr>\n",
       "    <tr>\n",
       "      <th>two</th>\n",
       "      <td>2.1</td>\n",
       "      <td>2</td>\n",
       "      <td>0.5</td>\n",
       "    </tr>\n",
       "    <tr>\n",
       "      <th>four</th>\n",
       "      <td>3.1</td>\n",
       "      <td>3</td>\n",
       "      <td>0.5</td>\n",
       "    </tr>\n",
       "    <tr>\n",
       "      <th>three</th>\n",
       "      <td>3.1</td>\n",
       "      <td>3</td>\n",
       "      <td>0.5</td>\n",
       "    </tr>\n",
       "    <tr>\n",
       "      <th>five</th>\n",
       "      <td>5.1</td>\n",
       "      <td>5</td>\n",
       "      <td>0.5</td>\n",
       "    </tr>\n",
       "  </tbody>\n",
       "</table>\n",
       "</div>"
      ],
      "text/plain": [
       "       floats  ints  ratio\n",
       "one       1.1     1    0.5\n",
       "two       2.1     2    0.5\n",
       "four      3.1     3    0.5\n",
       "three     3.1     3    0.5\n",
       "five      5.1     5    0.5"
      ]
     },
     "execution_count": 64,
     "metadata": {},
     "output_type": "execute_result"
    }
   ],
   "source": [
    "d1.sort_values('floats')"
   ]
  },
  {
   "cell_type": "markdown",
   "metadata": {},
   "source": [
    "_**Exercise**: Calculate the mean value of the floats column and use it to calculate how far each float is from the mean_"
   ]
  },
  {
   "cell_type": "code",
   "execution_count": 74,
   "metadata": {},
   "outputs": [
    {
     "data": {
      "text/plain": [
       "five     2.2\n",
       "four     0.2\n",
       "one      1.8\n",
       "three    0.2\n",
       "two      0.8\n",
       "Name: floats, dtype: float64"
      ]
     },
     "execution_count": 74,
     "metadata": {},
     "output_type": "execute_result"
    }
   ],
   "source": [
    "(d1['floats'] - d1['floats'].mean()).abs()"
   ]
  },
  {
   "cell_type": "markdown",
   "metadata": {},
   "source": [
    "The `dropna` method can come in handy sometimes. In general, pandas is very good at [handling missing data](https://pandas.pydata.org/pandas-docs/stable/user_guide/missing_data.html), but in some other modules will choke when they encounter a `np.NaN`"
   ]
  },
  {
   "cell_type": "code",
   "execution_count": 78,
   "metadata": {},
   "outputs": [
    {
     "data": {
      "text/html": [
       "<div>\n",
       "<style scoped>\n",
       "    .dataframe tbody tr th:only-of-type {\n",
       "        vertical-align: middle;\n",
       "    }\n",
       "\n",
       "    .dataframe tbody tr th {\n",
       "        vertical-align: top;\n",
       "    }\n",
       "\n",
       "    .dataframe thead th {\n",
       "        text-align: right;\n",
       "    }\n",
       "</style>\n",
       "<table border=\"1\" class=\"dataframe\">\n",
       "  <thead>\n",
       "    <tr style=\"text-align: right;\">\n",
       "      <th></th>\n",
       "      <th>floats</th>\n",
       "      <th>ints</th>\n",
       "      <th>ratio</th>\n",
       "    </tr>\n",
       "  </thead>\n",
       "  <tbody>\n",
       "    <tr>\n",
       "      <th>five</th>\n",
       "      <td>5.1</td>\n",
       "      <td>5</td>\n",
       "      <td>0.5</td>\n",
       "    </tr>\n",
       "    <tr>\n",
       "      <th>four</th>\n",
       "      <td>3.1</td>\n",
       "      <td>3</td>\n",
       "      <td>0.5</td>\n",
       "    </tr>\n",
       "    <tr>\n",
       "      <th>one</th>\n",
       "      <td>1.1</td>\n",
       "      <td>1</td>\n",
       "      <td>0.5</td>\n",
       "    </tr>\n",
       "    <tr>\n",
       "      <th>three</th>\n",
       "      <td>NaN</td>\n",
       "      <td>3</td>\n",
       "      <td>0.5</td>\n",
       "    </tr>\n",
       "    <tr>\n",
       "      <th>two</th>\n",
       "      <td>2.1</td>\n",
       "      <td>2</td>\n",
       "      <td>0.5</td>\n",
       "    </tr>\n",
       "  </tbody>\n",
       "</table>\n",
       "</div>"
      ],
      "text/plain": [
       "       floats  ints  ratio\n",
       "five      5.1     5    0.5\n",
       "four      3.1     3    0.5\n",
       "one       1.1     1    0.5\n",
       "three     NaN     3    0.5\n",
       "two       2.1     2    0.5"
      ]
     },
     "execution_count": 78,
     "metadata": {},
     "output_type": "execute_result"
    }
   ],
   "source": [
    "d1.at['three', 'floats'] = np.NaN\n",
    "d1"
   ]
  },
  {
   "cell_type": "markdown",
   "metadata": {},
   "source": [
    "Operating directly on the numpy array..."
   ]
  },
  {
   "cell_type": "code",
   "execution_count": 76,
   "metadata": {},
   "outputs": [
    {
     "data": {
      "text/plain": [
       "nan"
      ]
     },
     "execution_count": 76,
     "metadata": {},
     "output_type": "execute_result"
    }
   ],
   "source": [
    "d1['floats'].values.mean()"
   ]
  },
  {
   "cell_type": "markdown",
   "metadata": {},
   "source": [
    "Operating through pandas..."
   ]
  },
  {
   "cell_type": "code",
   "execution_count": 79,
   "metadata": {},
   "outputs": [
    {
     "data": {
      "text/plain": [
       "2.8499999999999996"
      ]
     },
     "execution_count": 79,
     "metadata": {},
     "output_type": "execute_result"
    }
   ],
   "source": [
    "d1['floats'].mean()"
   ]
  },
  {
   "cell_type": "code",
   "execution_count": 80,
   "metadata": {},
   "outputs": [
    {
     "data": {
      "text/plain": [
       "2.8499999999999996"
      ]
     },
     "execution_count": 80,
     "metadata": {},
     "output_type": "execute_result"
    }
   ],
   "source": [
    "d1['floats'].dropna().values.mean()"
   ]
  },
  {
   "cell_type": "markdown",
   "metadata": {},
   "source": [
    "There are also convenience methods like `.fillna` for forward or backward filling missing values etc."
   ]
  },
  {
   "cell_type": "markdown",
   "metadata": {},
   "source": [
    "## Working with External Data\n",
    "\n",
    "Data comes in many forms from simple csv/json files, real-time APIs, structured binary files and many others. Try `pd.read_<TAB>` to see some of the `pandas` ingestion options. `read_csv` is the main workhorse for data sets which will fit on a single machine. It is way more flexible than it's name suggests (S3 buckets, https, compressed files, ...) and many of the arguments to `read_csv` will have equivalents for the other functions, so we'll start by looking at it.\n",
    "    \n",
    "We need a CSV to work with. The city of Vancouver has an [open data catalog](https://vancouver.ca/your-government/open-data-catalogue.aspx), which has CSV for some of the datasets. There's a dataset which lists all of the [community gardens and food trees](https://opendata.vancouver.ca/explore/dataset/community-gardens-and-food-trees/information/) maintained by the city. A copy of it is available in this directory called `CommunityGardensAndFoodTrees.csv`"
   ]
  },
  {
   "cell_type": "code",
   "execution_count": 81,
   "metadata": {},
   "outputs": [
    {
     "data": {
      "text/plain": [
       "(168, 20)"
      ]
     },
     "execution_count": 81,
     "metadata": {},
     "output_type": "execute_result"
    }
   ],
   "source": [
    "gardenDF = pd.read_csv(\n",
    "    \"https://opendata.vancouver.ca/explore/dataset/community-gardens-and-food-trees/download/?format=csv&timezone=America/Los_Angeles&lang=en&use_labels_for_header=true&csv_separator=%3B\",\n",
    "    delimiter=';'\n",
    ")\n",
    "gardenDF.shape"
   ]
  },
  {
   "cell_type": "code",
   "execution_count": 82,
   "metadata": {},
   "outputs": [
    {
     "data": {
      "text/html": [
       "<div>\n",
       "<style scoped>\n",
       "    .dataframe tbody tr th:only-of-type {\n",
       "        vertical-align: middle;\n",
       "    }\n",
       "\n",
       "    .dataframe tbody tr th {\n",
       "        vertical-align: top;\n",
       "    }\n",
       "\n",
       "    .dataframe thead th {\n",
       "        text-align: right;\n",
       "    }\n",
       "</style>\n",
       "<table border=\"1\" class=\"dataframe\">\n",
       "  <thead>\n",
       "    <tr style=\"text-align: right;\">\n",
       "      <th></th>\n",
       "      <th>MAPID</th>\n",
       "      <th>YEAR_CREATED</th>\n",
       "      <th>NAME</th>\n",
       "      <th>STREET_NUMBER</th>\n",
       "      <th>STREET_DIRECTION</th>\n",
       "      <th>STREET_NAME</th>\n",
       "      <th>STREET_TYPE</th>\n",
       "      <th>MERGED_ADDRESS</th>\n",
       "      <th>NUMBER_OF_PLOTS</th>\n",
       "      <th>NUMBER_OF_FOOD_TREES</th>\n",
       "      <th>NOTES</th>\n",
       "      <th>FOOD_TREE_VARIETIES</th>\n",
       "      <th>OTHER_FOOD_ASSETS</th>\n",
       "      <th>JURISDICTION</th>\n",
       "      <th>STEWARD_OR_MANAGING_ORGANIZATION</th>\n",
       "      <th>PUBLIC_E_MAIL</th>\n",
       "      <th>WEBSITE</th>\n",
       "      <th>Geo Local Area</th>\n",
       "      <th>Geom</th>\n",
       "      <th>geo_point_2d</th>\n",
       "    </tr>\n",
       "  </thead>\n",
       "  <tbody>\n",
       "    <tr>\n",
       "      <th>count</th>\n",
       "      <td>168</td>\n",
       "      <td>156</td>\n",
       "      <td>168</td>\n",
       "      <td>159</td>\n",
       "      <td>68</td>\n",
       "      <td>159</td>\n",
       "      <td>157</td>\n",
       "      <td>159</td>\n",
       "      <td>162.000000</td>\n",
       "      <td>65</td>\n",
       "      <td>7</td>\n",
       "      <td>56</td>\n",
       "      <td>1</td>\n",
       "      <td>167</td>\n",
       "      <td>119</td>\n",
       "      <td>81</td>\n",
       "      <td>60</td>\n",
       "      <td>166</td>\n",
       "      <td>167</td>\n",
       "      <td>167</td>\n",
       "    </tr>\n",
       "    <tr>\n",
       "      <th>unique</th>\n",
       "      <td>168</td>\n",
       "      <td>33</td>\n",
       "      <td>166</td>\n",
       "      <td>144</td>\n",
       "      <td>4</td>\n",
       "      <td>104</td>\n",
       "      <td>9</td>\n",
       "      <td>152</td>\n",
       "      <td>NaN</td>\n",
       "      <td>27</td>\n",
       "      <td>7</td>\n",
       "      <td>44</td>\n",
       "      <td>1</td>\n",
       "      <td>5</td>\n",
       "      <td>90</td>\n",
       "      <td>69</td>\n",
       "      <td>55</td>\n",
       "      <td>22</td>\n",
       "      <td>165</td>\n",
       "      <td>165</td>\n",
       "    </tr>\n",
       "    <tr>\n",
       "      <th>top</th>\n",
       "      <td>FA004</td>\n",
       "      <td>2011</td>\n",
       "      <td>HFBC Housing Foundation</td>\n",
       "      <td>2690</td>\n",
       "      <td>W</td>\n",
       "      <td>6th</td>\n",
       "      <td>Av</td>\n",
       "      <td>453 W 12th Av, Vancouver, BC</td>\n",
       "      <td>NaN</td>\n",
       "      <td>5</td>\n",
       "      <td>inc by 3 plots in 2016</td>\n",
       "      <td>Apple</td>\n",
       "      <td>Earth Tub composter</td>\n",
       "      <td>Private</td>\n",
       "      <td>Shifting Growth</td>\n",
       "      <td>foodsecurity@cnh.bc.ca</td>\n",
       "      <td>http://pinestreetgardens.org/</td>\n",
       "      <td>Mount Pleasant</td>\n",
       "      <td>{\"coordinates\": [-123.1139357, 49.2613159], \"t...</td>\n",
       "      <td>49.2613159,-123.1139357</td>\n",
       "    </tr>\n",
       "    <tr>\n",
       "      <th>freq</th>\n",
       "      <td>1</td>\n",
       "      <td>15</td>\n",
       "      <td>3</td>\n",
       "      <td>3</td>\n",
       "      <td>34</td>\n",
       "      <td>7</td>\n",
       "      <td>69</td>\n",
       "      <td>2</td>\n",
       "      <td>NaN</td>\n",
       "      <td>7</td>\n",
       "      <td>1</td>\n",
       "      <td>9</td>\n",
       "      <td>1</td>\n",
       "      <td>77</td>\n",
       "      <td>7</td>\n",
       "      <td>4</td>\n",
       "      <td>3</td>\n",
       "      <td>24</td>\n",
       "      <td>2</td>\n",
       "      <td>2</td>\n",
       "    </tr>\n",
       "    <tr>\n",
       "      <th>mean</th>\n",
       "      <td>NaN</td>\n",
       "      <td>NaN</td>\n",
       "      <td>NaN</td>\n",
       "      <td>NaN</td>\n",
       "      <td>NaN</td>\n",
       "      <td>NaN</td>\n",
       "      <td>NaN</td>\n",
       "      <td>NaN</td>\n",
       "      <td>28.580247</td>\n",
       "      <td>NaN</td>\n",
       "      <td>NaN</td>\n",
       "      <td>NaN</td>\n",
       "      <td>NaN</td>\n",
       "      <td>NaN</td>\n",
       "      <td>NaN</td>\n",
       "      <td>NaN</td>\n",
       "      <td>NaN</td>\n",
       "      <td>NaN</td>\n",
       "      <td>NaN</td>\n",
       "      <td>NaN</td>\n",
       "    </tr>\n",
       "    <tr>\n",
       "      <th>std</th>\n",
       "      <td>NaN</td>\n",
       "      <td>NaN</td>\n",
       "      <td>NaN</td>\n",
       "      <td>NaN</td>\n",
       "      <td>NaN</td>\n",
       "      <td>NaN</td>\n",
       "      <td>NaN</td>\n",
       "      <td>NaN</td>\n",
       "      <td>49.977477</td>\n",
       "      <td>NaN</td>\n",
       "      <td>NaN</td>\n",
       "      <td>NaN</td>\n",
       "      <td>NaN</td>\n",
       "      <td>NaN</td>\n",
       "      <td>NaN</td>\n",
       "      <td>NaN</td>\n",
       "      <td>NaN</td>\n",
       "      <td>NaN</td>\n",
       "      <td>NaN</td>\n",
       "      <td>NaN</td>\n",
       "    </tr>\n",
       "    <tr>\n",
       "      <th>min</th>\n",
       "      <td>NaN</td>\n",
       "      <td>NaN</td>\n",
       "      <td>NaN</td>\n",
       "      <td>NaN</td>\n",
       "      <td>NaN</td>\n",
       "      <td>NaN</td>\n",
       "      <td>NaN</td>\n",
       "      <td>NaN</td>\n",
       "      <td>0.000000</td>\n",
       "      <td>NaN</td>\n",
       "      <td>NaN</td>\n",
       "      <td>NaN</td>\n",
       "      <td>NaN</td>\n",
       "      <td>NaN</td>\n",
       "      <td>NaN</td>\n",
       "      <td>NaN</td>\n",
       "      <td>NaN</td>\n",
       "      <td>NaN</td>\n",
       "      <td>NaN</td>\n",
       "      <td>NaN</td>\n",
       "    </tr>\n",
       "    <tr>\n",
       "      <th>25%</th>\n",
       "      <td>NaN</td>\n",
       "      <td>NaN</td>\n",
       "      <td>NaN</td>\n",
       "      <td>NaN</td>\n",
       "      <td>NaN</td>\n",
       "      <td>NaN</td>\n",
       "      <td>NaN</td>\n",
       "      <td>NaN</td>\n",
       "      <td>4.000000</td>\n",
       "      <td>NaN</td>\n",
       "      <td>NaN</td>\n",
       "      <td>NaN</td>\n",
       "      <td>NaN</td>\n",
       "      <td>NaN</td>\n",
       "      <td>NaN</td>\n",
       "      <td>NaN</td>\n",
       "      <td>NaN</td>\n",
       "      <td>NaN</td>\n",
       "      <td>NaN</td>\n",
       "      <td>NaN</td>\n",
       "    </tr>\n",
       "    <tr>\n",
       "      <th>50%</th>\n",
       "      <td>NaN</td>\n",
       "      <td>NaN</td>\n",
       "      <td>NaN</td>\n",
       "      <td>NaN</td>\n",
       "      <td>NaN</td>\n",
       "      <td>NaN</td>\n",
       "      <td>NaN</td>\n",
       "      <td>NaN</td>\n",
       "      <td>12.000000</td>\n",
       "      <td>NaN</td>\n",
       "      <td>NaN</td>\n",
       "      <td>NaN</td>\n",
       "      <td>NaN</td>\n",
       "      <td>NaN</td>\n",
       "      <td>NaN</td>\n",
       "      <td>NaN</td>\n",
       "      <td>NaN</td>\n",
       "      <td>NaN</td>\n",
       "      <td>NaN</td>\n",
       "      <td>NaN</td>\n",
       "    </tr>\n",
       "    <tr>\n",
       "      <th>75%</th>\n",
       "      <td>NaN</td>\n",
       "      <td>NaN</td>\n",
       "      <td>NaN</td>\n",
       "      <td>NaN</td>\n",
       "      <td>NaN</td>\n",
       "      <td>NaN</td>\n",
       "      <td>NaN</td>\n",
       "      <td>NaN</td>\n",
       "      <td>38.000000</td>\n",
       "      <td>NaN</td>\n",
       "      <td>NaN</td>\n",
       "      <td>NaN</td>\n",
       "      <td>NaN</td>\n",
       "      <td>NaN</td>\n",
       "      <td>NaN</td>\n",
       "      <td>NaN</td>\n",
       "      <td>NaN</td>\n",
       "      <td>NaN</td>\n",
       "      <td>NaN</td>\n",
       "      <td>NaN</td>\n",
       "    </tr>\n",
       "    <tr>\n",
       "      <th>max</th>\n",
       "      <td>NaN</td>\n",
       "      <td>NaN</td>\n",
       "      <td>NaN</td>\n",
       "      <td>NaN</td>\n",
       "      <td>NaN</td>\n",
       "      <td>NaN</td>\n",
       "      <td>NaN</td>\n",
       "      <td>NaN</td>\n",
       "      <td>507.000000</td>\n",
       "      <td>NaN</td>\n",
       "      <td>NaN</td>\n",
       "      <td>NaN</td>\n",
       "      <td>NaN</td>\n",
       "      <td>NaN</td>\n",
       "      <td>NaN</td>\n",
       "      <td>NaN</td>\n",
       "      <td>NaN</td>\n",
       "      <td>NaN</td>\n",
       "      <td>NaN</td>\n",
       "      <td>NaN</td>\n",
       "    </tr>\n",
       "  </tbody>\n",
       "</table>\n",
       "</div>"
      ],
      "text/plain": [
       "        MAPID YEAR_CREATED                     NAME STREET_NUMBER  \\\n",
       "count     168          156                      168           159   \n",
       "unique    168           33                      166           144   \n",
       "top     FA004         2011  HFBC Housing Foundation          2690   \n",
       "freq        1           15                        3             3   \n",
       "mean      NaN          NaN                      NaN           NaN   \n",
       "std       NaN          NaN                      NaN           NaN   \n",
       "min       NaN          NaN                      NaN           NaN   \n",
       "25%       NaN          NaN                      NaN           NaN   \n",
       "50%       NaN          NaN                      NaN           NaN   \n",
       "75%       NaN          NaN                      NaN           NaN   \n",
       "max       NaN          NaN                      NaN           NaN   \n",
       "\n",
       "       STREET_DIRECTION STREET_NAME STREET_TYPE                MERGED_ADDRESS  \\\n",
       "count                68         159         157                           159   \n",
       "unique                4         104           9                           152   \n",
       "top                   W         6th          Av  453 W 12th Av, Vancouver, BC   \n",
       "freq                 34           7          69                             2   \n",
       "mean                NaN         NaN         NaN                           NaN   \n",
       "std                 NaN         NaN         NaN                           NaN   \n",
       "min                 NaN         NaN         NaN                           NaN   \n",
       "25%                 NaN         NaN         NaN                           NaN   \n",
       "50%                 NaN         NaN         NaN                           NaN   \n",
       "75%                 NaN         NaN         NaN                           NaN   \n",
       "max                 NaN         NaN         NaN                           NaN   \n",
       "\n",
       "        NUMBER_OF_PLOTS NUMBER_OF_FOOD_TREES                   NOTES  \\\n",
       "count        162.000000                   65                       7   \n",
       "unique              NaN                   27                       7   \n",
       "top                 NaN                    5  inc by 3 plots in 2016   \n",
       "freq                NaN                    7                       1   \n",
       "mean          28.580247                  NaN                     NaN   \n",
       "std           49.977477                  NaN                     NaN   \n",
       "min            0.000000                  NaN                     NaN   \n",
       "25%            4.000000                  NaN                     NaN   \n",
       "50%           12.000000                  NaN                     NaN   \n",
       "75%           38.000000                  NaN                     NaN   \n",
       "max          507.000000                  NaN                     NaN   \n",
       "\n",
       "       FOOD_TREE_VARIETIES    OTHER_FOOD_ASSETS JURISDICTION  \\\n",
       "count                   56                    1          167   \n",
       "unique                  44                    1            5   \n",
       "top                  Apple  Earth Tub composter      Private   \n",
       "freq                     9                    1           77   \n",
       "mean                   NaN                  NaN          NaN   \n",
       "std                    NaN                  NaN          NaN   \n",
       "min                    NaN                  NaN          NaN   \n",
       "25%                    NaN                  NaN          NaN   \n",
       "50%                    NaN                  NaN          NaN   \n",
       "75%                    NaN                  NaN          NaN   \n",
       "max                    NaN                  NaN          NaN   \n",
       "\n",
       "       STEWARD_OR_MANAGING_ORGANIZATION           PUBLIC_E_MAIL  \\\n",
       "count                               119                      81   \n",
       "unique                               90                      69   \n",
       "top                     Shifting Growth  foodsecurity@cnh.bc.ca   \n",
       "freq                                  7                       4   \n",
       "mean                                NaN                     NaN   \n",
       "std                                 NaN                     NaN   \n",
       "min                                 NaN                     NaN   \n",
       "25%                                 NaN                     NaN   \n",
       "50%                                 NaN                     NaN   \n",
       "75%                                 NaN                     NaN   \n",
       "max                                 NaN                     NaN   \n",
       "\n",
       "                              WEBSITE  Geo Local Area  \\\n",
       "count                              60             166   \n",
       "unique                             55              22   \n",
       "top     http://pinestreetgardens.org/  Mount Pleasant   \n",
       "freq                                3              24   \n",
       "mean                              NaN             NaN   \n",
       "std                               NaN             NaN   \n",
       "min                               NaN             NaN   \n",
       "25%                               NaN             NaN   \n",
       "50%                               NaN             NaN   \n",
       "75%                               NaN             NaN   \n",
       "max                               NaN             NaN   \n",
       "\n",
       "                                                     Geom  \\\n",
       "count                                                 167   \n",
       "unique                                                165   \n",
       "top     {\"coordinates\": [-123.1139357, 49.2613159], \"t...   \n",
       "freq                                                    2   \n",
       "mean                                                  NaN   \n",
       "std                                                   NaN   \n",
       "min                                                   NaN   \n",
       "25%                                                   NaN   \n",
       "50%                                                   NaN   \n",
       "75%                                                   NaN   \n",
       "max                                                   NaN   \n",
       "\n",
       "                   geo_point_2d  \n",
       "count                       167  \n",
       "unique                      165  \n",
       "top     49.2613159,-123.1139357  \n",
       "freq                          2  \n",
       "mean                        NaN  \n",
       "std                         NaN  \n",
       "min                         NaN  \n",
       "25%                         NaN  \n",
       "50%                         NaN  \n",
       "75%                         NaN  \n",
       "max                         NaN  "
      ]
     },
     "execution_count": 82,
     "metadata": {},
     "output_type": "execute_result"
    }
   ],
   "source": [
    "gardenDF.describe(include='all', datetime_is_numeric=True)"
   ]
  },
  {
   "cell_type": "markdown",
   "metadata": {},
   "source": [
    "So there are 168 rows, with 20 columns, here are the fist few rows"
   ]
  },
  {
   "cell_type": "code",
   "execution_count": 84,
   "metadata": {},
   "outputs": [
    {
     "data": {
      "text/html": [
       "<div>\n",
       "<style scoped>\n",
       "    .dataframe tbody tr th:only-of-type {\n",
       "        vertical-align: middle;\n",
       "    }\n",
       "\n",
       "    .dataframe tbody tr th {\n",
       "        vertical-align: top;\n",
       "    }\n",
       "\n",
       "    .dataframe thead th {\n",
       "        text-align: right;\n",
       "    }\n",
       "</style>\n",
       "<table border=\"1\" class=\"dataframe\">\n",
       "  <thead>\n",
       "    <tr style=\"text-align: right;\">\n",
       "      <th></th>\n",
       "      <th>MAPID</th>\n",
       "      <th>YEAR_CREATED</th>\n",
       "      <th>NAME</th>\n",
       "      <th>STREET_NUMBER</th>\n",
       "      <th>STREET_DIRECTION</th>\n",
       "      <th>STREET_NAME</th>\n",
       "      <th>STREET_TYPE</th>\n",
       "      <th>MERGED_ADDRESS</th>\n",
       "      <th>NUMBER_OF_PLOTS</th>\n",
       "      <th>NUMBER_OF_FOOD_TREES</th>\n",
       "      <th>NOTES</th>\n",
       "      <th>FOOD_TREE_VARIETIES</th>\n",
       "      <th>OTHER_FOOD_ASSETS</th>\n",
       "      <th>JURISDICTION</th>\n",
       "      <th>STEWARD_OR_MANAGING_ORGANIZATION</th>\n",
       "      <th>PUBLIC_E_MAIL</th>\n",
       "      <th>WEBSITE</th>\n",
       "      <th>Geo Local Area</th>\n",
       "      <th>Geom</th>\n",
       "      <th>geo_point_2d</th>\n",
       "    </tr>\n",
       "  </thead>\n",
       "  <tbody>\n",
       "    <tr>\n",
       "      <th>0</th>\n",
       "      <td>FA004</td>\n",
       "      <td>2007</td>\n",
       "      <td>1755 West 14th - Private apartment building ga...</td>\n",
       "      <td>1755</td>\n",
       "      <td>W</td>\n",
       "      <td>14th</td>\n",
       "      <td>Av</td>\n",
       "      <td>1755 W 14th Av, Vancouver, BC</td>\n",
       "      <td>NaN</td>\n",
       "      <td>NaN</td>\n",
       "      <td>NaN</td>\n",
       "      <td>NaN</td>\n",
       "      <td>NaN</td>\n",
       "      <td>Private</td>\n",
       "      <td>Apartment residents</td>\n",
       "      <td>NaN</td>\n",
       "      <td>NaN</td>\n",
       "      <td>Fairview</td>\n",
       "      <td>{\"coordinates\": [-123.1448703, 49.2590496], \"t...</td>\n",
       "      <td>49.2590496,-123.1448703</td>\n",
       "    </tr>\n",
       "    <tr>\n",
       "      <th>1</th>\n",
       "      <td>FA008</td>\n",
       "      <td>NaN</td>\n",
       "      <td>Arbutus Village Park</td>\n",
       "      <td>4202</td>\n",
       "      <td>NaN</td>\n",
       "      <td>Valley</td>\n",
       "      <td>Drive</td>\n",
       "      <td>4202 Valley Drive, Vancouver, BC</td>\n",
       "      <td>0.0</td>\n",
       "      <td>9</td>\n",
       "      <td>NaN</td>\n",
       "      <td>Crabapple</td>\n",
       "      <td>NaN</td>\n",
       "      <td>Park Board</td>\n",
       "      <td>NaN</td>\n",
       "      <td>NaN</td>\n",
       "      <td>NaN</td>\n",
       "      <td>Arbutus Ridge</td>\n",
       "      <td>{\"coordinates\": [-123.1549951, 49.2507172], \"t...</td>\n",
       "      <td>49.2507172,-123.1549951</td>\n",
       "    </tr>\n",
       "    <tr>\n",
       "      <th>2</th>\n",
       "      <td>FA010</td>\n",
       "      <td>NaN</td>\n",
       "      <td>Barclay Heritage Square</td>\n",
       "      <td>1433</td>\n",
       "      <td>NaN</td>\n",
       "      <td>Barclay</td>\n",
       "      <td>St</td>\n",
       "      <td>1433 Barclay St, Vancouver, BC</td>\n",
       "      <td>0.0</td>\n",
       "      <td>2</td>\n",
       "      <td>NaN</td>\n",
       "      <td>Apple</td>\n",
       "      <td>NaN</td>\n",
       "      <td>Park Board</td>\n",
       "      <td>NaN</td>\n",
       "      <td>NaN</td>\n",
       "      <td>NaN</td>\n",
       "      <td>West End</td>\n",
       "      <td>{\"coordinates\": [-123.13284501, 49.28738755], ...</td>\n",
       "      <td>49.28738755,-123.13284501</td>\n",
       "    </tr>\n",
       "    <tr>\n",
       "      <th>3</th>\n",
       "      <td>FA018</td>\n",
       "      <td>2011</td>\n",
       "      <td>Cartier Park</td>\n",
       "      <td>390</td>\n",
       "      <td>E</td>\n",
       "      <td>36th</td>\n",
       "      <td>Av</td>\n",
       "      <td>390 E 36th Av, Vancouver, BC</td>\n",
       "      <td>0.0</td>\n",
       "      <td>6</td>\n",
       "      <td>NaN</td>\n",
       "      <td>Apple</td>\n",
       "      <td>NaN</td>\n",
       "      <td>Park Board</td>\n",
       "      <td>NaN</td>\n",
       "      <td>NaN</td>\n",
       "      <td>NaN</td>\n",
       "      <td>Riley Park</td>\n",
       "      <td>{\"coordinates\": [-123.0975115, 49.2376052], \"t...</td>\n",
       "      <td>49.2376052,-123.0975115</td>\n",
       "    </tr>\n",
       "    <tr>\n",
       "      <th>4</th>\n",
       "      <td>FA021</td>\n",
       "      <td>2013</td>\n",
       "      <td>Cedar Cottage Neighourhood House Edible Garden</td>\n",
       "      <td>4065</td>\n",
       "      <td>NaN</td>\n",
       "      <td>Victoria</td>\n",
       "      <td>Drive</td>\n",
       "      <td>4065 Victoria Drive, Vancouver, BC</td>\n",
       "      <td>12.0</td>\n",
       "      <td>NaN</td>\n",
       "      <td>NaN</td>\n",
       "      <td>NaN</td>\n",
       "      <td>NaN</td>\n",
       "      <td>Private</td>\n",
       "      <td>Cedar Cottage Neighbourhood House</td>\n",
       "      <td>NaN</td>\n",
       "      <td>NaN</td>\n",
       "      <td>Kensington-Cedar Cottage</td>\n",
       "      <td>{\"coordinates\": [-123.0651476, 49.2488871], \"t...</td>\n",
       "      <td>49.2488871,-123.0651476</td>\n",
       "    </tr>\n",
       "  </tbody>\n",
       "</table>\n",
       "</div>"
      ],
      "text/plain": [
       "   MAPID YEAR_CREATED                                               NAME  \\\n",
       "0  FA004         2007  1755 West 14th - Private apartment building ga...   \n",
       "1  FA008          NaN                               Arbutus Village Park   \n",
       "2  FA010          NaN                            Barclay Heritage Square   \n",
       "3  FA018         2011                                       Cartier Park   \n",
       "4  FA021         2013     Cedar Cottage Neighourhood House Edible Garden   \n",
       "\n",
       "  STREET_NUMBER STREET_DIRECTION STREET_NAME STREET_TYPE  \\\n",
       "0          1755                W        14th          Av   \n",
       "1          4202              NaN      Valley       Drive   \n",
       "2          1433              NaN     Barclay          St   \n",
       "3           390                E        36th          Av   \n",
       "4          4065              NaN    Victoria       Drive   \n",
       "\n",
       "                       MERGED_ADDRESS  NUMBER_OF_PLOTS NUMBER_OF_FOOD_TREES  \\\n",
       "0       1755 W 14th Av, Vancouver, BC              NaN                  NaN   \n",
       "1    4202 Valley Drive, Vancouver, BC              0.0                    9   \n",
       "2      1433 Barclay St, Vancouver, BC              0.0                    2   \n",
       "3        390 E 36th Av, Vancouver, BC              0.0                    6   \n",
       "4  4065 Victoria Drive, Vancouver, BC             12.0                  NaN   \n",
       "\n",
       "  NOTES FOOD_TREE_VARIETIES OTHER_FOOD_ASSETS JURISDICTION  \\\n",
       "0   NaN                 NaN               NaN      Private   \n",
       "1   NaN           Crabapple               NaN   Park Board   \n",
       "2   NaN               Apple               NaN   Park Board   \n",
       "3   NaN               Apple               NaN   Park Board   \n",
       "4   NaN                 NaN               NaN      Private   \n",
       "\n",
       "    STEWARD_OR_MANAGING_ORGANIZATION PUBLIC_E_MAIL WEBSITE  \\\n",
       "0                Apartment residents           NaN     NaN   \n",
       "1                                NaN           NaN     NaN   \n",
       "2                                NaN           NaN     NaN   \n",
       "3                                NaN           NaN     NaN   \n",
       "4  Cedar Cottage Neighbourhood House           NaN     NaN   \n",
       "\n",
       "             Geo Local Area  \\\n",
       "0                  Fairview   \n",
       "1             Arbutus Ridge   \n",
       "2                  West End   \n",
       "3                Riley Park   \n",
       "4  Kensington-Cedar Cottage   \n",
       "\n",
       "                                                Geom  \\\n",
       "0  {\"coordinates\": [-123.1448703, 49.2590496], \"t...   \n",
       "1  {\"coordinates\": [-123.1549951, 49.2507172], \"t...   \n",
       "2  {\"coordinates\": [-123.13284501, 49.28738755], ...   \n",
       "3  {\"coordinates\": [-123.0975115, 49.2376052], \"t...   \n",
       "4  {\"coordinates\": [-123.0651476, 49.2488871], \"t...   \n",
       "\n",
       "                geo_point_2d  \n",
       "0    49.2590496,-123.1448703  \n",
       "1    49.2507172,-123.1549951  \n",
       "2  49.28738755,-123.13284501  \n",
       "3    49.2376052,-123.0975115  \n",
       "4    49.2488871,-123.0651476  "
      ]
     },
     "execution_count": 84,
     "metadata": {},
     "output_type": "execute_result"
    }
   ],
   "source": [
    "gardenDF.head()"
   ]
  },
  {
   "cell_type": "markdown",
   "metadata": {},
   "source": [
    "So we can tell things like the gardens were created (`YEAR_CREATED`), and where the are (`LATITUDE`, `LONGITUDE`), and who's responsible for them (`STEWARD_OR_MANAGING_ORGANIZATION`). "
   ]
  },
  {
   "cell_type": "markdown",
   "metadata": {},
   "source": [
    "Now it is time to clean the data. This is a hugely important step and will generally eat a lot of your time, but it is worth doing right. Having mistakes in your data can undermine everything you subsequently try to infer from it.\n",
    "\n",
    "First let's look at the index, the default is to index by integer, but we could have picked any column instead. It looks like the first column is unique (`MAPID`) and so let's use that (chosing the index right can make your life much easier when adding data or combining multiple DataFrames). The `inplace=True` argument means modify the existing dataframe rather than returning a modified copy"
   ]
  },
  {
   "cell_type": "code",
   "execution_count": 85,
   "metadata": {},
   "outputs": [],
   "source": [
    "gardenDF.set_index('MAPID', inplace=True)"
   ]
  },
  {
   "cell_type": "markdown",
   "metadata": {},
   "source": [
    "One useful trick when cleaning data is to look at the unique values in a column. You'll often catch coding mistakes or values being used as placeholders this way, e.g."
   ]
  },
  {
   "cell_type": "code",
   "execution_count": 87,
   "metadata": {},
   "outputs": [
    {
     "data": {
      "text/plain": [
       "array(['2007', nan, '2011', '2013', '2010', '1993', '2006', '2014',\n",
       "       '1995', '2012', '2009', '2008', '1996', '2015', '1988', '2003',\n",
       "       '1985', '1999', '2016', '2017', '2018', '2019', '2020', '1978',\n",
       "       '2022', '1942', '1986', 'pre 2000', '1990', '2002', 'pre-1970',\n",
       "       'Pre-2010', '1992', '2021'], dtype=object)"
      ]
     },
     "execution_count": 87,
     "metadata": {},
     "output_type": "execute_result"
    }
   ],
   "source": [
    "gardenDF['YEAR_CREATED'].unique()"
   ]
  },
  {
   "cell_type": "markdown",
   "metadata": {},
   "source": [
    "Value counts can also be useful to spot outliers"
   ]
  },
  {
   "cell_type": "code",
   "execution_count": 89,
   "metadata": {},
   "outputs": [
    {
     "data": {
      "text/plain": [
       "Mount Pleasant              24\n",
       "Hastings-Sunrise            16\n",
       "Kensington-Cedar Cottage    15\n",
       "Kitsilano                   14\n",
       "Renfrew-Collingwood         11\n",
       "Strathcona                  10\n",
       "Grandview-Woodland          10\n",
       "Fairview                     9\n",
       "Killarney                    7\n",
       "Marpole                      7\n",
       "Riley Park                   7\n",
       "West End                     7\n",
       "Sunset                       5\n",
       "West Point Grey              4\n",
       "Kerrisdale                   3\n",
       "Dunbar-Southlands            3\n",
       "Victoria-Fraserview          3\n",
       "Oakridge                     3\n",
       "Arbutus Ridge                2\n",
       "Downtown                     2\n",
       "South Cambie                 2\n",
       "Shaughnessy                  2\n",
       "Name: Geo Local Area, dtype: int64"
      ]
     },
     "execution_count": 89,
     "metadata": {},
     "output_type": "execute_result"
    }
   ],
   "source": [
    "gardenDF['Geo Local Area'].value_counts()"
   ]
  },
  {
   "cell_type": "markdown",
   "metadata": {},
   "source": [
    "For the `YEAR_CREATED`, `Pre-2010`, `pre-1970` and `pre 2000` are kind of usless (and inconsistent!) so let's toss them"
   ]
  },
  {
   "cell_type": "code",
   "execution_count": 92,
   "metadata": {},
   "outputs": [
    {
     "data": {
      "text/plain": [
       "array(['2007', nan, '2011', '2013', '2010', '1993', '2006', '2014',\n",
       "       '1995', '2012', '2009', '2008', '1996', '2015', '1988', '2003',\n",
       "       '1985', '1999', '2016', '2017', '2018', '2019', '2020', '1978',\n",
       "       '2022', '1942', '1986', '1990', '2002', '1992', '2021'],\n",
       "      dtype=object)"
      ]
     },
     "execution_count": 92,
     "metadata": {},
     "output_type": "execute_result"
    }
   ],
   "source": [
    "for badLabel in ['Pre-2010', 'pre-1970', 'pre 2000']:\n",
    "    gardenDF = gardenDF.loc[gardenDF['YEAR_CREATED'] != badLabel]\n",
    "\n",
    "gardenDF['YEAR_CREATED'].unique()"
   ]
  },
  {
   "cell_type": "markdown",
   "metadata": {},
   "source": [
    "There's still an `np.NaN`, and the years are strings (numbers would be better, or even dates). We can take a closer look at the rows which are missing their `YEAR_CREATED` using isnull"
   ]
  },
  {
   "cell_type": "code",
   "execution_count": 93,
   "metadata": {},
   "outputs": [
    {
     "data": {
      "text/html": [
       "<div>\n",
       "<style scoped>\n",
       "    .dataframe tbody tr th:only-of-type {\n",
       "        vertical-align: middle;\n",
       "    }\n",
       "\n",
       "    .dataframe tbody tr th {\n",
       "        vertical-align: top;\n",
       "    }\n",
       "\n",
       "    .dataframe thead th {\n",
       "        text-align: right;\n",
       "    }\n",
       "</style>\n",
       "<table border=\"1\" class=\"dataframe\">\n",
       "  <thead>\n",
       "    <tr style=\"text-align: right;\">\n",
       "      <th></th>\n",
       "      <th>YEAR_CREATED</th>\n",
       "      <th>NAME</th>\n",
       "      <th>STREET_NUMBER</th>\n",
       "      <th>STREET_DIRECTION</th>\n",
       "      <th>STREET_NAME</th>\n",
       "      <th>STREET_TYPE</th>\n",
       "      <th>MERGED_ADDRESS</th>\n",
       "      <th>NUMBER_OF_PLOTS</th>\n",
       "      <th>NUMBER_OF_FOOD_TREES</th>\n",
       "      <th>NOTES</th>\n",
       "      <th>FOOD_TREE_VARIETIES</th>\n",
       "      <th>OTHER_FOOD_ASSETS</th>\n",
       "      <th>JURISDICTION</th>\n",
       "      <th>STEWARD_OR_MANAGING_ORGANIZATION</th>\n",
       "      <th>PUBLIC_E_MAIL</th>\n",
       "      <th>WEBSITE</th>\n",
       "      <th>Geo Local Area</th>\n",
       "      <th>Geom</th>\n",
       "      <th>geo_point_2d</th>\n",
       "    </tr>\n",
       "    <tr>\n",
       "      <th>MAPID</th>\n",
       "      <th></th>\n",
       "      <th></th>\n",
       "      <th></th>\n",
       "      <th></th>\n",
       "      <th></th>\n",
       "      <th></th>\n",
       "      <th></th>\n",
       "      <th></th>\n",
       "      <th></th>\n",
       "      <th></th>\n",
       "      <th></th>\n",
       "      <th></th>\n",
       "      <th></th>\n",
       "      <th></th>\n",
       "      <th></th>\n",
       "      <th></th>\n",
       "      <th></th>\n",
       "      <th></th>\n",
       "      <th></th>\n",
       "    </tr>\n",
       "  </thead>\n",
       "  <tbody>\n",
       "    <tr>\n",
       "      <th>FA008</th>\n",
       "      <td>NaN</td>\n",
       "      <td>Arbutus Village Park</td>\n",
       "      <td>4202</td>\n",
       "      <td>NaN</td>\n",
       "      <td>Valley</td>\n",
       "      <td>Drive</td>\n",
       "      <td>4202 Valley Drive, Vancouver, BC</td>\n",
       "      <td>0.0</td>\n",
       "      <td>9</td>\n",
       "      <td>NaN</td>\n",
       "      <td>Crabapple</td>\n",
       "      <td>NaN</td>\n",
       "      <td>Park Board</td>\n",
       "      <td>NaN</td>\n",
       "      <td>NaN</td>\n",
       "      <td>NaN</td>\n",
       "      <td>Arbutus Ridge</td>\n",
       "      <td>{\"coordinates\": [-123.1549951, 49.2507172], \"t...</td>\n",
       "      <td>49.2507172,-123.1549951</td>\n",
       "    </tr>\n",
       "    <tr>\n",
       "      <th>FA010</th>\n",
       "      <td>NaN</td>\n",
       "      <td>Barclay Heritage Square</td>\n",
       "      <td>1433</td>\n",
       "      <td>NaN</td>\n",
       "      <td>Barclay</td>\n",
       "      <td>St</td>\n",
       "      <td>1433 Barclay St, Vancouver, BC</td>\n",
       "      <td>0.0</td>\n",
       "      <td>2</td>\n",
       "      <td>NaN</td>\n",
       "      <td>Apple</td>\n",
       "      <td>NaN</td>\n",
       "      <td>Park Board</td>\n",
       "      <td>NaN</td>\n",
       "      <td>NaN</td>\n",
       "      <td>NaN</td>\n",
       "      <td>West End</td>\n",
       "      <td>{\"coordinates\": [-123.13284501, 49.28738755], ...</td>\n",
       "      <td>49.28738755,-123.13284501</td>\n",
       "    </tr>\n",
       "    <tr>\n",
       "      <th>FA022</th>\n",
       "      <td>NaN</td>\n",
       "      <td>Champlain Heights Park</td>\n",
       "      <td>3351</td>\n",
       "      <td>NaN</td>\n",
       "      <td>Maquinna</td>\n",
       "      <td>Drive</td>\n",
       "      <td>3351 Maquinna  Drive, Vancouver, BC</td>\n",
       "      <td>0.0</td>\n",
       "      <td>1</td>\n",
       "      <td>NaN</td>\n",
       "      <td>Apple</td>\n",
       "      <td>NaN</td>\n",
       "      <td>Park Board</td>\n",
       "      <td>NaN</td>\n",
       "      <td>NaN</td>\n",
       "      <td>NaN</td>\n",
       "      <td>Killarney</td>\n",
       "      <td>{\"coordinates\": [-123.0326603, 49.2164913], \"t...</td>\n",
       "      <td>49.2164913,-123.0326603</td>\n",
       "    </tr>\n",
       "    <tr>\n",
       "      <th>FA148</th>\n",
       "      <td>NaN</td>\n",
       "      <td>Westmount Park</td>\n",
       "      <td>4651</td>\n",
       "      <td>W</td>\n",
       "      <td>2nd</td>\n",
       "      <td>Av</td>\n",
       "      <td>4651 W 2nd Av, Vancouver, BC</td>\n",
       "      <td>0.0</td>\n",
       "      <td>2</td>\n",
       "      <td>NaN</td>\n",
       "      <td>Apple</td>\n",
       "      <td>NaN</td>\n",
       "      <td>Park Board</td>\n",
       "      <td>NaN</td>\n",
       "      <td>NaN</td>\n",
       "      <td>NaN</td>\n",
       "      <td>West Point Grey</td>\n",
       "      <td>{\"coordinates\": [-123.2144218, 49.2718445], \"t...</td>\n",
       "      <td>49.2718445,-123.2144218</td>\n",
       "    </tr>\n",
       "    <tr>\n",
       "      <th>FA176</th>\n",
       "      <td>NaN</td>\n",
       "      <td>John Hendry (Trout Lake) Park</td>\n",
       "      <td>3300</td>\n",
       "      <td>NaN</td>\n",
       "      <td>Victoria</td>\n",
       "      <td>Drive</td>\n",
       "      <td>3300 Victoria Drive, Vancouver, BC</td>\n",
       "      <td>4.0</td>\n",
       "      <td>NaN</td>\n",
       "      <td>NaN</td>\n",
       "      <td>NaN</td>\n",
       "      <td>NaN</td>\n",
       "      <td>Park Board</td>\n",
       "      <td>NaN</td>\n",
       "      <td>NaN</td>\n",
       "      <td>https://cedarcottagefoodnetwork.com/projects-e...</td>\n",
       "      <td>Kensington-Cedar Cottage</td>\n",
       "      <td>{\"coordinates\": [-123.06367871, 49.255098], \"t...</td>\n",
       "      <td>49.255098,-123.06367871</td>\n",
       "    </tr>\n",
       "    <tr>\n",
       "      <th>FA017</th>\n",
       "      <td>NaN</td>\n",
       "      <td>Carnarvon Park</td>\n",
       "      <td>2995</td>\n",
       "      <td>W</td>\n",
       "      <td>19th</td>\n",
       "      <td>Av</td>\n",
       "      <td>2995 W 19th Av, Vancouver, BC</td>\n",
       "      <td>0.0</td>\n",
       "      <td>15</td>\n",
       "      <td>NaN</td>\n",
       "      <td>Apple</td>\n",
       "      <td>NaN</td>\n",
       "      <td>Park Board</td>\n",
       "      <td>NaN</td>\n",
       "      <td>NaN</td>\n",
       "      <td>NaN</td>\n",
       "      <td>Arbutus Ridge</td>\n",
       "      <td>{\"coordinates\": [-123.171486, 49.2565789], \"ty...</td>\n",
       "      <td>49.2565789,-123.171486</td>\n",
       "    </tr>\n",
       "    <tr>\n",
       "      <th>FA024</th>\n",
       "      <td>NaN</td>\n",
       "      <td>Charles Park</td>\n",
       "      <td>3400</td>\n",
       "      <td>NaN</td>\n",
       "      <td>Charles</td>\n",
       "      <td>St</td>\n",
       "      <td>3400 Charles St, Vancouver, BC</td>\n",
       "      <td>0.0</td>\n",
       "      <td>1</td>\n",
       "      <td>NaN</td>\n",
       "      <td>Crabapple</td>\n",
       "      <td>NaN</td>\n",
       "      <td>Park Board</td>\n",
       "      <td>NaN</td>\n",
       "      <td>NaN</td>\n",
       "      <td>NaN</td>\n",
       "      <td>Hastings-Sunrise</td>\n",
       "      <td>{\"coordinates\": [-123.0308947, 49.2732079], \"t...</td>\n",
       "      <td>49.2732079,-123.0308947</td>\n",
       "    </tr>\n",
       "    <tr>\n",
       "      <th>FA046</th>\n",
       "      <td>NaN</td>\n",
       "      <td>Delamont Park</td>\n",
       "      <td>2091</td>\n",
       "      <td>W</td>\n",
       "      <td>7th</td>\n",
       "      <td>Av</td>\n",
       "      <td>2091 W 7th Av, Vancouver, BC</td>\n",
       "      <td>0.0</td>\n",
       "      <td>8</td>\n",
       "      <td>NaN</td>\n",
       "      <td>Cherry, Asian pear, plum, hazelnut</td>\n",
       "      <td>NaN</td>\n",
       "      <td>Park Board</td>\n",
       "      <td>NaN</td>\n",
       "      <td>NaN</td>\n",
       "      <td>NaN</td>\n",
       "      <td>Kitsilano</td>\n",
       "      <td>{\"coordinates\": [-123.152619, 49.2658197], \"ty...</td>\n",
       "      <td>49.2658197,-123.152619</td>\n",
       "    </tr>\n",
       "    <tr>\n",
       "      <th>FA055</th>\n",
       "      <td>NaN</td>\n",
       "      <td>Everett Crowley Park</td>\n",
       "      <td>8200</td>\n",
       "      <td>NaN</td>\n",
       "      <td>Kerr</td>\n",
       "      <td>St</td>\n",
       "      <td>8200 Kerr St, Vancouver, BC</td>\n",
       "      <td>0.0</td>\n",
       "      <td>2</td>\n",
       "      <td>NaN</td>\n",
       "      <td>Cherry, pear</td>\n",
       "      <td>NaN</td>\n",
       "      <td>Park Board</td>\n",
       "      <td>NaN</td>\n",
       "      <td>NaN</td>\n",
       "      <td>NaN</td>\n",
       "      <td>Killarney</td>\n",
       "      <td>{\"coordinates\": [-123.0380764, 49.2111116], \"t...</td>\n",
       "      <td>49.2111116,-123.0380764</td>\n",
       "    </tr>\n",
       "    <tr>\n",
       "      <th>FA184</th>\n",
       "      <td>NaN</td>\n",
       "      <td>Van Tech secondary school</td>\n",
       "      <td>2600</td>\n",
       "      <td>E</td>\n",
       "      <td>Broadway</td>\n",
       "      <td>NaN</td>\n",
       "      <td>2600 E Broadway , Vancouver, BC</td>\n",
       "      <td>0.0</td>\n",
       "      <td>5</td>\n",
       "      <td>NaN</td>\n",
       "      <td>NaN</td>\n",
       "      <td>NaN</td>\n",
       "      <td>Private</td>\n",
       "      <td>NaN</td>\n",
       "      <td>NaN</td>\n",
       "      <td>NaN</td>\n",
       "      <td>Renfrew-Collingwood</td>\n",
       "      <td>{\"coordinates\": [-123.051705, 49.261776], \"typ...</td>\n",
       "      <td>49.261776,-123.051705</td>\n",
       "    </tr>\n",
       "    <tr>\n",
       "      <th>FA014</th>\n",
       "      <td>NaN</td>\n",
       "      <td>Burrard View Park</td>\n",
       "      <td>650</td>\n",
       "      <td>N</td>\n",
       "      <td>Penticton</td>\n",
       "      <td>St</td>\n",
       "      <td>650 N Penticton St, Vancouver, BC</td>\n",
       "      <td>0.0</td>\n",
       "      <td>1</td>\n",
       "      <td>NaN</td>\n",
       "      <td>Cherry</td>\n",
       "      <td>NaN</td>\n",
       "      <td>Park Board</td>\n",
       "      <td>NaN</td>\n",
       "      <td>NaN</td>\n",
       "      <td>NaN</td>\n",
       "      <td>Hastings-Sunrise</td>\n",
       "      <td>{\"coordinates\": [-123.0519175, 49.2912065], \"t...</td>\n",
       "      <td>49.2912065,-123.0519175</td>\n",
       "    </tr>\n",
       "    <tr>\n",
       "      <th>FA145</th>\n",
       "      <td>NaN</td>\n",
       "      <td>Van Dusen Botanical Gardens</td>\n",
       "      <td>5251</td>\n",
       "      <td>NaN</td>\n",
       "      <td>Oak</td>\n",
       "      <td>St</td>\n",
       "      <td>5251 Oak St, Vancouver, BC</td>\n",
       "      <td>0.0</td>\n",
       "      <td>yes</td>\n",
       "      <td>NaN</td>\n",
       "      <td>Heritage apple</td>\n",
       "      <td>NaN</td>\n",
       "      <td>Park Board</td>\n",
       "      <td>Van Dusen Botanical Garden Association</td>\n",
       "      <td>NaN</td>\n",
       "      <td>NaN</td>\n",
       "      <td>Shaughnessy</td>\n",
       "      <td>{\"coordinates\": [-123.1280384, 49.2375047], \"t...</td>\n",
       "      <td>49.2375047,-123.1280384</td>\n",
       "    </tr>\n",
       "  </tbody>\n",
       "</table>\n",
       "</div>"
      ],
      "text/plain": [
       "      YEAR_CREATED                           NAME STREET_NUMBER  \\\n",
       "MAPID                                                             \n",
       "FA008          NaN           Arbutus Village Park          4202   \n",
       "FA010          NaN        Barclay Heritage Square          1433   \n",
       "FA022          NaN         Champlain Heights Park          3351   \n",
       "FA148          NaN                 Westmount Park          4651   \n",
       "FA176          NaN  John Hendry (Trout Lake) Park          3300   \n",
       "FA017          NaN                 Carnarvon Park          2995   \n",
       "FA024          NaN                   Charles Park          3400   \n",
       "FA046          NaN                  Delamont Park          2091   \n",
       "FA055          NaN           Everett Crowley Park          8200   \n",
       "FA184          NaN      Van Tech secondary school          2600   \n",
       "FA014          NaN              Burrard View Park           650   \n",
       "FA145          NaN    Van Dusen Botanical Gardens          5251   \n",
       "\n",
       "      STREET_DIRECTION STREET_NAME STREET_TYPE  \\\n",
       "MAPID                                            \n",
       "FA008              NaN      Valley       Drive   \n",
       "FA010              NaN     Barclay          St   \n",
       "FA022              NaN    Maquinna       Drive   \n",
       "FA148                W         2nd          Av   \n",
       "FA176              NaN    Victoria       Drive   \n",
       "FA017                W        19th          Av   \n",
       "FA024              NaN     Charles          St   \n",
       "FA046                W         7th          Av   \n",
       "FA055              NaN        Kerr          St   \n",
       "FA184                E    Broadway         NaN   \n",
       "FA014                N   Penticton          St   \n",
       "FA145              NaN         Oak          St   \n",
       "\n",
       "                            MERGED_ADDRESS  NUMBER_OF_PLOTS  \\\n",
       "MAPID                                                         \n",
       "FA008     4202 Valley Drive, Vancouver, BC              0.0   \n",
       "FA010       1433 Barclay St, Vancouver, BC              0.0   \n",
       "FA022  3351 Maquinna  Drive, Vancouver, BC              0.0   \n",
       "FA148         4651 W 2nd Av, Vancouver, BC              0.0   \n",
       "FA176   3300 Victoria Drive, Vancouver, BC              4.0   \n",
       "FA017        2995 W 19th Av, Vancouver, BC              0.0   \n",
       "FA024       3400 Charles St, Vancouver, BC              0.0   \n",
       "FA046         2091 W 7th Av, Vancouver, BC              0.0   \n",
       "FA055          8200 Kerr St, Vancouver, BC              0.0   \n",
       "FA184      2600 E Broadway , Vancouver, BC              0.0   \n",
       "FA014    650 N Penticton St, Vancouver, BC              0.0   \n",
       "FA145           5251 Oak St, Vancouver, BC              0.0   \n",
       "\n",
       "      NUMBER_OF_FOOD_TREES NOTES                 FOOD_TREE_VARIETIES  \\\n",
       "MAPID                                                                  \n",
       "FA008                    9   NaN                           Crabapple   \n",
       "FA010                    2   NaN                               Apple   \n",
       "FA022                    1   NaN                               Apple   \n",
       "FA148                    2   NaN                               Apple   \n",
       "FA176                  NaN   NaN                                 NaN   \n",
       "FA017                   15   NaN                               Apple   \n",
       "FA024                    1   NaN                           Crabapple   \n",
       "FA046                    8   NaN  Cherry, Asian pear, plum, hazelnut   \n",
       "FA055                    2   NaN                        Cherry, pear   \n",
       "FA184                    5   NaN                                 NaN   \n",
       "FA014                    1   NaN                              Cherry   \n",
       "FA145                  yes   NaN                      Heritage apple   \n",
       "\n",
       "      OTHER_FOOD_ASSETS JURISDICTION        STEWARD_OR_MANAGING_ORGANIZATION  \\\n",
       "MAPID                                                                          \n",
       "FA008               NaN   Park Board                                     NaN   \n",
       "FA010               NaN   Park Board                                     NaN   \n",
       "FA022               NaN   Park Board                                     NaN   \n",
       "FA148               NaN   Park Board                                     NaN   \n",
       "FA176               NaN   Park Board                                     NaN   \n",
       "FA017               NaN   Park Board                                     NaN   \n",
       "FA024               NaN   Park Board                                     NaN   \n",
       "FA046               NaN   Park Board                                     NaN   \n",
       "FA055               NaN   Park Board                                     NaN   \n",
       "FA184               NaN      Private                                     NaN   \n",
       "FA014               NaN   Park Board                                     NaN   \n",
       "FA145               NaN   Park Board  Van Dusen Botanical Garden Association   \n",
       "\n",
       "      PUBLIC_E_MAIL                                            WEBSITE  \\\n",
       "MAPID                                                                    \n",
       "FA008           NaN                                                NaN   \n",
       "FA010           NaN                                                NaN   \n",
       "FA022           NaN                                                NaN   \n",
       "FA148           NaN                                                NaN   \n",
       "FA176           NaN  https://cedarcottagefoodnetwork.com/projects-e...   \n",
       "FA017           NaN                                                NaN   \n",
       "FA024           NaN                                                NaN   \n",
       "FA046           NaN                                                NaN   \n",
       "FA055           NaN                                                NaN   \n",
       "FA184           NaN                                                NaN   \n",
       "FA014           NaN                                                NaN   \n",
       "FA145           NaN                                                NaN   \n",
       "\n",
       "                 Geo Local Area  \\\n",
       "MAPID                             \n",
       "FA008             Arbutus Ridge   \n",
       "FA010                  West End   \n",
       "FA022                 Killarney   \n",
       "FA148           West Point Grey   \n",
       "FA176  Kensington-Cedar Cottage   \n",
       "FA017             Arbutus Ridge   \n",
       "FA024          Hastings-Sunrise   \n",
       "FA046                 Kitsilano   \n",
       "FA055                 Killarney   \n",
       "FA184       Renfrew-Collingwood   \n",
       "FA014          Hastings-Sunrise   \n",
       "FA145               Shaughnessy   \n",
       "\n",
       "                                                    Geom  \\\n",
       "MAPID                                                      \n",
       "FA008  {\"coordinates\": [-123.1549951, 49.2507172], \"t...   \n",
       "FA010  {\"coordinates\": [-123.13284501, 49.28738755], ...   \n",
       "FA022  {\"coordinates\": [-123.0326603, 49.2164913], \"t...   \n",
       "FA148  {\"coordinates\": [-123.2144218, 49.2718445], \"t...   \n",
       "FA176  {\"coordinates\": [-123.06367871, 49.255098], \"t...   \n",
       "FA017  {\"coordinates\": [-123.171486, 49.2565789], \"ty...   \n",
       "FA024  {\"coordinates\": [-123.0308947, 49.2732079], \"t...   \n",
       "FA046  {\"coordinates\": [-123.152619, 49.2658197], \"ty...   \n",
       "FA055  {\"coordinates\": [-123.0380764, 49.2111116], \"t...   \n",
       "FA184  {\"coordinates\": [-123.051705, 49.261776], \"typ...   \n",
       "FA014  {\"coordinates\": [-123.0519175, 49.2912065], \"t...   \n",
       "FA145  {\"coordinates\": [-123.1280384, 49.2375047], \"t...   \n",
       "\n",
       "                    geo_point_2d  \n",
       "MAPID                             \n",
       "FA008    49.2507172,-123.1549951  \n",
       "FA010  49.28738755,-123.13284501  \n",
       "FA022    49.2164913,-123.0326603  \n",
       "FA148    49.2718445,-123.2144218  \n",
       "FA176    49.255098,-123.06367871  \n",
       "FA017     49.2565789,-123.171486  \n",
       "FA024    49.2732079,-123.0308947  \n",
       "FA046     49.2658197,-123.152619  \n",
       "FA055    49.2111116,-123.0380764  \n",
       "FA184      49.261776,-123.051705  \n",
       "FA014    49.2912065,-123.0519175  \n",
       "FA145    49.2375047,-123.1280384  "
      ]
     },
     "execution_count": 93,
     "metadata": {},
     "output_type": "execute_result"
    }
   ],
   "source": [
    "gardenDF.loc[gardenDF['YEAR_CREATED'].isnull()]"
   ]
  },
  {
   "cell_type": "markdown",
   "metadata": {},
   "source": [
    "Pandas has some facilities for [dealing with missing data](https://pandas.pydata.org/docs/user_guide/missing_data.html) as well as some helpful default behaviours. Additionally, the `.isna` and `.notna` methods can help you explicitly deal with missing values during operations, e.g."
   ]
  },
  {
   "cell_type": "code",
   "execution_count": 94,
   "metadata": {},
   "outputs": [
    {
     "data": {
      "text/html": [
       "<div>\n",
       "<style scoped>\n",
       "    .dataframe tbody tr th:only-of-type {\n",
       "        vertical-align: middle;\n",
       "    }\n",
       "\n",
       "    .dataframe tbody tr th {\n",
       "        vertical-align: top;\n",
       "    }\n",
       "\n",
       "    .dataframe thead th {\n",
       "        text-align: right;\n",
       "    }\n",
       "</style>\n",
       "<table border=\"1\" class=\"dataframe\">\n",
       "  <thead>\n",
       "    <tr style=\"text-align: right;\">\n",
       "      <th></th>\n",
       "      <th>a</th>\n",
       "      <th>b</th>\n",
       "      <th>c</th>\n",
       "      <th>d</th>\n",
       "    </tr>\n",
       "  </thead>\n",
       "  <tbody>\n",
       "    <tr>\n",
       "      <th>one</th>\n",
       "      <td>1.724743</td>\n",
       "      <td>-1.636603</td>\n",
       "      <td>1.701103</td>\n",
       "      <td>1.161161</td>\n",
       "    </tr>\n",
       "    <tr>\n",
       "      <th>two</th>\n",
       "      <td>0.398679</td>\n",
       "      <td>1.654663</td>\n",
       "      <td>-0.661988</td>\n",
       "      <td>-0.119093</td>\n",
       "    </tr>\n",
       "    <tr>\n",
       "      <th>three</th>\n",
       "      <td>-0.407866</td>\n",
       "      <td>-1.584049</td>\n",
       "      <td>0.078967</td>\n",
       "      <td>NaN</td>\n",
       "    </tr>\n",
       "    <tr>\n",
       "      <th>four</th>\n",
       "      <td>-0.261323</td>\n",
       "      <td>0.516619</td>\n",
       "      <td>-1.998521</td>\n",
       "      <td>-0.117124</td>\n",
       "    </tr>\n",
       "  </tbody>\n",
       "</table>\n",
       "</div>"
      ],
      "text/plain": [
       "              a         b         c         d\n",
       "one    1.724743 -1.636603  1.701103  1.161161\n",
       "two    0.398679  1.654663 -0.661988 -0.119093\n",
       "three -0.407866 -1.584049  0.078967       NaN\n",
       "four  -0.261323  0.516619 -1.998521 -0.117124"
      ]
     },
     "execution_count": 94,
     "metadata": {},
     "output_type": "execute_result"
    }
   ],
   "source": [
    "missingDF = pd.DataFrame(\n",
    "    np.random.randn(4, 3),\n",
    "    index = ['one', 'two', 'three', 'four'],\n",
    "    columns = ['a', 'b', 'c']\n",
    ")\n",
    "missingDF['d'] = list(np.random.randn(2)) + [np.nan] + [np.random.randn()]\n",
    "missingDF"
   ]
  },
  {
   "cell_type": "markdown",
   "metadata": {},
   "source": [
    "_**Exercise**:In some cases you might want to patch up missing data by combining one DataFrame with another, or by interpolating from nearby values_\n",
    "\n",
    "  * _Use `.fillna` to fill with the value from the row above and/or below_\n",
    "  * _Fill with the mean of the other column values_\n",
    "  * _Fill with the mean of the other row values (`NotImplemented`, can `.T` help?)_"
   ]
  },
  {
   "cell_type": "code",
   "execution_count": 99,
   "metadata": {},
   "outputs": [
    {
     "data": {
      "text/html": [
       "<div>\n",
       "<style scoped>\n",
       "    .dataframe tbody tr th:only-of-type {\n",
       "        vertical-align: middle;\n",
       "    }\n",
       "\n",
       "    .dataframe tbody tr th {\n",
       "        vertical-align: top;\n",
       "    }\n",
       "\n",
       "    .dataframe thead th {\n",
       "        text-align: right;\n",
       "    }\n",
       "</style>\n",
       "<table border=\"1\" class=\"dataframe\">\n",
       "  <thead>\n",
       "    <tr style=\"text-align: right;\">\n",
       "      <th></th>\n",
       "      <th>a</th>\n",
       "      <th>b</th>\n",
       "      <th>c</th>\n",
       "      <th>d</th>\n",
       "    </tr>\n",
       "  </thead>\n",
       "  <tbody>\n",
       "    <tr>\n",
       "      <th>one</th>\n",
       "      <td>1.724743</td>\n",
       "      <td>-1.636603</td>\n",
       "      <td>1.701103</td>\n",
       "      <td>1.161161</td>\n",
       "    </tr>\n",
       "    <tr>\n",
       "      <th>two</th>\n",
       "      <td>0.398679</td>\n",
       "      <td>1.654663</td>\n",
       "      <td>-0.661988</td>\n",
       "      <td>-0.119093</td>\n",
       "    </tr>\n",
       "    <tr>\n",
       "      <th>three</th>\n",
       "      <td>-0.407866</td>\n",
       "      <td>-1.584049</td>\n",
       "      <td>0.078967</td>\n",
       "      <td>-0.119093</td>\n",
       "    </tr>\n",
       "    <tr>\n",
       "      <th>four</th>\n",
       "      <td>-0.261323</td>\n",
       "      <td>0.516619</td>\n",
       "      <td>-1.998521</td>\n",
       "      <td>-0.117124</td>\n",
       "    </tr>\n",
       "  </tbody>\n",
       "</table>\n",
       "</div>"
      ],
      "text/plain": [
       "              a         b         c         d\n",
       "one    1.724743 -1.636603  1.701103  1.161161\n",
       "two    0.398679  1.654663 -0.661988 -0.119093\n",
       "three -0.407866 -1.584049  0.078967 -0.119093\n",
       "four  -0.261323  0.516619 -1.998521 -0.117124"
      ]
     },
     "execution_count": 99,
     "metadata": {},
     "output_type": "execute_result"
    }
   ],
   "source": [
    "missingDF.fillna(method='ffill')"
   ]
  },
  {
   "cell_type": "code",
   "execution_count": 100,
   "metadata": {},
   "outputs": [
    {
     "data": {
      "text/html": [
       "<div>\n",
       "<style scoped>\n",
       "    .dataframe tbody tr th:only-of-type {\n",
       "        vertical-align: middle;\n",
       "    }\n",
       "\n",
       "    .dataframe tbody tr th {\n",
       "        vertical-align: top;\n",
       "    }\n",
       "\n",
       "    .dataframe thead th {\n",
       "        text-align: right;\n",
       "    }\n",
       "</style>\n",
       "<table border=\"1\" class=\"dataframe\">\n",
       "  <thead>\n",
       "    <tr style=\"text-align: right;\">\n",
       "      <th></th>\n",
       "      <th>a</th>\n",
       "      <th>b</th>\n",
       "      <th>c</th>\n",
       "      <th>d</th>\n",
       "    </tr>\n",
       "  </thead>\n",
       "  <tbody>\n",
       "    <tr>\n",
       "      <th>one</th>\n",
       "      <td>1.724743</td>\n",
       "      <td>-1.636603</td>\n",
       "      <td>1.701103</td>\n",
       "      <td>1.161161</td>\n",
       "    </tr>\n",
       "    <tr>\n",
       "      <th>two</th>\n",
       "      <td>0.398679</td>\n",
       "      <td>1.654663</td>\n",
       "      <td>-0.661988</td>\n",
       "      <td>-0.119093</td>\n",
       "    </tr>\n",
       "    <tr>\n",
       "      <th>three</th>\n",
       "      <td>-0.407866</td>\n",
       "      <td>-1.584049</td>\n",
       "      <td>0.078967</td>\n",
       "      <td>0.308315</td>\n",
       "    </tr>\n",
       "    <tr>\n",
       "      <th>four</th>\n",
       "      <td>-0.261323</td>\n",
       "      <td>0.516619</td>\n",
       "      <td>-1.998521</td>\n",
       "      <td>-0.117124</td>\n",
       "    </tr>\n",
       "  </tbody>\n",
       "</table>\n",
       "</div>"
      ],
      "text/plain": [
       "              a         b         c         d\n",
       "one    1.724743 -1.636603  1.701103  1.161161\n",
       "two    0.398679  1.654663 -0.661988 -0.119093\n",
       "three -0.407866 -1.584049  0.078967  0.308315\n",
       "four  -0.261323  0.516619 -1.998521 -0.117124"
      ]
     },
     "execution_count": 100,
     "metadata": {},
     "output_type": "execute_result"
    }
   ],
   "source": [
    "missingDF.fillna(missingDF.mean())"
   ]
  },
  {
   "cell_type": "code",
   "execution_count": 102,
   "metadata": {},
   "outputs": [
    {
     "data": {
      "text/html": [
       "<div>\n",
       "<style scoped>\n",
       "    .dataframe tbody tr th:only-of-type {\n",
       "        vertical-align: middle;\n",
       "    }\n",
       "\n",
       "    .dataframe tbody tr th {\n",
       "        vertical-align: top;\n",
       "    }\n",
       "\n",
       "    .dataframe thead th {\n",
       "        text-align: right;\n",
       "    }\n",
       "</style>\n",
       "<table border=\"1\" class=\"dataframe\">\n",
       "  <thead>\n",
       "    <tr style=\"text-align: right;\">\n",
       "      <th></th>\n",
       "      <th>one</th>\n",
       "      <th>two</th>\n",
       "      <th>three</th>\n",
       "      <th>four</th>\n",
       "    </tr>\n",
       "  </thead>\n",
       "  <tbody>\n",
       "    <tr>\n",
       "      <th>a</th>\n",
       "      <td>1.724743</td>\n",
       "      <td>0.398679</td>\n",
       "      <td>-0.407866</td>\n",
       "      <td>-0.261323</td>\n",
       "    </tr>\n",
       "    <tr>\n",
       "      <th>b</th>\n",
       "      <td>-1.636603</td>\n",
       "      <td>1.654663</td>\n",
       "      <td>-1.584049</td>\n",
       "      <td>0.516619</td>\n",
       "    </tr>\n",
       "    <tr>\n",
       "      <th>c</th>\n",
       "      <td>1.701103</td>\n",
       "      <td>-0.661988</td>\n",
       "      <td>0.078967</td>\n",
       "      <td>-1.998521</td>\n",
       "    </tr>\n",
       "    <tr>\n",
       "      <th>d</th>\n",
       "      <td>1.161161</td>\n",
       "      <td>-0.119093</td>\n",
       "      <td>NaN</td>\n",
       "      <td>-0.117124</td>\n",
       "    </tr>\n",
       "  </tbody>\n",
       "</table>\n",
       "</div>"
      ],
      "text/plain": [
       "        one       two     three      four\n",
       "a  1.724743  0.398679 -0.407866 -0.261323\n",
       "b -1.636603  1.654663 -1.584049  0.516619\n",
       "c  1.701103 -0.661988  0.078967 -1.998521\n",
       "d  1.161161 -0.119093       NaN -0.117124"
      ]
     },
     "execution_count": 102,
     "metadata": {},
     "output_type": "execute_result"
    }
   ],
   "source": [
    "missingDF.T"
   ]
  },
  {
   "cell_type": "markdown",
   "metadata": {},
   "source": [
    "Getting back to our example, for cases where that isn't possible (like here, where I'm too lazy), you can also just throw away the rows without valid years"
   ]
  },
  {
   "cell_type": "code",
   "execution_count": 103,
   "metadata": {},
   "outputs": [
    {
     "data": {
      "text/html": [
       "<div>\n",
       "<style scoped>\n",
       "    .dataframe tbody tr th:only-of-type {\n",
       "        vertical-align: middle;\n",
       "    }\n",
       "\n",
       "    .dataframe tbody tr th {\n",
       "        vertical-align: top;\n",
       "    }\n",
       "\n",
       "    .dataframe thead th {\n",
       "        text-align: right;\n",
       "    }\n",
       "</style>\n",
       "<table border=\"1\" class=\"dataframe\">\n",
       "  <thead>\n",
       "    <tr style=\"text-align: right;\">\n",
       "      <th></th>\n",
       "      <th>YEAR_CREATED</th>\n",
       "      <th>NAME</th>\n",
       "      <th>STREET_NUMBER</th>\n",
       "      <th>STREET_DIRECTION</th>\n",
       "      <th>STREET_NAME</th>\n",
       "      <th>STREET_TYPE</th>\n",
       "      <th>MERGED_ADDRESS</th>\n",
       "      <th>NUMBER_OF_PLOTS</th>\n",
       "      <th>NUMBER_OF_FOOD_TREES</th>\n",
       "      <th>NOTES</th>\n",
       "      <th>FOOD_TREE_VARIETIES</th>\n",
       "      <th>OTHER_FOOD_ASSETS</th>\n",
       "      <th>JURISDICTION</th>\n",
       "      <th>STEWARD_OR_MANAGING_ORGANIZATION</th>\n",
       "      <th>PUBLIC_E_MAIL</th>\n",
       "      <th>WEBSITE</th>\n",
       "      <th>Geo Local Area</th>\n",
       "      <th>Geom</th>\n",
       "      <th>geo_point_2d</th>\n",
       "    </tr>\n",
       "    <tr>\n",
       "      <th>MAPID</th>\n",
       "      <th></th>\n",
       "      <th></th>\n",
       "      <th></th>\n",
       "      <th></th>\n",
       "      <th></th>\n",
       "      <th></th>\n",
       "      <th></th>\n",
       "      <th></th>\n",
       "      <th></th>\n",
       "      <th></th>\n",
       "      <th></th>\n",
       "      <th></th>\n",
       "      <th></th>\n",
       "      <th></th>\n",
       "      <th></th>\n",
       "      <th></th>\n",
       "      <th></th>\n",
       "      <th></th>\n",
       "      <th></th>\n",
       "    </tr>\n",
       "  </thead>\n",
       "  <tbody>\n",
       "    <tr>\n",
       "      <th>FA004</th>\n",
       "      <td>2007</td>\n",
       "      <td>1755 West 14th - Private apartment building ga...</td>\n",
       "      <td>1755</td>\n",
       "      <td>W</td>\n",
       "      <td>14th</td>\n",
       "      <td>Av</td>\n",
       "      <td>1755 W 14th Av, Vancouver, BC</td>\n",
       "      <td>NaN</td>\n",
       "      <td>NaN</td>\n",
       "      <td>NaN</td>\n",
       "      <td>NaN</td>\n",
       "      <td>NaN</td>\n",
       "      <td>Private</td>\n",
       "      <td>Apartment residents</td>\n",
       "      <td>NaN</td>\n",
       "      <td>NaN</td>\n",
       "      <td>Fairview</td>\n",
       "      <td>{\"coordinates\": [-123.1448703, 49.2590496], \"t...</td>\n",
       "      <td>49.2590496,-123.1448703</td>\n",
       "    </tr>\n",
       "    <tr>\n",
       "      <th>FA018</th>\n",
       "      <td>2011</td>\n",
       "      <td>Cartier Park</td>\n",
       "      <td>390</td>\n",
       "      <td>E</td>\n",
       "      <td>36th</td>\n",
       "      <td>Av</td>\n",
       "      <td>390 E 36th Av, Vancouver, BC</td>\n",
       "      <td>0.0</td>\n",
       "      <td>6</td>\n",
       "      <td>NaN</td>\n",
       "      <td>Apple</td>\n",
       "      <td>NaN</td>\n",
       "      <td>Park Board</td>\n",
       "      <td>NaN</td>\n",
       "      <td>NaN</td>\n",
       "      <td>NaN</td>\n",
       "      <td>Riley Park</td>\n",
       "      <td>{\"coordinates\": [-123.0975115, 49.2376052], \"t...</td>\n",
       "      <td>49.2376052,-123.0975115</td>\n",
       "    </tr>\n",
       "    <tr>\n",
       "      <th>FA021</th>\n",
       "      <td>2013</td>\n",
       "      <td>Cedar Cottage Neighourhood House Edible Garden</td>\n",
       "      <td>4065</td>\n",
       "      <td>NaN</td>\n",
       "      <td>Victoria</td>\n",
       "      <td>Drive</td>\n",
       "      <td>4065 Victoria Drive, Vancouver, BC</td>\n",
       "      <td>12.0</td>\n",
       "      <td>NaN</td>\n",
       "      <td>NaN</td>\n",
       "      <td>NaN</td>\n",
       "      <td>NaN</td>\n",
       "      <td>Private</td>\n",
       "      <td>Cedar Cottage Neighbourhood House</td>\n",
       "      <td>NaN</td>\n",
       "      <td>NaN</td>\n",
       "      <td>Kensington-Cedar Cottage</td>\n",
       "      <td>{\"coordinates\": [-123.0651476, 49.2488871], \"t...</td>\n",
       "      <td>49.2488871,-123.0651476</td>\n",
       "    </tr>\n",
       "    <tr>\n",
       "      <th>FA023</th>\n",
       "      <td>2010</td>\n",
       "      <td>Champlain Place Community Garden</td>\n",
       "      <td>3347</td>\n",
       "      <td>E</td>\n",
       "      <td>58th</td>\n",
       "      <td>Av</td>\n",
       "      <td>3347 E 58th Av, Vancouver, BC</td>\n",
       "      <td>8.0</td>\n",
       "      <td>NaN</td>\n",
       "      <td>NaN</td>\n",
       "      <td>NaN</td>\n",
       "      <td>NaN</td>\n",
       "      <td>Private</td>\n",
       "      <td>BC Housing</td>\n",
       "      <td>NaN</td>\n",
       "      <td>NaN</td>\n",
       "      <td>Killarney</td>\n",
       "      <td>{\"coordinates\": [-123.0352463, 49.2167296], \"t...</td>\n",
       "      <td>49.2167296,-123.0352463</td>\n",
       "    </tr>\n",
       "    <tr>\n",
       "      <th>FA030</th>\n",
       "      <td>1993</td>\n",
       "      <td>China Creek Housing Co-op</td>\n",
       "      <td>1230</td>\n",
       "      <td>E</td>\n",
       "      <td>8th</td>\n",
       "      <td>Av</td>\n",
       "      <td>1230 E  8th  Av, Vancouver, BC</td>\n",
       "      <td>30.0</td>\n",
       "      <td>NaN</td>\n",
       "      <td>NaN</td>\n",
       "      <td>NaN</td>\n",
       "      <td>NaN</td>\n",
       "      <td>City</td>\n",
       "      <td>China Creek Housing Co-op</td>\n",
       "      <td>NaN</td>\n",
       "      <td>NaN</td>\n",
       "      <td>Mount Pleasant</td>\n",
       "      <td>{\"coordinates\": [-123.0832689, 49.2643106], \"t...</td>\n",
       "      <td>49.2643106,-123.0832689</td>\n",
       "    </tr>\n",
       "    <tr>\n",
       "      <th>...</th>\n",
       "      <td>...</td>\n",
       "      <td>...</td>\n",
       "      <td>...</td>\n",
       "      <td>...</td>\n",
       "      <td>...</td>\n",
       "      <td>...</td>\n",
       "      <td>...</td>\n",
       "      <td>...</td>\n",
       "      <td>...</td>\n",
       "      <td>...</td>\n",
       "      <td>...</td>\n",
       "      <td>...</td>\n",
       "      <td>...</td>\n",
       "      <td>...</td>\n",
       "      <td>...</td>\n",
       "      <td>...</td>\n",
       "      <td>...</td>\n",
       "      <td>...</td>\n",
       "      <td>...</td>\n",
       "    </tr>\n",
       "    <tr>\n",
       "      <th>FA178</th>\n",
       "      <td>1985</td>\n",
       "      <td>Nicholson Towers</td>\n",
       "      <td>1115</td>\n",
       "      <td>NaN</td>\n",
       "      <td>Nelson</td>\n",
       "      <td>St</td>\n",
       "      <td>1115 Nelson St, Vancouver, BC</td>\n",
       "      <td>28.0</td>\n",
       "      <td>NaN</td>\n",
       "      <td>NaN</td>\n",
       "      <td>NaN</td>\n",
       "      <td>NaN</td>\n",
       "      <td>Private</td>\n",
       "      <td>Bloomgroup</td>\n",
       "      <td>None</td>\n",
       "      <td>NaN</td>\n",
       "      <td>West End</td>\n",
       "      <td>{\"coordinates\": [-123.1279113, 49.2828118], \"t...</td>\n",
       "      <td>49.2828118,-123.1279113</td>\n",
       "    </tr>\n",
       "    <tr>\n",
       "      <th>FA180</th>\n",
       "      <td>2019</td>\n",
       "      <td>Dany Guincher House</td>\n",
       "      <td>475</td>\n",
       "      <td>E</td>\n",
       "      <td>Broadway</td>\n",
       "      <td>NaN</td>\n",
       "      <td>475 E Broadway , Vancouver, BC</td>\n",
       "      <td>3.0</td>\n",
       "      <td>NaN</td>\n",
       "      <td>NaN</td>\n",
       "      <td>NaN</td>\n",
       "      <td>NaN</td>\n",
       "      <td>Private</td>\n",
       "      <td>Jewish Family Services</td>\n",
       "      <td>None</td>\n",
       "      <td>NaN</td>\n",
       "      <td>Mount Pleasant</td>\n",
       "      <td>{\"coordinates\": [-123.0935368, 49.2625681], \"t...</td>\n",
       "      <td>49.2625681,-123.0935368</td>\n",
       "    </tr>\n",
       "    <tr>\n",
       "      <th>FA188</th>\n",
       "      <td>2020</td>\n",
       "      <td>Colonial Arms Vegetable Garden</td>\n",
       "      <td>8680</td>\n",
       "      <td>NaN</td>\n",
       "      <td>Fremlin</td>\n",
       "      <td>St</td>\n",
       "      <td>8680 Fremlin St, Vancouver, BC</td>\n",
       "      <td>15.0</td>\n",
       "      <td>NaN</td>\n",
       "      <td>NaN</td>\n",
       "      <td>NaN</td>\n",
       "      <td>NaN</td>\n",
       "      <td>Private</td>\n",
       "      <td>Colonial Arms Apartments</td>\n",
       "      <td>scottharding8680colonialarms@gmail.com</td>\n",
       "      <td>NaN</td>\n",
       "      <td>Marpole</td>\n",
       "      <td>{\"coordinates\": [-123.127177, 49.207365], \"typ...</td>\n",
       "      <td>49.207365,-123.127177</td>\n",
       "    </tr>\n",
       "    <tr>\n",
       "      <th>FA190</th>\n",
       "      <td>2021</td>\n",
       "      <td>P'ipa:m Lelum Indigenous Garden</td>\n",
       "      <td>2690</td>\n",
       "      <td>NaN</td>\n",
       "      <td>Grant</td>\n",
       "      <td>St</td>\n",
       "      <td>2690 Grant St, Vancouver, BC</td>\n",
       "      <td>1.0</td>\n",
       "      <td>0</td>\n",
       "      <td>NaN</td>\n",
       "      <td>NaN</td>\n",
       "      <td>NaN</td>\n",
       "      <td>Park Board</td>\n",
       "      <td>Frog Hollow Neighbourhood House</td>\n",
       "      <td>ws@froghollow.bc.ca</td>\n",
       "      <td>https://www.froghollow.bc.ca/waacus-salee-prog...</td>\n",
       "      <td>Hastings-Sunrise</td>\n",
       "      <td>{\"coordinates\": [-123.049715631262, 49.2712182...</td>\n",
       "      <td>49.2712182052006,-123.049715631262</td>\n",
       "    </tr>\n",
       "    <tr>\n",
       "      <th>FA192</th>\n",
       "      <td>2008</td>\n",
       "      <td>Cedar Cottage Community Garden</td>\n",
       "      <td>2021</td>\n",
       "      <td>NaN</td>\n",
       "      <td>Stainsbury</td>\n",
       "      <td>Av</td>\n",
       "      <td>2021 Stainsbury  Av, Vancouver, BC</td>\n",
       "      <td>61.0</td>\n",
       "      <td>13</td>\n",
       "      <td>NaN</td>\n",
       "      <td>EARLY MCINTOSH; GOLDEN DELICIOUS SMOOTHEE APPL...</td>\n",
       "      <td>NaN</td>\n",
       "      <td>Translink</td>\n",
       "      <td>Cedar Cottage Garden Society</td>\n",
       "      <td>themembershipteam@cedarcottagegarden.org</td>\n",
       "      <td>http://www.cedarcottagegarden.org</td>\n",
       "      <td>Kensington-Cedar Cottage</td>\n",
       "      <td>{\"coordinates\": [-123.0642552, 49.251444], \"ty...</td>\n",
       "      <td>49.251444,-123.0642552</td>\n",
       "    </tr>\n",
       "  </tbody>\n",
       "</table>\n",
       "<p>152 rows × 19 columns</p>\n",
       "</div>"
      ],
      "text/plain": [
       "      YEAR_CREATED                                               NAME  \\\n",
       "MAPID                                                                   \n",
       "FA004         2007  1755 West 14th - Private apartment building ga...   \n",
       "FA018         2011                                       Cartier Park   \n",
       "FA021         2013     Cedar Cottage Neighourhood House Edible Garden   \n",
       "FA023         2010                   Champlain Place Community Garden   \n",
       "FA030         1993                          China Creek Housing Co-op   \n",
       "...            ...                                                ...   \n",
       "FA178         1985                                   Nicholson Towers   \n",
       "FA180         2019                                Dany Guincher House   \n",
       "FA188         2020                     Colonial Arms Vegetable Garden   \n",
       "FA190         2021                    P'ipa:m Lelum Indigenous Garden   \n",
       "FA192         2008                     Cedar Cottage Community Garden   \n",
       "\n",
       "      STREET_NUMBER STREET_DIRECTION STREET_NAME STREET_TYPE  \\\n",
       "MAPID                                                          \n",
       "FA004          1755                W        14th          Av   \n",
       "FA018           390                E        36th          Av   \n",
       "FA021          4065              NaN    Victoria       Drive   \n",
       "FA023          3347                E        58th          Av   \n",
       "FA030          1230                E         8th          Av   \n",
       "...             ...              ...         ...         ...   \n",
       "FA178          1115              NaN      Nelson          St   \n",
       "FA180           475                E    Broadway         NaN   \n",
       "FA188          8680              NaN     Fremlin          St   \n",
       "FA190          2690              NaN       Grant          St   \n",
       "FA192          2021              NaN  Stainsbury          Av   \n",
       "\n",
       "                           MERGED_ADDRESS  NUMBER_OF_PLOTS  \\\n",
       "MAPID                                                        \n",
       "FA004       1755 W 14th Av, Vancouver, BC              NaN   \n",
       "FA018        390 E 36th Av, Vancouver, BC              0.0   \n",
       "FA021  4065 Victoria Drive, Vancouver, BC             12.0   \n",
       "FA023       3347 E 58th Av, Vancouver, BC              8.0   \n",
       "FA030      1230 E  8th  Av, Vancouver, BC             30.0   \n",
       "...                                   ...              ...   \n",
       "FA178       1115 Nelson St, Vancouver, BC             28.0   \n",
       "FA180      475 E Broadway , Vancouver, BC              3.0   \n",
       "FA188      8680 Fremlin St, Vancouver, BC             15.0   \n",
       "FA190        2690 Grant St, Vancouver, BC              1.0   \n",
       "FA192  2021 Stainsbury  Av, Vancouver, BC             61.0   \n",
       "\n",
       "      NUMBER_OF_FOOD_TREES NOTES  \\\n",
       "MAPID                              \n",
       "FA004                  NaN   NaN   \n",
       "FA018                    6   NaN   \n",
       "FA021                  NaN   NaN   \n",
       "FA023                  NaN   NaN   \n",
       "FA030                  NaN   NaN   \n",
       "...                    ...   ...   \n",
       "FA178                  NaN   NaN   \n",
       "FA180                  NaN   NaN   \n",
       "FA188                  NaN   NaN   \n",
       "FA190                    0   NaN   \n",
       "FA192                   13   NaN   \n",
       "\n",
       "                                     FOOD_TREE_VARIETIES OTHER_FOOD_ASSETS  \\\n",
       "MAPID                                                                        \n",
       "FA004                                                NaN               NaN   \n",
       "FA018                                              Apple               NaN   \n",
       "FA021                                                NaN               NaN   \n",
       "FA023                                                NaN               NaN   \n",
       "FA030                                                NaN               NaN   \n",
       "...                                                  ...               ...   \n",
       "FA178                                                NaN               NaN   \n",
       "FA180                                                NaN               NaN   \n",
       "FA188                                                NaN               NaN   \n",
       "FA190                                                NaN               NaN   \n",
       "FA192  EARLY MCINTOSH; GOLDEN DELICIOUS SMOOTHEE APPL...               NaN   \n",
       "\n",
       "      JURISDICTION   STEWARD_OR_MANAGING_ORGANIZATION  \\\n",
       "MAPID                                                   \n",
       "FA004      Private                Apartment residents   \n",
       "FA018   Park Board                                NaN   \n",
       "FA021      Private  Cedar Cottage Neighbourhood House   \n",
       "FA023      Private                         BC Housing   \n",
       "FA030         City          China Creek Housing Co-op   \n",
       "...            ...                                ...   \n",
       "FA178      Private                         Bloomgroup   \n",
       "FA180      Private             Jewish Family Services   \n",
       "FA188      Private           Colonial Arms Apartments   \n",
       "FA190   Park Board    Frog Hollow Neighbourhood House   \n",
       "FA192    Translink       Cedar Cottage Garden Society   \n",
       "\n",
       "                                  PUBLIC_E_MAIL  \\\n",
       "MAPID                                             \n",
       "FA004                                       NaN   \n",
       "FA018                                       NaN   \n",
       "FA021                                       NaN   \n",
       "FA023                                       NaN   \n",
       "FA030                                       NaN   \n",
       "...                                         ...   \n",
       "FA178                                      None   \n",
       "FA180                                      None   \n",
       "FA188    scottharding8680colonialarms@gmail.com   \n",
       "FA190                       ws@froghollow.bc.ca   \n",
       "FA192  themembershipteam@cedarcottagegarden.org   \n",
       "\n",
       "                                                 WEBSITE  \\\n",
       "MAPID                                                      \n",
       "FA004                                                NaN   \n",
       "FA018                                                NaN   \n",
       "FA021                                                NaN   \n",
       "FA023                                                NaN   \n",
       "FA030                                                NaN   \n",
       "...                                                  ...   \n",
       "FA178                                                NaN   \n",
       "FA180                                                NaN   \n",
       "FA188                                                NaN   \n",
       "FA190  https://www.froghollow.bc.ca/waacus-salee-prog...   \n",
       "FA192                  http://www.cedarcottagegarden.org   \n",
       "\n",
       "                 Geo Local Area  \\\n",
       "MAPID                             \n",
       "FA004                  Fairview   \n",
       "FA018                Riley Park   \n",
       "FA021  Kensington-Cedar Cottage   \n",
       "FA023                 Killarney   \n",
       "FA030            Mount Pleasant   \n",
       "...                         ...   \n",
       "FA178                  West End   \n",
       "FA180            Mount Pleasant   \n",
       "FA188                   Marpole   \n",
       "FA190          Hastings-Sunrise   \n",
       "FA192  Kensington-Cedar Cottage   \n",
       "\n",
       "                                                    Geom  \\\n",
       "MAPID                                                      \n",
       "FA004  {\"coordinates\": [-123.1448703, 49.2590496], \"t...   \n",
       "FA018  {\"coordinates\": [-123.0975115, 49.2376052], \"t...   \n",
       "FA021  {\"coordinates\": [-123.0651476, 49.2488871], \"t...   \n",
       "FA023  {\"coordinates\": [-123.0352463, 49.2167296], \"t...   \n",
       "FA030  {\"coordinates\": [-123.0832689, 49.2643106], \"t...   \n",
       "...                                                  ...   \n",
       "FA178  {\"coordinates\": [-123.1279113, 49.2828118], \"t...   \n",
       "FA180  {\"coordinates\": [-123.0935368, 49.2625681], \"t...   \n",
       "FA188  {\"coordinates\": [-123.127177, 49.207365], \"typ...   \n",
       "FA190  {\"coordinates\": [-123.049715631262, 49.2712182...   \n",
       "FA192  {\"coordinates\": [-123.0642552, 49.251444], \"ty...   \n",
       "\n",
       "                             geo_point_2d  \n",
       "MAPID                                      \n",
       "FA004             49.2590496,-123.1448703  \n",
       "FA018             49.2376052,-123.0975115  \n",
       "FA021             49.2488871,-123.0651476  \n",
       "FA023             49.2167296,-123.0352463  \n",
       "FA030             49.2643106,-123.0832689  \n",
       "...                                   ...  \n",
       "FA178             49.2828118,-123.1279113  \n",
       "FA180             49.2625681,-123.0935368  \n",
       "FA188               49.207365,-123.127177  \n",
       "FA190  49.2712182052006,-123.049715631262  \n",
       "FA192              49.251444,-123.0642552  \n",
       "\n",
       "[152 rows x 19 columns]"
      ]
     },
     "execution_count": 103,
     "metadata": {},
     "output_type": "execute_result"
    }
   ],
   "source": [
    "gardenDF.dropna(axis=0, subset=['YEAR_CREATED'], inplace=True)\n",
    "gardenDF"
   ]
  },
  {
   "cell_type": "markdown",
   "metadata": {},
   "source": [
    "Now it might make sense to convert that column to a numerical value"
   ]
  },
  {
   "cell_type": "code",
   "execution_count": 104,
   "metadata": {},
   "outputs": [
    {
     "data": {
      "text/plain": [
       "MAPID\n",
       "FA004    2007\n",
       "FA018    2011\n",
       "FA021    2013\n",
       "FA023    2010\n",
       "FA030    1993\n",
       "         ... \n",
       "FA178    1985\n",
       "FA180    2019\n",
       "FA188    2020\n",
       "FA190    2021\n",
       "FA192    2008\n",
       "Name: YEAR_CREATED, Length: 152, dtype: int64"
      ]
     },
     "execution_count": 104,
     "metadata": {},
     "output_type": "execute_result"
    }
   ],
   "source": [
    "pd.to_numeric(gardenDF['YEAR_CREATED'])"
   ]
  },
  {
   "cell_type": "markdown",
   "metadata": {},
   "source": [
    "or better yet, a DateTime object"
   ]
  },
  {
   "cell_type": "code",
   "execution_count": 105,
   "metadata": {},
   "outputs": [
    {
     "data": {
      "text/html": [
       "<div>\n",
       "<style scoped>\n",
       "    .dataframe tbody tr th:only-of-type {\n",
       "        vertical-align: middle;\n",
       "    }\n",
       "\n",
       "    .dataframe tbody tr th {\n",
       "        vertical-align: top;\n",
       "    }\n",
       "\n",
       "    .dataframe thead th {\n",
       "        text-align: right;\n",
       "    }\n",
       "</style>\n",
       "<table border=\"1\" class=\"dataframe\">\n",
       "  <thead>\n",
       "    <tr style=\"text-align: right;\">\n",
       "      <th></th>\n",
       "      <th>YEAR_CREATED</th>\n",
       "      <th>NAME</th>\n",
       "      <th>STREET_NUMBER</th>\n",
       "      <th>STREET_DIRECTION</th>\n",
       "      <th>STREET_NAME</th>\n",
       "      <th>STREET_TYPE</th>\n",
       "      <th>MERGED_ADDRESS</th>\n",
       "      <th>NUMBER_OF_PLOTS</th>\n",
       "      <th>NUMBER_OF_FOOD_TREES</th>\n",
       "      <th>NOTES</th>\n",
       "      <th>FOOD_TREE_VARIETIES</th>\n",
       "      <th>OTHER_FOOD_ASSETS</th>\n",
       "      <th>JURISDICTION</th>\n",
       "      <th>STEWARD_OR_MANAGING_ORGANIZATION</th>\n",
       "      <th>PUBLIC_E_MAIL</th>\n",
       "      <th>WEBSITE</th>\n",
       "      <th>Geo Local Area</th>\n",
       "      <th>Geom</th>\n",
       "      <th>geo_point_2d</th>\n",
       "    </tr>\n",
       "    <tr>\n",
       "      <th>MAPID</th>\n",
       "      <th></th>\n",
       "      <th></th>\n",
       "      <th></th>\n",
       "      <th></th>\n",
       "      <th></th>\n",
       "      <th></th>\n",
       "      <th></th>\n",
       "      <th></th>\n",
       "      <th></th>\n",
       "      <th></th>\n",
       "      <th></th>\n",
       "      <th></th>\n",
       "      <th></th>\n",
       "      <th></th>\n",
       "      <th></th>\n",
       "      <th></th>\n",
       "      <th></th>\n",
       "      <th></th>\n",
       "      <th></th>\n",
       "    </tr>\n",
       "  </thead>\n",
       "  <tbody>\n",
       "    <tr>\n",
       "      <th>FA004</th>\n",
       "      <td>2007-01-01</td>\n",
       "      <td>1755 West 14th - Private apartment building ga...</td>\n",
       "      <td>1755</td>\n",
       "      <td>W</td>\n",
       "      <td>14th</td>\n",
       "      <td>Av</td>\n",
       "      <td>1755 W 14th Av, Vancouver, BC</td>\n",
       "      <td>NaN</td>\n",
       "      <td>NaN</td>\n",
       "      <td>NaN</td>\n",
       "      <td>NaN</td>\n",
       "      <td>NaN</td>\n",
       "      <td>Private</td>\n",
       "      <td>Apartment residents</td>\n",
       "      <td>NaN</td>\n",
       "      <td>NaN</td>\n",
       "      <td>Fairview</td>\n",
       "      <td>{\"coordinates\": [-123.1448703, 49.2590496], \"t...</td>\n",
       "      <td>49.2590496,-123.1448703</td>\n",
       "    </tr>\n",
       "    <tr>\n",
       "      <th>FA018</th>\n",
       "      <td>2011-01-01</td>\n",
       "      <td>Cartier Park</td>\n",
       "      <td>390</td>\n",
       "      <td>E</td>\n",
       "      <td>36th</td>\n",
       "      <td>Av</td>\n",
       "      <td>390 E 36th Av, Vancouver, BC</td>\n",
       "      <td>0.0</td>\n",
       "      <td>6</td>\n",
       "      <td>NaN</td>\n",
       "      <td>Apple</td>\n",
       "      <td>NaN</td>\n",
       "      <td>Park Board</td>\n",
       "      <td>NaN</td>\n",
       "      <td>NaN</td>\n",
       "      <td>NaN</td>\n",
       "      <td>Riley Park</td>\n",
       "      <td>{\"coordinates\": [-123.0975115, 49.2376052], \"t...</td>\n",
       "      <td>49.2376052,-123.0975115</td>\n",
       "    </tr>\n",
       "    <tr>\n",
       "      <th>FA021</th>\n",
       "      <td>2013-01-01</td>\n",
       "      <td>Cedar Cottage Neighourhood House Edible Garden</td>\n",
       "      <td>4065</td>\n",
       "      <td>NaN</td>\n",
       "      <td>Victoria</td>\n",
       "      <td>Drive</td>\n",
       "      <td>4065 Victoria Drive, Vancouver, BC</td>\n",
       "      <td>12.0</td>\n",
       "      <td>NaN</td>\n",
       "      <td>NaN</td>\n",
       "      <td>NaN</td>\n",
       "      <td>NaN</td>\n",
       "      <td>Private</td>\n",
       "      <td>Cedar Cottage Neighbourhood House</td>\n",
       "      <td>NaN</td>\n",
       "      <td>NaN</td>\n",
       "      <td>Kensington-Cedar Cottage</td>\n",
       "      <td>{\"coordinates\": [-123.0651476, 49.2488871], \"t...</td>\n",
       "      <td>49.2488871,-123.0651476</td>\n",
       "    </tr>\n",
       "    <tr>\n",
       "      <th>FA023</th>\n",
       "      <td>2010-01-01</td>\n",
       "      <td>Champlain Place Community Garden</td>\n",
       "      <td>3347</td>\n",
       "      <td>E</td>\n",
       "      <td>58th</td>\n",
       "      <td>Av</td>\n",
       "      <td>3347 E 58th Av, Vancouver, BC</td>\n",
       "      <td>8.0</td>\n",
       "      <td>NaN</td>\n",
       "      <td>NaN</td>\n",
       "      <td>NaN</td>\n",
       "      <td>NaN</td>\n",
       "      <td>Private</td>\n",
       "      <td>BC Housing</td>\n",
       "      <td>NaN</td>\n",
       "      <td>NaN</td>\n",
       "      <td>Killarney</td>\n",
       "      <td>{\"coordinates\": [-123.0352463, 49.2167296], \"t...</td>\n",
       "      <td>49.2167296,-123.0352463</td>\n",
       "    </tr>\n",
       "    <tr>\n",
       "      <th>FA030</th>\n",
       "      <td>1993-01-01</td>\n",
       "      <td>China Creek Housing Co-op</td>\n",
       "      <td>1230</td>\n",
       "      <td>E</td>\n",
       "      <td>8th</td>\n",
       "      <td>Av</td>\n",
       "      <td>1230 E  8th  Av, Vancouver, BC</td>\n",
       "      <td>30.0</td>\n",
       "      <td>NaN</td>\n",
       "      <td>NaN</td>\n",
       "      <td>NaN</td>\n",
       "      <td>NaN</td>\n",
       "      <td>City</td>\n",
       "      <td>China Creek Housing Co-op</td>\n",
       "      <td>NaN</td>\n",
       "      <td>NaN</td>\n",
       "      <td>Mount Pleasant</td>\n",
       "      <td>{\"coordinates\": [-123.0832689, 49.2643106], \"t...</td>\n",
       "      <td>49.2643106,-123.0832689</td>\n",
       "    </tr>\n",
       "    <tr>\n",
       "      <th>...</th>\n",
       "      <td>...</td>\n",
       "      <td>...</td>\n",
       "      <td>...</td>\n",
       "      <td>...</td>\n",
       "      <td>...</td>\n",
       "      <td>...</td>\n",
       "      <td>...</td>\n",
       "      <td>...</td>\n",
       "      <td>...</td>\n",
       "      <td>...</td>\n",
       "      <td>...</td>\n",
       "      <td>...</td>\n",
       "      <td>...</td>\n",
       "      <td>...</td>\n",
       "      <td>...</td>\n",
       "      <td>...</td>\n",
       "      <td>...</td>\n",
       "      <td>...</td>\n",
       "      <td>...</td>\n",
       "    </tr>\n",
       "    <tr>\n",
       "      <th>FA178</th>\n",
       "      <td>1985-01-01</td>\n",
       "      <td>Nicholson Towers</td>\n",
       "      <td>1115</td>\n",
       "      <td>NaN</td>\n",
       "      <td>Nelson</td>\n",
       "      <td>St</td>\n",
       "      <td>1115 Nelson St, Vancouver, BC</td>\n",
       "      <td>28.0</td>\n",
       "      <td>NaN</td>\n",
       "      <td>NaN</td>\n",
       "      <td>NaN</td>\n",
       "      <td>NaN</td>\n",
       "      <td>Private</td>\n",
       "      <td>Bloomgroup</td>\n",
       "      <td>None</td>\n",
       "      <td>NaN</td>\n",
       "      <td>West End</td>\n",
       "      <td>{\"coordinates\": [-123.1279113, 49.2828118], \"t...</td>\n",
       "      <td>49.2828118,-123.1279113</td>\n",
       "    </tr>\n",
       "    <tr>\n",
       "      <th>FA180</th>\n",
       "      <td>2019-01-01</td>\n",
       "      <td>Dany Guincher House</td>\n",
       "      <td>475</td>\n",
       "      <td>E</td>\n",
       "      <td>Broadway</td>\n",
       "      <td>NaN</td>\n",
       "      <td>475 E Broadway , Vancouver, BC</td>\n",
       "      <td>3.0</td>\n",
       "      <td>NaN</td>\n",
       "      <td>NaN</td>\n",
       "      <td>NaN</td>\n",
       "      <td>NaN</td>\n",
       "      <td>Private</td>\n",
       "      <td>Jewish Family Services</td>\n",
       "      <td>None</td>\n",
       "      <td>NaN</td>\n",
       "      <td>Mount Pleasant</td>\n",
       "      <td>{\"coordinates\": [-123.0935368, 49.2625681], \"t...</td>\n",
       "      <td>49.2625681,-123.0935368</td>\n",
       "    </tr>\n",
       "    <tr>\n",
       "      <th>FA188</th>\n",
       "      <td>2020-01-01</td>\n",
       "      <td>Colonial Arms Vegetable Garden</td>\n",
       "      <td>8680</td>\n",
       "      <td>NaN</td>\n",
       "      <td>Fremlin</td>\n",
       "      <td>St</td>\n",
       "      <td>8680 Fremlin St, Vancouver, BC</td>\n",
       "      <td>15.0</td>\n",
       "      <td>NaN</td>\n",
       "      <td>NaN</td>\n",
       "      <td>NaN</td>\n",
       "      <td>NaN</td>\n",
       "      <td>Private</td>\n",
       "      <td>Colonial Arms Apartments</td>\n",
       "      <td>scottharding8680colonialarms@gmail.com</td>\n",
       "      <td>NaN</td>\n",
       "      <td>Marpole</td>\n",
       "      <td>{\"coordinates\": [-123.127177, 49.207365], \"typ...</td>\n",
       "      <td>49.207365,-123.127177</td>\n",
       "    </tr>\n",
       "    <tr>\n",
       "      <th>FA190</th>\n",
       "      <td>2021-01-01</td>\n",
       "      <td>P'ipa:m Lelum Indigenous Garden</td>\n",
       "      <td>2690</td>\n",
       "      <td>NaN</td>\n",
       "      <td>Grant</td>\n",
       "      <td>St</td>\n",
       "      <td>2690 Grant St, Vancouver, BC</td>\n",
       "      <td>1.0</td>\n",
       "      <td>0</td>\n",
       "      <td>NaN</td>\n",
       "      <td>NaN</td>\n",
       "      <td>NaN</td>\n",
       "      <td>Park Board</td>\n",
       "      <td>Frog Hollow Neighbourhood House</td>\n",
       "      <td>ws@froghollow.bc.ca</td>\n",
       "      <td>https://www.froghollow.bc.ca/waacus-salee-prog...</td>\n",
       "      <td>Hastings-Sunrise</td>\n",
       "      <td>{\"coordinates\": [-123.049715631262, 49.2712182...</td>\n",
       "      <td>49.2712182052006,-123.049715631262</td>\n",
       "    </tr>\n",
       "    <tr>\n",
       "      <th>FA192</th>\n",
       "      <td>2008-01-01</td>\n",
       "      <td>Cedar Cottage Community Garden</td>\n",
       "      <td>2021</td>\n",
       "      <td>NaN</td>\n",
       "      <td>Stainsbury</td>\n",
       "      <td>Av</td>\n",
       "      <td>2021 Stainsbury  Av, Vancouver, BC</td>\n",
       "      <td>61.0</td>\n",
       "      <td>13</td>\n",
       "      <td>NaN</td>\n",
       "      <td>EARLY MCINTOSH; GOLDEN DELICIOUS SMOOTHEE APPL...</td>\n",
       "      <td>NaN</td>\n",
       "      <td>Translink</td>\n",
       "      <td>Cedar Cottage Garden Society</td>\n",
       "      <td>themembershipteam@cedarcottagegarden.org</td>\n",
       "      <td>http://www.cedarcottagegarden.org</td>\n",
       "      <td>Kensington-Cedar Cottage</td>\n",
       "      <td>{\"coordinates\": [-123.0642552, 49.251444], \"ty...</td>\n",
       "      <td>49.251444,-123.0642552</td>\n",
       "    </tr>\n",
       "  </tbody>\n",
       "</table>\n",
       "<p>152 rows × 19 columns</p>\n",
       "</div>"
      ],
      "text/plain": [
       "      YEAR_CREATED                                               NAME  \\\n",
       "MAPID                                                                   \n",
       "FA004   2007-01-01  1755 West 14th - Private apartment building ga...   \n",
       "FA018   2011-01-01                                       Cartier Park   \n",
       "FA021   2013-01-01     Cedar Cottage Neighourhood House Edible Garden   \n",
       "FA023   2010-01-01                   Champlain Place Community Garden   \n",
       "FA030   1993-01-01                          China Creek Housing Co-op   \n",
       "...            ...                                                ...   \n",
       "FA178   1985-01-01                                   Nicholson Towers   \n",
       "FA180   2019-01-01                                Dany Guincher House   \n",
       "FA188   2020-01-01                     Colonial Arms Vegetable Garden   \n",
       "FA190   2021-01-01                    P'ipa:m Lelum Indigenous Garden   \n",
       "FA192   2008-01-01                     Cedar Cottage Community Garden   \n",
       "\n",
       "      STREET_NUMBER STREET_DIRECTION STREET_NAME STREET_TYPE  \\\n",
       "MAPID                                                          \n",
       "FA004          1755                W        14th          Av   \n",
       "FA018           390                E        36th          Av   \n",
       "FA021          4065              NaN    Victoria       Drive   \n",
       "FA023          3347                E        58th          Av   \n",
       "FA030          1230                E         8th          Av   \n",
       "...             ...              ...         ...         ...   \n",
       "FA178          1115              NaN      Nelson          St   \n",
       "FA180           475                E    Broadway         NaN   \n",
       "FA188          8680              NaN     Fremlin          St   \n",
       "FA190          2690              NaN       Grant          St   \n",
       "FA192          2021              NaN  Stainsbury          Av   \n",
       "\n",
       "                           MERGED_ADDRESS  NUMBER_OF_PLOTS  \\\n",
       "MAPID                                                        \n",
       "FA004       1755 W 14th Av, Vancouver, BC              NaN   \n",
       "FA018        390 E 36th Av, Vancouver, BC              0.0   \n",
       "FA021  4065 Victoria Drive, Vancouver, BC             12.0   \n",
       "FA023       3347 E 58th Av, Vancouver, BC              8.0   \n",
       "FA030      1230 E  8th  Av, Vancouver, BC             30.0   \n",
       "...                                   ...              ...   \n",
       "FA178       1115 Nelson St, Vancouver, BC             28.0   \n",
       "FA180      475 E Broadway , Vancouver, BC              3.0   \n",
       "FA188      8680 Fremlin St, Vancouver, BC             15.0   \n",
       "FA190        2690 Grant St, Vancouver, BC              1.0   \n",
       "FA192  2021 Stainsbury  Av, Vancouver, BC             61.0   \n",
       "\n",
       "      NUMBER_OF_FOOD_TREES NOTES  \\\n",
       "MAPID                              \n",
       "FA004                  NaN   NaN   \n",
       "FA018                    6   NaN   \n",
       "FA021                  NaN   NaN   \n",
       "FA023                  NaN   NaN   \n",
       "FA030                  NaN   NaN   \n",
       "...                    ...   ...   \n",
       "FA178                  NaN   NaN   \n",
       "FA180                  NaN   NaN   \n",
       "FA188                  NaN   NaN   \n",
       "FA190                    0   NaN   \n",
       "FA192                   13   NaN   \n",
       "\n",
       "                                     FOOD_TREE_VARIETIES OTHER_FOOD_ASSETS  \\\n",
       "MAPID                                                                        \n",
       "FA004                                                NaN               NaN   \n",
       "FA018                                              Apple               NaN   \n",
       "FA021                                                NaN               NaN   \n",
       "FA023                                                NaN               NaN   \n",
       "FA030                                                NaN               NaN   \n",
       "...                                                  ...               ...   \n",
       "FA178                                                NaN               NaN   \n",
       "FA180                                                NaN               NaN   \n",
       "FA188                                                NaN               NaN   \n",
       "FA190                                                NaN               NaN   \n",
       "FA192  EARLY MCINTOSH; GOLDEN DELICIOUS SMOOTHEE APPL...               NaN   \n",
       "\n",
       "      JURISDICTION   STEWARD_OR_MANAGING_ORGANIZATION  \\\n",
       "MAPID                                                   \n",
       "FA004      Private                Apartment residents   \n",
       "FA018   Park Board                                NaN   \n",
       "FA021      Private  Cedar Cottage Neighbourhood House   \n",
       "FA023      Private                         BC Housing   \n",
       "FA030         City          China Creek Housing Co-op   \n",
       "...            ...                                ...   \n",
       "FA178      Private                         Bloomgroup   \n",
       "FA180      Private             Jewish Family Services   \n",
       "FA188      Private           Colonial Arms Apartments   \n",
       "FA190   Park Board    Frog Hollow Neighbourhood House   \n",
       "FA192    Translink       Cedar Cottage Garden Society   \n",
       "\n",
       "                                  PUBLIC_E_MAIL  \\\n",
       "MAPID                                             \n",
       "FA004                                       NaN   \n",
       "FA018                                       NaN   \n",
       "FA021                                       NaN   \n",
       "FA023                                       NaN   \n",
       "FA030                                       NaN   \n",
       "...                                         ...   \n",
       "FA178                                      None   \n",
       "FA180                                      None   \n",
       "FA188    scottharding8680colonialarms@gmail.com   \n",
       "FA190                       ws@froghollow.bc.ca   \n",
       "FA192  themembershipteam@cedarcottagegarden.org   \n",
       "\n",
       "                                                 WEBSITE  \\\n",
       "MAPID                                                      \n",
       "FA004                                                NaN   \n",
       "FA018                                                NaN   \n",
       "FA021                                                NaN   \n",
       "FA023                                                NaN   \n",
       "FA030                                                NaN   \n",
       "...                                                  ...   \n",
       "FA178                                                NaN   \n",
       "FA180                                                NaN   \n",
       "FA188                                                NaN   \n",
       "FA190  https://www.froghollow.bc.ca/waacus-salee-prog...   \n",
       "FA192                  http://www.cedarcottagegarden.org   \n",
       "\n",
       "                 Geo Local Area  \\\n",
       "MAPID                             \n",
       "FA004                  Fairview   \n",
       "FA018                Riley Park   \n",
       "FA021  Kensington-Cedar Cottage   \n",
       "FA023                 Killarney   \n",
       "FA030            Mount Pleasant   \n",
       "...                         ...   \n",
       "FA178                  West End   \n",
       "FA180            Mount Pleasant   \n",
       "FA188                   Marpole   \n",
       "FA190          Hastings-Sunrise   \n",
       "FA192  Kensington-Cedar Cottage   \n",
       "\n",
       "                                                    Geom  \\\n",
       "MAPID                                                      \n",
       "FA004  {\"coordinates\": [-123.1448703, 49.2590496], \"t...   \n",
       "FA018  {\"coordinates\": [-123.0975115, 49.2376052], \"t...   \n",
       "FA021  {\"coordinates\": [-123.0651476, 49.2488871], \"t...   \n",
       "FA023  {\"coordinates\": [-123.0352463, 49.2167296], \"t...   \n",
       "FA030  {\"coordinates\": [-123.0832689, 49.2643106], \"t...   \n",
       "...                                                  ...   \n",
       "FA178  {\"coordinates\": [-123.1279113, 49.2828118], \"t...   \n",
       "FA180  {\"coordinates\": [-123.0935368, 49.2625681], \"t...   \n",
       "FA188  {\"coordinates\": [-123.127177, 49.207365], \"typ...   \n",
       "FA190  {\"coordinates\": [-123.049715631262, 49.2712182...   \n",
       "FA192  {\"coordinates\": [-123.0642552, 49.251444], \"ty...   \n",
       "\n",
       "                             geo_point_2d  \n",
       "MAPID                                      \n",
       "FA004             49.2590496,-123.1448703  \n",
       "FA018             49.2376052,-123.0975115  \n",
       "FA021             49.2488871,-123.0651476  \n",
       "FA023             49.2167296,-123.0352463  \n",
       "FA030             49.2643106,-123.0832689  \n",
       "...                                   ...  \n",
       "FA178             49.2828118,-123.1279113  \n",
       "FA180             49.2625681,-123.0935368  \n",
       "FA188               49.207365,-123.127177  \n",
       "FA190  49.2712182052006,-123.049715631262  \n",
       "FA192              49.251444,-123.0642552  \n",
       "\n",
       "[152 rows x 19 columns]"
      ]
     },
     "execution_count": 105,
     "metadata": {},
     "output_type": "execute_result"
    }
   ],
   "source": [
    "gardenDF['YEAR_CREATED'] = pd.to_datetime(gardenDF['YEAR_CREATED'])\n",
    "gardenDF"
   ]
  },
  {
   "cell_type": "markdown",
   "metadata": {},
   "source": [
    "Sometimes you are not so lucky and will have to parse through strings to extract the information you are looking for. The `Geom` column looks like latitude and longitude stored as json, lets parse an individual entry"
   ]
  },
  {
   "cell_type": "code",
   "execution_count": 107,
   "metadata": {},
   "outputs": [
    {
     "data": {
      "text/plain": [
       "{'coordinates': [-123.0642552, 49.251444], 'type': 'Point'}"
      ]
     },
     "execution_count": 107,
     "metadata": {},
     "output_type": "execute_result"
    }
   ],
   "source": [
    "import json\n",
    "\n",
    "geom = gardenDF.iloc[-1]['Geom']\n",
    "json.loads(geom)"
   ]
  },
  {
   "cell_type": "markdown",
   "metadata": {},
   "source": [
    "Now we have a `dict` and `coordinates` holds the longitude and latitude. We can use `pd.DataFrame.apply` to apply this transformation to all of the rows and generate new columns"
   ]
  },
  {
   "cell_type": "code",
   "execution_count": 109,
   "metadata": {},
   "outputs": [
    {
     "data": {
      "text/html": [
       "<div>\n",
       "<style scoped>\n",
       "    .dataframe tbody tr th:only-of-type {\n",
       "        vertical-align: middle;\n",
       "    }\n",
       "\n",
       "    .dataframe tbody tr th {\n",
       "        vertical-align: top;\n",
       "    }\n",
       "\n",
       "    .dataframe thead th {\n",
       "        text-align: right;\n",
       "    }\n",
       "</style>\n",
       "<table border=\"1\" class=\"dataframe\">\n",
       "  <thead>\n",
       "    <tr style=\"text-align: right;\">\n",
       "      <th></th>\n",
       "      <th>Latitude</th>\n",
       "      <th>Longitude</th>\n",
       "    </tr>\n",
       "    <tr>\n",
       "      <th>MAPID</th>\n",
       "      <th></th>\n",
       "      <th></th>\n",
       "    </tr>\n",
       "  </thead>\n",
       "  <tbody>\n",
       "    <tr>\n",
       "      <th>FA004</th>\n",
       "      <td>49.259050</td>\n",
       "      <td>-123.144870</td>\n",
       "    </tr>\n",
       "    <tr>\n",
       "      <th>FA018</th>\n",
       "      <td>49.237605</td>\n",
       "      <td>-123.097511</td>\n",
       "    </tr>\n",
       "    <tr>\n",
       "      <th>FA021</th>\n",
       "      <td>49.248887</td>\n",
       "      <td>-123.065148</td>\n",
       "    </tr>\n",
       "    <tr>\n",
       "      <th>FA023</th>\n",
       "      <td>49.216730</td>\n",
       "      <td>-123.035246</td>\n",
       "    </tr>\n",
       "    <tr>\n",
       "      <th>FA030</th>\n",
       "      <td>49.264311</td>\n",
       "      <td>-123.083269</td>\n",
       "    </tr>\n",
       "    <tr>\n",
       "      <th>...</th>\n",
       "      <td>...</td>\n",
       "      <td>...</td>\n",
       "    </tr>\n",
       "    <tr>\n",
       "      <th>FA178</th>\n",
       "      <td>49.282812</td>\n",
       "      <td>-123.127911</td>\n",
       "    </tr>\n",
       "    <tr>\n",
       "      <th>FA180</th>\n",
       "      <td>49.262568</td>\n",
       "      <td>-123.093537</td>\n",
       "    </tr>\n",
       "    <tr>\n",
       "      <th>FA188</th>\n",
       "      <td>49.207365</td>\n",
       "      <td>-123.127177</td>\n",
       "    </tr>\n",
       "    <tr>\n",
       "      <th>FA190</th>\n",
       "      <td>49.271218</td>\n",
       "      <td>-123.049716</td>\n",
       "    </tr>\n",
       "    <tr>\n",
       "      <th>FA192</th>\n",
       "      <td>49.251444</td>\n",
       "      <td>-123.064255</td>\n",
       "    </tr>\n",
       "  </tbody>\n",
       "</table>\n",
       "<p>152 rows × 2 columns</p>\n",
       "</div>"
      ],
      "text/plain": [
       "        Latitude   Longitude\n",
       "MAPID                       \n",
       "FA004  49.259050 -123.144870\n",
       "FA018  49.237605 -123.097511\n",
       "FA021  49.248887 -123.065148\n",
       "FA023  49.216730 -123.035246\n",
       "FA030  49.264311 -123.083269\n",
       "...          ...         ...\n",
       "FA178  49.282812 -123.127911\n",
       "FA180  49.262568 -123.093537\n",
       "FA188  49.207365 -123.127177\n",
       "FA190  49.271218 -123.049716\n",
       "FA192  49.251444 -123.064255\n",
       "\n",
       "[152 rows x 2 columns]"
      ]
     },
     "execution_count": 109,
     "metadata": {},
     "output_type": "execute_result"
    }
   ],
   "source": [
    "gardenDF['Longitude'] = gardenDF['Geom'].apply(lambda x: json.loads(x)['coordinates'][0])\n",
    "gardenDF['Latitude']  = gardenDF['Geom'].apply(lambda x: json.loads(x)['coordinates'][1])\n",
    "gardenDF[['Latitude', 'Longitude']]"
   ]
  },
  {
   "cell_type": "markdown",
   "metadata": {},
   "source": [
    "Once you have an idea of what your data source looks like there are some arguments to `read_csv` (and related functions) which can tidy things up as they are loaded"
   ]
  },
  {
   "cell_type": "code",
   "execution_count": 111,
   "metadata": {},
   "outputs": [
    {
     "data": {
      "text/html": [
       "<div>\n",
       "<style scoped>\n",
       "    .dataframe tbody tr th:only-of-type {\n",
       "        vertical-align: middle;\n",
       "    }\n",
       "\n",
       "    .dataframe tbody tr th {\n",
       "        vertical-align: top;\n",
       "    }\n",
       "\n",
       "    .dataframe thead th {\n",
       "        text-align: right;\n",
       "    }\n",
       "</style>\n",
       "<table border=\"1\" class=\"dataframe\">\n",
       "  <thead>\n",
       "    <tr style=\"text-align: right;\">\n",
       "      <th></th>\n",
       "      <th>YEAR_CREATED</th>\n",
       "      <th>NAME</th>\n",
       "      <th>STREET_NUMBER</th>\n",
       "      <th>STREET_NAME</th>\n",
       "      <th>STEWARD_OR_MANAGING_ORGANIZATION</th>\n",
       "      <th>Geom</th>\n",
       "    </tr>\n",
       "    <tr>\n",
       "      <th>MAPID</th>\n",
       "      <th></th>\n",
       "      <th></th>\n",
       "      <th></th>\n",
       "      <th></th>\n",
       "      <th></th>\n",
       "      <th></th>\n",
       "    </tr>\n",
       "  </thead>\n",
       "  <tbody>\n",
       "    <tr>\n",
       "      <th>FA004</th>\n",
       "      <td>2007-01-01</td>\n",
       "      <td>1755 West 14th - Private apartment building ga...</td>\n",
       "      <td>1755</td>\n",
       "      <td>14th</td>\n",
       "      <td>Apartment residents</td>\n",
       "      <td>-123.144870</td>\n",
       "    </tr>\n",
       "    <tr>\n",
       "      <th>FA008</th>\n",
       "      <td>NaT</td>\n",
       "      <td>Arbutus Village Park</td>\n",
       "      <td>4202</td>\n",
       "      <td>Valley</td>\n",
       "      <td>NaN</td>\n",
       "      <td>-123.154995</td>\n",
       "    </tr>\n",
       "    <tr>\n",
       "      <th>FA010</th>\n",
       "      <td>NaT</td>\n",
       "      <td>Barclay Heritage Square</td>\n",
       "      <td>1433</td>\n",
       "      <td>Barclay</td>\n",
       "      <td>NaN</td>\n",
       "      <td>-123.132845</td>\n",
       "    </tr>\n",
       "    <tr>\n",
       "      <th>FA018</th>\n",
       "      <td>2011-01-01</td>\n",
       "      <td>Cartier Park</td>\n",
       "      <td>390</td>\n",
       "      <td>36th</td>\n",
       "      <td>NaN</td>\n",
       "      <td>-123.097511</td>\n",
       "    </tr>\n",
       "    <tr>\n",
       "      <th>FA021</th>\n",
       "      <td>2013-01-01</td>\n",
       "      <td>Cedar Cottage Neighourhood House Edible Garden</td>\n",
       "      <td>4065</td>\n",
       "      <td>Victoria</td>\n",
       "      <td>Cedar Cottage Neighbourhood House</td>\n",
       "      <td>-123.065148</td>\n",
       "    </tr>\n",
       "  </tbody>\n",
       "</table>\n",
       "</div>"
      ],
      "text/plain": [
       "      YEAR_CREATED                                               NAME  \\\n",
       "MAPID                                                                   \n",
       "FA004   2007-01-01  1755 West 14th - Private apartment building ga...   \n",
       "FA008          NaT                               Arbutus Village Park   \n",
       "FA010          NaT                            Barclay Heritage Square   \n",
       "FA018   2011-01-01                                       Cartier Park   \n",
       "FA021   2013-01-01     Cedar Cottage Neighourhood House Edible Garden   \n",
       "\n",
       "      STREET_NUMBER STREET_NAME   STEWARD_OR_MANAGING_ORGANIZATION        Geom  \n",
       "MAPID                                                                           \n",
       "FA004          1755        14th                Apartment residents -123.144870  \n",
       "FA008          4202      Valley                                NaN -123.154995  \n",
       "FA010          1433     Barclay                                NaN -123.132845  \n",
       "FA018           390        36th                                NaN -123.097511  \n",
       "FA021          4065    Victoria  Cedar Cottage Neighbourhood House -123.065148  "
      ]
     },
     "execution_count": 111,
     "metadata": {},
     "output_type": "execute_result"
    }
   ],
   "source": [
    "import json\n",
    "\n",
    "def geom2lat(geom):\n",
    "    if geom:\n",
    "        return json.loads(geom)['coordinates'][0]\n",
    "    else:\n",
    "        return np.NaN\n",
    "\n",
    "    \n",
    "gardenDF = pd.read_csv(\n",
    "    \"https://opendata.vancouver.ca/explore/dataset/community-gardens-and-food-trees/download/?format=csv&timezone=America/Los_Angeles&lang=en&use_labels_for_header=true&csv_separator=%3B\",\n",
    "    usecols = [\n",
    "        'MAPID',\n",
    "        'YEAR_CREATED',\n",
    "        'NAME',\n",
    "        'STEWARD_OR_MANAGING_ORGANIZATION',\n",
    "        'STREET_NUMBER',\n",
    "        'STREET_NAME',\n",
    "        'Geom',\n",
    "        'Geom'\n",
    "    ],\n",
    "    delimiter=';',\n",
    "    encoding='latin1',\n",
    "    na_values={\n",
    "        'YEAR_CREATED': ['Pre-2010', 'pre-1970', 'pre 2000', 'nan']\n",
    "    },\n",
    "    index_col='MAPID',\n",
    "    parse_dates=['YEAR_CREATED'],\n",
    "    converters={\n",
    "        'Geom': geom2lat,\n",
    "    }\n",
    ")\n",
    "gardenDF.head()"
   ]
  },
  {
   "cell_type": "markdown",
   "metadata": {},
   "source": [
    "## Accessing Data via APIs\n",
    "\n",
    "An API (Application Programming Interface) is a formal specification describing how systems should communicate with each other. This is an incredibly general notion which could involve information going in both directions and changes being made on both systems. We will only talk about them in the context of extracting data and massaging it into pandas, but full featured APIs could also support authentication, uploading information, telling AWS to shutdown all your ec2 instances or pretty much anything else you could think of.\n",
    "\n",
    "APIs allow applications (your code) to interact with other applications (someone elses' code) and they're particularly useful where the incoming data is event based or otherwise frequently updated. They also turn up in situations where the entire data set is very large, but individual requests will only need small slices; applications can request the information they need on demand without the source having to pre-prepare all the possible variations for download.\n",
    "\n",
    "Good APIs are versioned (or at the very least stable), well documented and they often implement a pattern called [REST](https://en.wikipedia.org/wiki/Representational_state_transfer). This adds a layer of formality and standardization to the API which which helps to make them more predictable and easier to develop against. Most of the API's I can think of operate over HTTP and pass information back and forth in the [json](https://en.wikipedia.org/wiki/JSON) format.\n"
   ]
  },
  {
   "cell_type": "markdown",
   "metadata": {},
   "source": [
    "For popular APIs (e.g. [twitter](https://developer.twitter.com/en/docs/twitter-api)) you might find that someone has already written a python wrapper for the API (e.g [python-twitter](https://python-twitter.readthedocs.io/en/latest/)). This is usually the best case scenario because it means someone else has done the hard work of reading the API specification for you. In other cases, you might only have access to the API spec or maybe a console to help you build queries. If you're very unlucky, the API will be undocumented, the silver lining in this case is these are usually where the really juicy stuff is stored!\n",
    "\n",
    "* [Vancouver Open Data Portal](https://opendata.vancouver.ca/api/v1/console/datasets/1.0/search/) has a console to help you build queries\n",
    "* [Canada Open Data Portal](https://open.canada.ca/en/working-data#toc93c) has instructions on interfacing with python\n",
    "* [Stats Canada API](https://www.statcan.gc.ca/eng/developers/wds/user-guide#a12-3) See also [this post](https://towardsdatascience.com/how-to-collect-data-from-statistics-canada-using-python-db8a81ce6475) on using that portal\n",
    "* [Twitter API](https://developer.twitter.com/en/docs)\n",
    "* [Open Weather Map](https://openweathermap.org/api)\n",
    "* [NASA](https://api.nasa.gov/) imagery, data, etc.\n",
    "* [GitHub](https://docs.github.com/en/rest)"
   ]
  },
  {
   "cell_type": "markdown",
   "metadata": {},
   "source": [
    "If there isn't a pre-packaged module to take care of your needs the [requests module](https://docs.python-requests.org/en/master/) is usually your best option. Here is a quick example extracting the part of the gardens dataset from the vancouver data portal"
   ]
  },
  {
   "cell_type": "code",
   "execution_count": 114,
   "metadata": {},
   "outputs": [
    {
     "data": {
      "text/plain": [
       "200"
      ]
     },
     "execution_count": 114,
     "metadata": {},
     "output_type": "execute_result"
    }
   ],
   "source": [
    "import requests\n",
    "\n",
    "from urllib.parse import urlencode, urljoin\n",
    "\n",
    "base_url = 'https://opendata.vancouver.ca/api/v2/'\n",
    "catalog_item = 'catalog/datasets/council-voting-records/records'\n",
    "headers = {\n",
    " 'Content-Type': 'application/json; charset=utf-8'\n",
    "}\n",
    "\n",
    "\n",
    "params = {\n",
    "    'dataset_id' : 'council-voting-records',\n",
    "    'limit'      : 10,\n",
    "    'where'      : 'meeting_type = \"Council\"',\n",
    "}\n",
    "\n",
    "\n",
    "r = requests.get(urljoin(base_url, catalog_item) , params=params)\n",
    "r.status_code"
   ]
  },
  {
   "cell_type": "code",
   "execution_count": 115,
   "metadata": {},
   "outputs": [
    {
     "data": {
      "text/plain": [
       "'application/json; charset=utf-8'"
      ]
     },
     "execution_count": 115,
     "metadata": {},
     "output_type": "execute_result"
    }
   ],
   "source": [
    "r.headers['content-type']"
   ]
  },
  {
   "cell_type": "code",
   "execution_count": 117,
   "metadata": {},
   "outputs": [],
   "source": [
    "r.json();"
   ]
  },
  {
   "cell_type": "markdown",
   "metadata": {},
   "source": [
    "If you look up these params in the the [API documentation](https://opendata.vancouver.ca/api/v2/console#!/dataset/getRecords) you'll see that we are filtering for records where `meeting_type` is `Council` and we are asking for a `limit` of 10 records (which is actually the default value of `limit`). But there are more records in total which match that filter (look at the first line of `r.json()`. If we want them all, we have to access them in pages. Before we do that though, we should think about rate limits. Almost every API will implement some form of rate limit and the Vancouver Open Data (as well as a lot of other places) will tell you what your current rate limit status is in the response headers."
   ]
  },
  {
   "cell_type": "code",
   "execution_count": 118,
   "metadata": {},
   "outputs": [
    {
     "data": {
      "text/plain": [
       "{'X-RateLimit-Remaining': '14948',\n",
       " 'X-RateLimit-Limit': '15000',\n",
       " 'X-RateLimit-Reset': '2023-07-12 00:00:00+00:00'}"
      ]
     },
     "execution_count": 118,
     "metadata": {},
     "output_type": "execute_result"
    }
   ],
   "source": [
    "{k:v for k, v in dict(r.headers).items() if k.startswith('X-Rate')}"
   ]
  },
  {
   "cell_type": "markdown",
   "metadata": {},
   "source": [
    "[Their documentation](https://help.opendatasoft.com/apis/ods-search-v1/#quotas) has information on these values. In general, registered users will be given more generous limits. Often this means registering for some kind of token and including it in your requests, we will do this below, but with one **major** caveat. The token is usually equivalent to a password and you should treat it the same way. Don't share it with people, be careful where you use it (including jupyter notebook output cells!), and make sure you don't check it into version control!"
   ]
  },
  {
   "cell_type": "code",
   "execution_count": 119,
   "metadata": {},
   "outputs": [],
   "source": [
    "import os\n",
    "from getpass import getpass"
   ]
  },
  {
   "cell_type": "code",
   "execution_count": 120,
   "metadata": {
    "tags": []
   },
   "outputs": [
    {
     "name": "stdin",
     "output_type": "stream",
     "text": [
      "API Key ········\n"
     ]
    }
   ],
   "source": [
    "os.environ['VAN_API_KEY'] = getpass('API Key')"
   ]
  },
  {
   "cell_type": "code",
   "execution_count": 121,
   "metadata": {},
   "outputs": [],
   "source": [
    "params['apikey'] = os.environ['VAN_API_KEY']\n",
    "r = requests.get(base_url, params=params)"
   ]
  },
  {
   "cell_type": "code",
   "execution_count": 122,
   "metadata": {},
   "outputs": [
    {
     "data": {
      "text/plain": [
       "{}"
      ]
     },
     "execution_count": 122,
     "metadata": {},
     "output_type": "execute_result"
    }
   ],
   "source": [
    "{k:v for k, v in dict(r.headers).items() if k.startswith('X-Rate')}"
   ]
  },
  {
   "cell_type": "markdown",
   "metadata": {},
   "source": [
    "With our new rate limit we can make multiple requests and get all of the data we wanted. Even so it is worth limiting the impact we will have on their API, there are modules like [ratelimit](https://pypi.org/project/ratelimit/) which can do this systematically, but we will just add a manual delay."
   ]
  },
  {
   "cell_type": "code",
   "execution_count": 123,
   "metadata": {},
   "outputs": [],
   "source": [
    "import time\n",
    "from urllib.parse import urlencode, urljoin\n",
    "\n",
    "records = []\n",
    "params['rows'] = 50\n",
    "\n",
    "url  = f\"{urljoin(base_url, catalog_item)}?{urlencode(params)}\"\n",
    "json = ''\n",
    "while len(records) < 250:\n",
    "    time.sleep(2)\n",
    "    \n",
    "    r = requests.get(url)\n",
    "    urls = {x['rel']:x['href'] for x in r.json()['links']}\n",
    "\n",
    "    records.extend(r.json()['records'])\n",
    "    \n",
    "    if urls['self'] == urls['last']:\n",
    "        break\n",
    "    else:\n",
    "        url = urls['next']\n",
    "        params = {}"
   ]
  },
  {
   "cell_type": "code",
   "execution_count": 126,
   "metadata": {},
   "outputs": [
    {
     "data": {
      "text/plain": [
       "{'links': [{'rel': 'self',\n",
       "   'href': 'https://opendata.vancouver.ca/api/v2/catalog/datasets/council-voting-records/records/dccd6b85ab71be5dd43503dda67c0f8eb7709fc4'},\n",
       "  {'rel': 'datasets',\n",
       "   'href': 'https://opendata.vancouver.ca/api/v2/catalog/datasets'},\n",
       "  {'rel': 'dataset',\n",
       "   'href': 'https://opendata.vancouver.ca/api/v2/catalog/datasets/council-voting-records'}],\n",
       " 'record': {'id': 'dccd6b85ab71be5dd43503dda67c0f8eb7709fc4',\n",
       "  'timestamp': '2023-07-11T12:23:58.236Z',\n",
       "  'size': 306,\n",
       "  'fields': {'meeting_type': 'Council',\n",
       "   'vote_date': '2020-11-24',\n",
       "   'vote_number': '6676',\n",
       "   'agenda_description': 'R5. Criteria for 100% Secured Rental and Below Market Housing as an Alternative to Inclusionary Social Housing in the Burrard Corridor of the West End Community Plan - Amendment',\n",
       "   'vote_start_date_time': '2020-11-24T19:46:32+00:00',\n",
       "   'council_member': 'Councillor M De Genova',\n",
       "   'vote': 'In Favour',\n",
       "   'decision': 'Carried Unanimously',\n",
       "   'vote_detail_id': '60844'}}}"
      ]
     },
     "execution_count": 126,
     "metadata": {},
     "output_type": "execute_result"
    }
   ],
   "source": [
    "records[-1]"
   ]
  },
  {
   "cell_type": "markdown",
   "metadata": {},
   "source": [
    "So we have a list of these json objects, the important stuff is in the 'record' key, under 'fields'"
   ]
  },
  {
   "cell_type": "code",
   "execution_count": 127,
   "metadata": {},
   "outputs": [
    {
     "data": {
      "text/html": [
       "<div>\n",
       "<style scoped>\n",
       "    .dataframe tbody tr th:only-of-type {\n",
       "        vertical-align: middle;\n",
       "    }\n",
       "\n",
       "    .dataframe tbody tr th {\n",
       "        vertical-align: top;\n",
       "    }\n",
       "\n",
       "    .dataframe thead th {\n",
       "        text-align: right;\n",
       "    }\n",
       "</style>\n",
       "<table border=\"1\" class=\"dataframe\">\n",
       "  <thead>\n",
       "    <tr style=\"text-align: right;\">\n",
       "      <th></th>\n",
       "      <th>meeting_type</th>\n",
       "      <th>vote_date</th>\n",
       "      <th>vote_number</th>\n",
       "      <th>agenda_description</th>\n",
       "      <th>vote_start_date_time</th>\n",
       "      <th>council_member</th>\n",
       "      <th>vote</th>\n",
       "      <th>decision</th>\n",
       "    </tr>\n",
       "    <tr>\n",
       "      <th>vote_detail_id</th>\n",
       "      <th></th>\n",
       "      <th></th>\n",
       "      <th></th>\n",
       "      <th></th>\n",
       "      <th></th>\n",
       "      <th></th>\n",
       "      <th></th>\n",
       "      <th></th>\n",
       "    </tr>\n",
       "  </thead>\n",
       "  <tbody>\n",
       "    <tr>\n",
       "      <th>74344</th>\n",
       "      <td>Council</td>\n",
       "      <td>2021-12-14</td>\n",
       "      <td>7962</td>\n",
       "      <td>UB1. Streamlining Rental Around Local Shopping...</td>\n",
       "      <td>2021-12-15T03:21:09+00:00</td>\n",
       "      <td>Councillor C Boyle</td>\n",
       "      <td>In Favour</td>\n",
       "      <td>Carried Unanimously</td>\n",
       "    </tr>\n",
       "    <tr>\n",
       "      <th>74348</th>\n",
       "      <td>Council</td>\n",
       "      <td>2021-12-14</td>\n",
       "      <td>7963</td>\n",
       "      <td>Motion B5. Affirming Vancouver’s Commitment to...</td>\n",
       "      <td>2021-12-15T03:31:48+00:00</td>\n",
       "      <td>Mayor K Stewart</td>\n",
       "      <td>In Favour</td>\n",
       "      <td>Carried Unanimously</td>\n",
       "    </tr>\n",
       "    <tr>\n",
       "      <th>74349</th>\n",
       "      <td>Council</td>\n",
       "      <td>2021-12-14</td>\n",
       "      <td>7963</td>\n",
       "      <td>Motion B5. Affirming Vancouver’s Commitment to...</td>\n",
       "      <td>2021-12-15T03:31:48+00:00</td>\n",
       "      <td>Councillor A Carr</td>\n",
       "      <td>In Favour</td>\n",
       "      <td>Carried Unanimously</td>\n",
       "    </tr>\n",
       "    <tr>\n",
       "      <th>74351</th>\n",
       "      <td>Council</td>\n",
       "      <td>2021-12-14</td>\n",
       "      <td>7963</td>\n",
       "      <td>Motion B5. Affirming Vancouver’s Commitment to...</td>\n",
       "      <td>2021-12-15T03:31:48+00:00</td>\n",
       "      <td>Councillor P Fry</td>\n",
       "      <td>In Favour</td>\n",
       "      <td>Carried Unanimously</td>\n",
       "    </tr>\n",
       "    <tr>\n",
       "      <th>74354</th>\n",
       "      <td>Council</td>\n",
       "      <td>2021-12-14</td>\n",
       "      <td>7963</td>\n",
       "      <td>Motion B5. Affirming Vancouver’s Commitment to...</td>\n",
       "      <td>2021-12-15T03:31:48+00:00</td>\n",
       "      <td>Councillor M Wiebe</td>\n",
       "      <td>In Favour</td>\n",
       "      <td>Carried Unanimously</td>\n",
       "    </tr>\n",
       "  </tbody>\n",
       "</table>\n",
       "</div>"
      ],
      "text/plain": [
       "               meeting_type   vote_date vote_number  \\\n",
       "vote_detail_id                                        \n",
       "74344               Council  2021-12-14        7962   \n",
       "74348               Council  2021-12-14        7963   \n",
       "74349               Council  2021-12-14        7963   \n",
       "74351               Council  2021-12-14        7963   \n",
       "74354               Council  2021-12-14        7963   \n",
       "\n",
       "                                               agenda_description  \\\n",
       "vote_detail_id                                                      \n",
       "74344           UB1. Streamlining Rental Around Local Shopping...   \n",
       "74348           Motion B5. Affirming Vancouver’s Commitment to...   \n",
       "74349           Motion B5. Affirming Vancouver’s Commitment to...   \n",
       "74351           Motion B5. Affirming Vancouver’s Commitment to...   \n",
       "74354           Motion B5. Affirming Vancouver’s Commitment to...   \n",
       "\n",
       "                     vote_start_date_time      council_member       vote  \\\n",
       "vote_detail_id                                                             \n",
       "74344           2021-12-15T03:21:09+00:00  Councillor C Boyle  In Favour   \n",
       "74348           2021-12-15T03:31:48+00:00     Mayor K Stewart  In Favour   \n",
       "74349           2021-12-15T03:31:48+00:00   Councillor A Carr  In Favour   \n",
       "74351           2021-12-15T03:31:48+00:00    Councillor P Fry  In Favour   \n",
       "74354           2021-12-15T03:31:48+00:00  Councillor M Wiebe  In Favour   \n",
       "\n",
       "                           decision  \n",
       "vote_detail_id                       \n",
       "74344           Carried Unanimously  \n",
       "74348           Carried Unanimously  \n",
       "74349           Carried Unanimously  \n",
       "74351           Carried Unanimously  \n",
       "74354           Carried Unanimously  "
      ]
     },
     "execution_count": 127,
     "metadata": {},
     "output_type": "execute_result"
    }
   ],
   "source": [
    "votes = pd.DataFrame([chunk['record']['fields'] for chunk in records]).set_index('vote_detail_id')\n",
    "votes.head()"
   ]
  },
  {
   "cell_type": "code",
   "execution_count": 128,
   "metadata": {},
   "outputs": [
    {
     "name": "stdout",
     "output_type": "stream",
     "text": [
      "<class 'pandas.core.frame.DataFrame'>\n",
      "Index: 250 entries, 74344 to 60844\n",
      "Data columns (total 8 columns):\n",
      " #   Column                Non-Null Count  Dtype \n",
      "---  ------                --------------  ----- \n",
      " 0   meeting_type          250 non-null    object\n",
      " 1   vote_date             250 non-null    object\n",
      " 2   vote_number           250 non-null    object\n",
      " 3   agenda_description    250 non-null    object\n",
      " 4   vote_start_date_time  250 non-null    object\n",
      " 5   council_member        250 non-null    object\n",
      " 6   vote                  250 non-null    object\n",
      " 7   decision              250 non-null    object\n",
      "dtypes: object(8)\n",
      "memory usage: 17.6+ KB\n"
     ]
    }
   ],
   "source": [
    "votes.info()"
   ]
  },
  {
   "cell_type": "code",
   "execution_count": 130,
   "metadata": {},
   "outputs": [
    {
     "data": {
      "text/plain": [
       "<Axes: ylabel='decision'>"
      ]
     },
     "execution_count": 130,
     "metadata": {},
     "output_type": "execute_result"
    },
    {
     "data": {
      "image/png": "[encoded data removed]",
      "text/plain": [
       "<Figure size 640x480 with 1 Axes>"
      ]
     },
     "metadata": {},
     "output_type": "display_data"
    }
   ],
   "source": [
    "#[votes[col] = votes[' for col in ['meeting_type', 'vote', 'decision']]\n",
    "votes = votes.astype({\n",
    "    'meeting_type': 'category',\n",
    "    'vote': 'category',\n",
    "    'decision': 'category',\n",
    "})\n",
    "votes['vote_start_date_time'] = pd.to_datetime(votes.vote_start_date_time)\n",
    "votes['vote_date'] = pd.to_datetime(votes.vote_date)\n",
    "votes.decision.value_counts().plot(kind='pie')"
   ]
  },
  {
   "cell_type": "markdown",
   "metadata": {},
   "source": [
    "## TimeSeries\n",
    "\n",
    "We've already talked a bit about time and date handling, but the author of pandas wrote it to deal with time series data so it really excels here. The main objects to be aware of are\n",
    "\n",
    "  * **Time Stamps**: Specific points in time usually recorded to the second or nanosecond\n",
    "  * **Time Intervals/Time Deltas**: These types lets you do arithmetic on time objects\n",
    "\n",
    "and there associated indices. We need some dates to play with. There's a convenience function called `to_datetime` which can convert many \"human readable\" dates to a pd.Timestamp object"
   ]
  },
  {
   "cell_type": "code",
   "execution_count": 131,
   "metadata": {},
   "outputs": [
    {
     "data": {
      "text/plain": [
       "Timestamp('1969-07-20 20:17:00+0000', tz='UTC')"
      ]
     },
     "execution_count": 131,
     "metadata": {},
     "output_type": "execute_result"
    }
   ],
   "source": [
    "from datetime import datetime\n",
    "\n",
    "moonwalk = pd.to_datetime('July 20, 1969, 20:17 UTC')\n",
    "moonwalk"
   ]
  },
  {
   "cell_type": "markdown",
   "metadata": {},
   "source": [
    "Timestamps have attributes which let you extract days, year, etc. Normally these will be reported as numbers, but the strftime method supports the usual format specifiers (The correspond with the libc specifiers, here's a reference http://strftime.org/)"
   ]
  },
  {
   "cell_type": "code",
   "execution_count": 132,
   "metadata": {},
   "outputs": [
    {
     "data": {
      "text/plain": [
       "1969"
      ]
     },
     "execution_count": 132,
     "metadata": {},
     "output_type": "execute_result"
    }
   ],
   "source": [
    "moonwalk.year"
   ]
  },
  {
   "cell_type": "code",
   "execution_count": 134,
   "metadata": {},
   "outputs": [
    {
     "name": "stdout",
     "output_type": "stream",
     "text": [
      "The moon walk took place on a Sunday\n"
     ]
    }
   ],
   "source": [
    "print(f\"The moon walk took place on a {moonwalk.strftime('%A')}\")"
   ]
  },
  {
   "cell_type": "code",
   "execution_count": 135,
   "metadata": {},
   "outputs": [
    {
     "data": {
      "text/plain": [
       "Timestamp('2023-07-11 17:28:45.947952+0000', tz='UTC')"
      ]
     },
     "execution_count": 135,
     "metadata": {},
     "output_type": "execute_result"
    }
   ],
   "source": [
    "pd.to_datetime(datetime.utcnow(), utc=True)"
   ]
  },
  {
   "cell_type": "markdown",
   "metadata": {},
   "source": [
    "Let's look at another sample dataset. This time, it is a record of historical flight data. It contains various columns, we will look at\n",
    "\n",
    "  * `activity_period`: The date for the record in the format yyyymm\n",
    "  * `passenger_count`\n",
    "  \n",
    "We can parse the date into a DateTime with `pd.to_datetime` then set the result as the index. We can then slice dates and resample"
   ]
  },
  {
   "cell_type": "code",
   "execution_count": 136,
   "metadata": {},
   "outputs": [
    {
     "data": {
      "text/html": [
       "<div>\n",
       "<style scoped>\n",
       "    .dataframe tbody tr th:only-of-type {\n",
       "        vertical-align: middle;\n",
       "    }\n",
       "\n",
       "    .dataframe tbody tr th {\n",
       "        vertical-align: top;\n",
       "    }\n",
       "\n",
       "    .dataframe thead th {\n",
       "        text-align: right;\n",
       "    }\n",
       "</style>\n",
       "<table border=\"1\" class=\"dataframe\">\n",
       "  <thead>\n",
       "    <tr style=\"text-align: right;\">\n",
       "      <th></th>\n",
       "      <th>activity_period</th>\n",
       "      <th>operating_airline</th>\n",
       "      <th>operating_airline_iata_code</th>\n",
       "      <th>published_airline</th>\n",
       "      <th>published_airline_iata_code</th>\n",
       "      <th>geo_summary</th>\n",
       "      <th>geo_region</th>\n",
       "      <th>activity_type_code</th>\n",
       "      <th>price_category_code</th>\n",
       "      <th>terminal</th>\n",
       "      <th>boarding_area</th>\n",
       "      <th>passenger_count</th>\n",
       "    </tr>\n",
       "  </thead>\n",
       "  <tbody>\n",
       "    <tr>\n",
       "      <th>0</th>\n",
       "      <td>202212</td>\n",
       "      <td>SkyWest Airlines</td>\n",
       "      <td>OO</td>\n",
       "      <td>Alaska Airlines</td>\n",
       "      <td>AS</td>\n",
       "      <td>Domestic</td>\n",
       "      <td>US</td>\n",
       "      <td>Deplaned</td>\n",
       "      <td>Other</td>\n",
       "      <td>Terminal 2</td>\n",
       "      <td>D</td>\n",
       "      <td>55553</td>\n",
       "    </tr>\n",
       "    <tr>\n",
       "      <th>1</th>\n",
       "      <td>202212</td>\n",
       "      <td>Hawaiian Airlines</td>\n",
       "      <td>HA</td>\n",
       "      <td>Hawaiian Airlines</td>\n",
       "      <td>HA</td>\n",
       "      <td>Domestic</td>\n",
       "      <td>US</td>\n",
       "      <td>Deplaned</td>\n",
       "      <td>Other</td>\n",
       "      <td>International</td>\n",
       "      <td>A</td>\n",
       "      <td>10909</td>\n",
       "    </tr>\n",
       "    <tr>\n",
       "      <th>2</th>\n",
       "      <td>202212</td>\n",
       "      <td>Delta Air Lines</td>\n",
       "      <td>DL</td>\n",
       "      <td>Delta Air Lines</td>\n",
       "      <td>DL</td>\n",
       "      <td>Domestic</td>\n",
       "      <td>US</td>\n",
       "      <td>Enplaned</td>\n",
       "      <td>Other</td>\n",
       "      <td>Terminal 1</td>\n",
       "      <td>C</td>\n",
       "      <td>134756</td>\n",
       "    </tr>\n",
       "    <tr>\n",
       "      <th>3</th>\n",
       "      <td>202212</td>\n",
       "      <td>WestJet Airlines</td>\n",
       "      <td>WS</td>\n",
       "      <td>WestJet Airlines</td>\n",
       "      <td>WS</td>\n",
       "      <td>International</td>\n",
       "      <td>Canada</td>\n",
       "      <td>Deplaned</td>\n",
       "      <td>Other</td>\n",
       "      <td>International</td>\n",
       "      <td>A</td>\n",
       "      <td>1679</td>\n",
       "    </tr>\n",
       "    <tr>\n",
       "      <th>4</th>\n",
       "      <td>202212</td>\n",
       "      <td>Emirates</td>\n",
       "      <td>EK</td>\n",
       "      <td>Emirates</td>\n",
       "      <td>EK</td>\n",
       "      <td>International</td>\n",
       "      <td>Middle East</td>\n",
       "      <td>Deplaned</td>\n",
       "      <td>Other</td>\n",
       "      <td>International</td>\n",
       "      <td>A</td>\n",
       "      <td>13131</td>\n",
       "    </tr>\n",
       "  </tbody>\n",
       "</table>\n",
       "</div>"
      ],
      "text/plain": [
       "  activity_period  operating_airline operating_airline_iata_code  \\\n",
       "0          202212   SkyWest Airlines                          OO   \n",
       "1          202212  Hawaiian Airlines                          HA   \n",
       "2          202212    Delta Air Lines                          DL   \n",
       "3          202212   WestJet Airlines                          WS   \n",
       "4          202212           Emirates                          EK   \n",
       "\n",
       "   published_airline published_airline_iata_code    geo_summary   geo_region  \\\n",
       "0    Alaska Airlines                          AS       Domestic           US   \n",
       "1  Hawaiian Airlines                          HA       Domestic           US   \n",
       "2    Delta Air Lines                          DL       Domestic           US   \n",
       "3   WestJet Airlines                          WS  International       Canada   \n",
       "4           Emirates                          EK  International  Middle East   \n",
       "\n",
       "  activity_type_code price_category_code       terminal boarding_area  \\\n",
       "0           Deplaned               Other     Terminal 2             D   \n",
       "1           Deplaned               Other  International             A   \n",
       "2           Enplaned               Other     Terminal 1             C   \n",
       "3           Deplaned               Other  International             A   \n",
       "4           Deplaned               Other  International             A   \n",
       "\n",
       "  passenger_count  \n",
       "0           55553  \n",
       "1           10909  \n",
       "2          134756  \n",
       "3            1679  \n",
       "4           13131  "
      ]
     },
     "execution_count": 136,
     "metadata": {},
     "output_type": "execute_result"
    }
   ],
   "source": [
    "r = requests.get('https://data.sfgov.org/resource/rkru-6vcg?$limit=10000')\n",
    "\n",
    "flightsDF = pd.DataFrame(r.json())\n",
    "flightsDF.head()"
   ]
  },
  {
   "cell_type": "code",
   "execution_count": 140,
   "metadata": {},
   "outputs": [
    {
     "data": {
      "text/html": [
       "<div>\n",
       "<style scoped>\n",
       "    .dataframe tbody tr th:only-of-type {\n",
       "        vertical-align: middle;\n",
       "    }\n",
       "\n",
       "    .dataframe tbody tr th {\n",
       "        vertical-align: top;\n",
       "    }\n",
       "\n",
       "    .dataframe thead th {\n",
       "        text-align: right;\n",
       "    }\n",
       "</style>\n",
       "<table border=\"1\" class=\"dataframe\">\n",
       "  <thead>\n",
       "    <tr style=\"text-align: right;\">\n",
       "      <th></th>\n",
       "      <th>activity_period</th>\n",
       "      <th>operating_airline</th>\n",
       "      <th>operating_airline_iata_code</th>\n",
       "      <th>published_airline</th>\n",
       "      <th>published_airline_iata_code</th>\n",
       "      <th>geo_summary</th>\n",
       "      <th>geo_region</th>\n",
       "      <th>activity_type_code</th>\n",
       "      <th>price_category_code</th>\n",
       "      <th>terminal</th>\n",
       "      <th>boarding_area</th>\n",
       "      <th>passenger_count</th>\n",
       "    </tr>\n",
       "    <tr>\n",
       "      <th>date</th>\n",
       "      <th></th>\n",
       "      <th></th>\n",
       "      <th></th>\n",
       "      <th></th>\n",
       "      <th></th>\n",
       "      <th></th>\n",
       "      <th></th>\n",
       "      <th></th>\n",
       "      <th></th>\n",
       "      <th></th>\n",
       "      <th></th>\n",
       "      <th></th>\n",
       "    </tr>\n",
       "  </thead>\n",
       "  <tbody>\n",
       "    <tr>\n",
       "      <th>2022-12-01</th>\n",
       "      <td>202212</td>\n",
       "      <td>SkyWest Airlines</td>\n",
       "      <td>OO</td>\n",
       "      <td>Alaska Airlines</td>\n",
       "      <td>AS</td>\n",
       "      <td>Domestic</td>\n",
       "      <td>US</td>\n",
       "      <td>Deplaned</td>\n",
       "      <td>Other</td>\n",
       "      <td>Terminal 2</td>\n",
       "      <td>D</td>\n",
       "      <td>55553</td>\n",
       "    </tr>\n",
       "    <tr>\n",
       "      <th>2022-12-01</th>\n",
       "      <td>202212</td>\n",
       "      <td>Hawaiian Airlines</td>\n",
       "      <td>HA</td>\n",
       "      <td>Hawaiian Airlines</td>\n",
       "      <td>HA</td>\n",
       "      <td>Domestic</td>\n",
       "      <td>US</td>\n",
       "      <td>Deplaned</td>\n",
       "      <td>Other</td>\n",
       "      <td>International</td>\n",
       "      <td>A</td>\n",
       "      <td>10909</td>\n",
       "    </tr>\n",
       "    <tr>\n",
       "      <th>2022-12-01</th>\n",
       "      <td>202212</td>\n",
       "      <td>Delta Air Lines</td>\n",
       "      <td>DL</td>\n",
       "      <td>Delta Air Lines</td>\n",
       "      <td>DL</td>\n",
       "      <td>Domestic</td>\n",
       "      <td>US</td>\n",
       "      <td>Enplaned</td>\n",
       "      <td>Other</td>\n",
       "      <td>Terminal 1</td>\n",
       "      <td>C</td>\n",
       "      <td>134756</td>\n",
       "    </tr>\n",
       "    <tr>\n",
       "      <th>2022-12-01</th>\n",
       "      <td>202212</td>\n",
       "      <td>WestJet Airlines</td>\n",
       "      <td>WS</td>\n",
       "      <td>WestJet Airlines</td>\n",
       "      <td>WS</td>\n",
       "      <td>International</td>\n",
       "      <td>Canada</td>\n",
       "      <td>Deplaned</td>\n",
       "      <td>Other</td>\n",
       "      <td>International</td>\n",
       "      <td>A</td>\n",
       "      <td>1679</td>\n",
       "    </tr>\n",
       "    <tr>\n",
       "      <th>2022-12-01</th>\n",
       "      <td>202212</td>\n",
       "      <td>Emirates</td>\n",
       "      <td>EK</td>\n",
       "      <td>Emirates</td>\n",
       "      <td>EK</td>\n",
       "      <td>International</td>\n",
       "      <td>Middle East</td>\n",
       "      <td>Deplaned</td>\n",
       "      <td>Other</td>\n",
       "      <td>International</td>\n",
       "      <td>A</td>\n",
       "      <td>13131</td>\n",
       "    </tr>\n",
       "  </tbody>\n",
       "</table>\n",
       "</div>"
      ],
      "text/plain": [
       "           activity_period  operating_airline operating_airline_iata_code  \\\n",
       "date                                                                        \n",
       "2022-12-01          202212   SkyWest Airlines                          OO   \n",
       "2022-12-01          202212  Hawaiian Airlines                          HA   \n",
       "2022-12-01          202212    Delta Air Lines                          DL   \n",
       "2022-12-01          202212   WestJet Airlines                          WS   \n",
       "2022-12-01          202212           Emirates                          EK   \n",
       "\n",
       "            published_airline published_airline_iata_code    geo_summary  \\\n",
       "date                                                                       \n",
       "2022-12-01    Alaska Airlines                          AS       Domestic   \n",
       "2022-12-01  Hawaiian Airlines                          HA       Domestic   \n",
       "2022-12-01    Delta Air Lines                          DL       Domestic   \n",
       "2022-12-01   WestJet Airlines                          WS  International   \n",
       "2022-12-01           Emirates                          EK  International   \n",
       "\n",
       "             geo_region activity_type_code price_category_code       terminal  \\\n",
       "date                                                                            \n",
       "2022-12-01           US           Deplaned               Other     Terminal 2   \n",
       "2022-12-01           US           Deplaned               Other  International   \n",
       "2022-12-01           US           Enplaned               Other     Terminal 1   \n",
       "2022-12-01       Canada           Deplaned               Other  International   \n",
       "2022-12-01  Middle East           Deplaned               Other  International   \n",
       "\n",
       "           boarding_area  passenger_count  \n",
       "date                                       \n",
       "2022-12-01             D            55553  \n",
       "2022-12-01             A            10909  \n",
       "2022-12-01             C           134756  \n",
       "2022-12-01             A             1679  \n",
       "2022-12-01             A            13131  "
      ]
     },
     "execution_count": 140,
     "metadata": {},
     "output_type": "execute_result"
    }
   ],
   "source": [
    "flightsDF['passenger_count'] = flightsDF['passenger_count'].astype(int)\n",
    "flightsDF['date'] = pd.to_datetime(flightsDF['activity_period'], format='%Y%m')\n",
    "\n",
    "flightsDF.set_index('date', inplace=True)\n",
    "flightsDF.head()"
   ]
  },
  {
   "cell_type": "code",
   "execution_count": 142,
   "metadata": {},
   "outputs": [
    {
     "data": {
      "text/html": [
       "<div>\n",
       "<style scoped>\n",
       "    .dataframe tbody tr th:only-of-type {\n",
       "        vertical-align: middle;\n",
       "    }\n",
       "\n",
       "    .dataframe tbody tr th {\n",
       "        vertical-align: top;\n",
       "    }\n",
       "\n",
       "    .dataframe thead th {\n",
       "        text-align: right;\n",
       "    }\n",
       "</style>\n",
       "<table border=\"1\" class=\"dataframe\">\n",
       "  <thead>\n",
       "    <tr style=\"text-align: right;\">\n",
       "      <th></th>\n",
       "      <th>passenger_count</th>\n",
       "    </tr>\n",
       "    <tr>\n",
       "      <th>date</th>\n",
       "      <th></th>\n",
       "    </tr>\n",
       "  </thead>\n",
       "  <tbody>\n",
       "    <tr>\n",
       "      <th>2019-04-30</th>\n",
       "      <td>3299034</td>\n",
       "    </tr>\n",
       "    <tr>\n",
       "      <th>2019-05-31</th>\n",
       "      <td>10016002</td>\n",
       "    </tr>\n",
       "    <tr>\n",
       "      <th>2019-06-30</th>\n",
       "      <td>10933376</td>\n",
       "    </tr>\n",
       "    <tr>\n",
       "      <th>2019-07-31</th>\n",
       "      <td>11224624</td>\n",
       "    </tr>\n",
       "    <tr>\n",
       "      <th>2019-08-31</th>\n",
       "      <td>11484874</td>\n",
       "    </tr>\n",
       "  </tbody>\n",
       "</table>\n",
       "</div>"
      ],
      "text/plain": [
       "            passenger_count\n",
       "date                       \n",
       "2019-04-30          3299034\n",
       "2019-05-31         10016002\n",
       "2019-06-30         10933376\n",
       "2019-07-31         11224624\n",
       "2019-08-31         11484874"
      ]
     },
     "execution_count": 142,
     "metadata": {},
     "output_type": "execute_result"
    }
   ],
   "source": [
    "monthlyFlightsDF = flightsDF[['passenger_count']].resample('M').sum()\n",
    "monthlyFlightsDF.head()"
   ]
  },
  {
   "cell_type": "code",
   "execution_count": 144,
   "metadata": {},
   "outputs": [
    {
     "data": {
      "text/plain": [
       "<Axes: xlabel='date'>"
      ]
     },
     "execution_count": 144,
     "metadata": {},
     "output_type": "execute_result"
    },
    {
     "data": {
      "image/png": "[encoded data removed]",
      "text/plain": [
       "<Figure size 640x480 with 1 Axes>"
      ]
     },
     "metadata": {},
     "output_type": "display_data"
    }
   ],
   "source": [
    "monthlyFlightsDF.loc['2021-01-01':, 'passenger_count'].plot(kind='bar')"
   ]
  },
  {
   "cell_type": "markdown",
   "metadata": {},
   "source": [
    "Timestamp objects can also deal with arithmetic"
   ]
  },
  {
   "cell_type": "code",
   "execution_count": 146,
   "metadata": {},
   "outputs": [
    {
     "data": {
      "text/plain": [
       "Timedelta('-1340 days +00:00:00')"
      ]
     },
     "execution_count": 146,
     "metadata": {},
     "output_type": "execute_result"
    }
   ],
   "source": [
    "flightsDF.index[-1] - flightsDF.index[0]"
   ]
  },
  {
   "cell_type": "code",
   "execution_count": 147,
   "metadata": {},
   "outputs": [
    {
     "data": {
      "text/plain": [
       "<Axes: xlabel='date'>"
      ]
     },
     "execution_count": 147,
     "metadata": {},
     "output_type": "execute_result"
    },
    {
     "data": {
      "image/png": "[encoded data removed]",
      "text/plain": [
       "<Figure size 640x480 with 1 Axes>"
      ]
     },
     "metadata": {},
     "output_type": "display_data"
    }
   ],
   "source": [
    "flightsDF['passenger_count'].resample('Y').mean().plot(kind='bar')"
   ]
  },
  {
   "cell_type": "markdown",
   "metadata": {},
   "source": [
    "Again, the `value_counts` method can be very useful to get an idea of how categorical values are distributed..."
   ]
  },
  {
   "cell_type": "code",
   "execution_count": 148,
   "metadata": {},
   "outputs": [
    {
     "data": {
      "text/plain": [
       "US                     3108\n",
       "Europe                 2035\n",
       "Asia                   1987\n",
       "Canada                  803\n",
       "Mexico                  750\n",
       "Australia / Oceania     562\n",
       "Middle East             405\n",
       "Central America         350\n",
       "Name: geo_region, dtype: int64"
      ]
     },
     "execution_count": 148,
     "metadata": {},
     "output_type": "execute_result"
    }
   ],
   "source": [
    "flightsDF['geo_region'].value_counts()"
   ]
  },
  {
   "cell_type": "markdown",
   "metadata": {},
   "source": [
    "For many of the algorithms in scikit learn, we need to convert categorical variables into numerical values. The simplest case is [one-hot encoding](https://en.wikipedia.org/wiki/One-hot) which Pandas can do this for us with the `.get_dummies` method (sklearn also has it's own methods, but it's handy to be able to do this in general)."
   ]
  },
  {
   "cell_type": "code",
   "execution_count": 149,
   "metadata": {},
   "outputs": [
    {
     "data": {
      "text/html": [
       "<div>\n",
       "<style scoped>\n",
       "    .dataframe tbody tr th:only-of-type {\n",
       "        vertical-align: middle;\n",
       "    }\n",
       "\n",
       "    .dataframe tbody tr th {\n",
       "        vertical-align: top;\n",
       "    }\n",
       "\n",
       "    .dataframe thead th {\n",
       "        text-align: right;\n",
       "    }\n",
       "</style>\n",
       "<table border=\"1\" class=\"dataframe\">\n",
       "  <thead>\n",
       "    <tr style=\"text-align: right;\">\n",
       "      <th></th>\n",
       "      <th>activity_period</th>\n",
       "      <th>geo_summary</th>\n",
       "      <th>geo_region</th>\n",
       "      <th>activity_type_code</th>\n",
       "      <th>price_category_code</th>\n",
       "      <th>terminal</th>\n",
       "      <th>boarding_area</th>\n",
       "      <th>passenger_count</th>\n",
       "      <th>4O</th>\n",
       "      <th>AA</th>\n",
       "      <th>...</th>\n",
       "      <th>SY</th>\n",
       "      <th>TA</th>\n",
       "      <th>TK</th>\n",
       "      <th>TP</th>\n",
       "      <th>TS</th>\n",
       "      <th>UA</th>\n",
       "      <th>VN</th>\n",
       "      <th>VS</th>\n",
       "      <th>WN</th>\n",
       "      <th>WS</th>\n",
       "    </tr>\n",
       "    <tr>\n",
       "      <th>date</th>\n",
       "      <th></th>\n",
       "      <th></th>\n",
       "      <th></th>\n",
       "      <th></th>\n",
       "      <th></th>\n",
       "      <th></th>\n",
       "      <th></th>\n",
       "      <th></th>\n",
       "      <th></th>\n",
       "      <th></th>\n",
       "      <th></th>\n",
       "      <th></th>\n",
       "      <th></th>\n",
       "      <th></th>\n",
       "      <th></th>\n",
       "      <th></th>\n",
       "      <th></th>\n",
       "      <th></th>\n",
       "      <th></th>\n",
       "      <th></th>\n",
       "      <th></th>\n",
       "    </tr>\n",
       "  </thead>\n",
       "  <tbody>\n",
       "    <tr>\n",
       "      <th>2019-04-01</th>\n",
       "      <td>201904</td>\n",
       "      <td>Domestic</td>\n",
       "      <td>US</td>\n",
       "      <td>Enplaned</td>\n",
       "      <td>Other</td>\n",
       "      <td>Terminal 2</td>\n",
       "      <td>D</td>\n",
       "      <td>15374</td>\n",
       "      <td>0</td>\n",
       "      <td>0</td>\n",
       "      <td>...</td>\n",
       "      <td>0</td>\n",
       "      <td>0</td>\n",
       "      <td>0</td>\n",
       "      <td>0</td>\n",
       "      <td>0</td>\n",
       "      <td>0</td>\n",
       "      <td>0</td>\n",
       "      <td>0</td>\n",
       "      <td>0</td>\n",
       "      <td>0</td>\n",
       "    </tr>\n",
       "    <tr>\n",
       "      <th>2019-04-01</th>\n",
       "      <td>201904</td>\n",
       "      <td>Domestic</td>\n",
       "      <td>US</td>\n",
       "      <td>Enplaned</td>\n",
       "      <td>Other</td>\n",
       "      <td>Terminal 2</td>\n",
       "      <td>D</td>\n",
       "      <td>15374</td>\n",
       "      <td>0</td>\n",
       "      <td>0</td>\n",
       "      <td>...</td>\n",
       "      <td>0</td>\n",
       "      <td>0</td>\n",
       "      <td>0</td>\n",
       "      <td>0</td>\n",
       "      <td>0</td>\n",
       "      <td>0</td>\n",
       "      <td>0</td>\n",
       "      <td>0</td>\n",
       "      <td>0</td>\n",
       "      <td>0</td>\n",
       "    </tr>\n",
       "    <tr>\n",
       "      <th>2019-04-01</th>\n",
       "      <td>201904</td>\n",
       "      <td>Domestic</td>\n",
       "      <td>US</td>\n",
       "      <td>Enplaned</td>\n",
       "      <td>Other</td>\n",
       "      <td>Terminal 2</td>\n",
       "      <td>D</td>\n",
       "      <td>15374</td>\n",
       "      <td>0</td>\n",
       "      <td>0</td>\n",
       "      <td>...</td>\n",
       "      <td>0</td>\n",
       "      <td>0</td>\n",
       "      <td>0</td>\n",
       "      <td>0</td>\n",
       "      <td>0</td>\n",
       "      <td>0</td>\n",
       "      <td>0</td>\n",
       "      <td>0</td>\n",
       "      <td>0</td>\n",
       "      <td>0</td>\n",
       "    </tr>\n",
       "    <tr>\n",
       "      <th>2019-04-01</th>\n",
       "      <td>201904</td>\n",
       "      <td>Domestic</td>\n",
       "      <td>US</td>\n",
       "      <td>Enplaned</td>\n",
       "      <td>Other</td>\n",
       "      <td>Terminal 2</td>\n",
       "      <td>D</td>\n",
       "      <td>15374</td>\n",
       "      <td>0</td>\n",
       "      <td>0</td>\n",
       "      <td>...</td>\n",
       "      <td>0</td>\n",
       "      <td>0</td>\n",
       "      <td>0</td>\n",
       "      <td>0</td>\n",
       "      <td>0</td>\n",
       "      <td>0</td>\n",
       "      <td>0</td>\n",
       "      <td>0</td>\n",
       "      <td>0</td>\n",
       "      <td>0</td>\n",
       "    </tr>\n",
       "    <tr>\n",
       "      <th>2019-04-01</th>\n",
       "      <td>201904</td>\n",
       "      <td>Domestic</td>\n",
       "      <td>US</td>\n",
       "      <td>Enplaned</td>\n",
       "      <td>Other</td>\n",
       "      <td>Terminal 2</td>\n",
       "      <td>D</td>\n",
       "      <td>15374</td>\n",
       "      <td>0</td>\n",
       "      <td>0</td>\n",
       "      <td>...</td>\n",
       "      <td>0</td>\n",
       "      <td>0</td>\n",
       "      <td>0</td>\n",
       "      <td>0</td>\n",
       "      <td>0</td>\n",
       "      <td>0</td>\n",
       "      <td>0</td>\n",
       "      <td>0</td>\n",
       "      <td>0</td>\n",
       "      <td>0</td>\n",
       "    </tr>\n",
       "  </tbody>\n",
       "</table>\n",
       "<p>5 rows × 68 columns</p>\n",
       "</div>"
      ],
      "text/plain": [
       "           activity_period geo_summary geo_region activity_type_code  \\\n",
       "date                                                                   \n",
       "2019-04-01          201904    Domestic         US           Enplaned   \n",
       "2019-04-01          201904    Domestic         US           Enplaned   \n",
       "2019-04-01          201904    Domestic         US           Enplaned   \n",
       "2019-04-01          201904    Domestic         US           Enplaned   \n",
       "2019-04-01          201904    Domestic         US           Enplaned   \n",
       "\n",
       "           price_category_code    terminal boarding_area  passenger_count  4O  \\\n",
       "date                                                                            \n",
       "2019-04-01               Other  Terminal 2             D            15374   0   \n",
       "2019-04-01               Other  Terminal 2             D            15374   0   \n",
       "2019-04-01               Other  Terminal 2             D            15374   0   \n",
       "2019-04-01               Other  Terminal 2             D            15374   0   \n",
       "2019-04-01               Other  Terminal 2             D            15374   0   \n",
       "\n",
       "            AA  ...  SY  TA  TK  TP  TS  UA  VN  VS  WN  WS  \n",
       "date            ...                                          \n",
       "2019-04-01   0  ...   0   0   0   0   0   0   0   0   0   0  \n",
       "2019-04-01   0  ...   0   0   0   0   0   0   0   0   0   0  \n",
       "2019-04-01   0  ...   0   0   0   0   0   0   0   0   0   0  \n",
       "2019-04-01   0  ...   0   0   0   0   0   0   0   0   0   0  \n",
       "2019-04-01   0  ...   0   0   0   0   0   0   0   0   0   0  \n",
       "\n",
       "[5 rows x 68 columns]"
      ]
     },
     "execution_count": 149,
     "metadata": {},
     "output_type": "execute_result"
    }
   ],
   "source": [
    "airlines_one_hot = pd.get_dummies(flightsDF['operating_airline_iata_code'])\n",
    "flightsDF = flightsDF.drop([\n",
    "    'operating_airline_iata_code',\n",
    "    'operating_airline',\n",
    "    'published_airline',\n",
    "    'published_airline_iata_code',\n",
    "], axis = 1\n",
    "                          )\n",
    "flightsDF.join(airlines_one_hot).head()"
   ]
  },
  {
   "cell_type": "markdown",
   "metadata": {},
   "source": [
    "_**Exercise**: Try resampling to find the total passenger count each quarter_"
   ]
  },
  {
   "cell_type": "code",
   "execution_count": 150,
   "metadata": {},
   "outputs": [
    {
     "data": {
      "text/html": [
       "<div>\n",
       "<style scoped>\n",
       "    .dataframe tbody tr th:only-of-type {\n",
       "        vertical-align: middle;\n",
       "    }\n",
       "\n",
       "    .dataframe tbody tr th {\n",
       "        vertical-align: top;\n",
       "    }\n",
       "\n",
       "    .dataframe thead th {\n",
       "        text-align: right;\n",
       "    }\n",
       "</style>\n",
       "<table border=\"1\" class=\"dataframe\">\n",
       "  <thead>\n",
       "    <tr style=\"text-align: right;\">\n",
       "      <th></th>\n",
       "      <th>passenger_count</th>\n",
       "    </tr>\n",
       "    <tr>\n",
       "      <th>date</th>\n",
       "      <th></th>\n",
       "    </tr>\n",
       "  </thead>\n",
       "  <tbody>\n",
       "    <tr>\n",
       "      <th>2019-04-30</th>\n",
       "      <td>3299034</td>\n",
       "    </tr>\n",
       "    <tr>\n",
       "      <th>2019-07-31</th>\n",
       "      <td>32174002</td>\n",
       "    </tr>\n",
       "    <tr>\n",
       "      <th>2019-10-31</th>\n",
       "      <td>30076808</td>\n",
       "    </tr>\n",
       "    <tr>\n",
       "      <th>2020-01-31</th>\n",
       "      <td>26666412</td>\n",
       "    </tr>\n",
       "    <tr>\n",
       "      <th>2020-04-30</th>\n",
       "      <td>11533014</td>\n",
       "    </tr>\n",
       "  </tbody>\n",
       "</table>\n",
       "</div>"
      ],
      "text/plain": [
       "            passenger_count\n",
       "date                       \n",
       "2019-04-30          3299034\n",
       "2019-07-31         32174002\n",
       "2019-10-31         30076808\n",
       "2020-01-31         26666412\n",
       "2020-04-30         11533014"
      ]
     },
     "execution_count": 150,
     "metadata": {},
     "output_type": "execute_result"
    }
   ],
   "source": [
    "monthlyFlightsDF = flightsDF[['passenger_count']].resample('3M').sum()\n",
    "monthlyFlightsDF.head()"
   ]
  },
  {
   "cell_type": "markdown",
   "metadata": {},
   "source": [
    "## Grouping, Joining, Concatenating\n",
    "\n",
    "When working with a new dataset, I recommend trying to stuff as much as you can into a single `DataFrame` to try to help find the basic patterns, but sooner or later you will want to do aggregate operations within a `DataFrame` (e.g. group together all of the rows by year and show the mean value of some other column) or combine two or more `DataFrame`s. "
   ]
  },
  {
   "cell_type": "markdown",
   "metadata": {},
   "source": [
    "This data set has some old information about car engine efficency"
   ]
  },
  {
   "cell_type": "code",
   "execution_count": 151,
   "metadata": {},
   "outputs": [
    {
     "data": {
      "text/html": [
       "<div>\n",
       "<style scoped>\n",
       "    .dataframe tbody tr th:only-of-type {\n",
       "        vertical-align: middle;\n",
       "    }\n",
       "\n",
       "    .dataframe tbody tr th {\n",
       "        vertical-align: top;\n",
       "    }\n",
       "\n",
       "    .dataframe thead th {\n",
       "        text-align: right;\n",
       "    }\n",
       "</style>\n",
       "<table border=\"1\" class=\"dataframe\">\n",
       "  <thead>\n",
       "    <tr style=\"text-align: right;\">\n",
       "      <th></th>\n",
       "      <th>mpg</th>\n",
       "      <th>cylinders</th>\n",
       "      <th>displacement</th>\n",
       "      <th>horsepower</th>\n",
       "      <th>weight</th>\n",
       "      <th>acceleration</th>\n",
       "      <th>model_year</th>\n",
       "      <th>origin</th>\n",
       "      <th>name</th>\n",
       "    </tr>\n",
       "  </thead>\n",
       "  <tbody>\n",
       "    <tr>\n",
       "      <th>0</th>\n",
       "      <td>18.0</td>\n",
       "      <td>8</td>\n",
       "      <td>307.0</td>\n",
       "      <td>130.0</td>\n",
       "      <td>3504</td>\n",
       "      <td>12.0</td>\n",
       "      <td>70</td>\n",
       "      <td>usa</td>\n",
       "      <td>chevrolet chevelle malibu</td>\n",
       "    </tr>\n",
       "    <tr>\n",
       "      <th>1</th>\n",
       "      <td>15.0</td>\n",
       "      <td>8</td>\n",
       "      <td>350.0</td>\n",
       "      <td>165.0</td>\n",
       "      <td>3693</td>\n",
       "      <td>11.5</td>\n",
       "      <td>70</td>\n",
       "      <td>usa</td>\n",
       "      <td>buick skylark 320</td>\n",
       "    </tr>\n",
       "    <tr>\n",
       "      <th>2</th>\n",
       "      <td>18.0</td>\n",
       "      <td>8</td>\n",
       "      <td>318.0</td>\n",
       "      <td>150.0</td>\n",
       "      <td>3436</td>\n",
       "      <td>11.0</td>\n",
       "      <td>70</td>\n",
       "      <td>usa</td>\n",
       "      <td>plymouth satellite</td>\n",
       "    </tr>\n",
       "    <tr>\n",
       "      <th>3</th>\n",
       "      <td>16.0</td>\n",
       "      <td>8</td>\n",
       "      <td>304.0</td>\n",
       "      <td>150.0</td>\n",
       "      <td>3433</td>\n",
       "      <td>12.0</td>\n",
       "      <td>70</td>\n",
       "      <td>usa</td>\n",
       "      <td>amc rebel sst</td>\n",
       "    </tr>\n",
       "    <tr>\n",
       "      <th>4</th>\n",
       "      <td>17.0</td>\n",
       "      <td>8</td>\n",
       "      <td>302.0</td>\n",
       "      <td>140.0</td>\n",
       "      <td>3449</td>\n",
       "      <td>10.5</td>\n",
       "      <td>70</td>\n",
       "      <td>usa</td>\n",
       "      <td>ford torino</td>\n",
       "    </tr>\n",
       "  </tbody>\n",
       "</table>\n",
       "</div>"
      ],
      "text/plain": [
       "    mpg  cylinders  displacement  horsepower  weight  acceleration  \\\n",
       "0  18.0          8         307.0       130.0    3504          12.0   \n",
       "1  15.0          8         350.0       165.0    3693          11.5   \n",
       "2  18.0          8         318.0       150.0    3436          11.0   \n",
       "3  16.0          8         304.0       150.0    3433          12.0   \n",
       "4  17.0          8         302.0       140.0    3449          10.5   \n",
       "\n",
       "   model_year origin                       name  \n",
       "0          70    usa  chevrolet chevelle malibu  \n",
       "1          70    usa          buick skylark 320  \n",
       "2          70    usa         plymouth satellite  \n",
       "3          70    usa              amc rebel sst  \n",
       "4          70    usa                ford torino  "
      ]
     },
     "execution_count": 151,
     "metadata": {},
     "output_type": "execute_result"
    }
   ],
   "source": [
    "carsDF = pd.read_csv(\n",
    "    'https://raw.githubusercontent.com/mwaskom/seaborn-data/master/mpg.csv'\n",
    ")\n",
    "carsDF.head()"
   ]
  },
  {
   "cell_type": "code",
   "execution_count": 152,
   "metadata": {},
   "outputs": [
    {
     "data": {
      "text/plain": [
       "4    204\n",
       "8    103\n",
       "6     84\n",
       "3      4\n",
       "5      3\n",
       "Name: cylinders, dtype: int64"
      ]
     },
     "execution_count": 152,
     "metadata": {},
     "output_type": "execute_result"
    }
   ],
   "source": [
    "carsDF.cylinders.value_counts()"
   ]
  },
  {
   "cell_type": "markdown",
   "metadata": {},
   "source": [
    "### Groupby\n",
    "Let's group things by `number_of_cylinders` and see how that affects mpg..."
   ]
  },
  {
   "cell_type": "code",
   "execution_count": 153,
   "metadata": {},
   "outputs": [
    {
     "data": {
      "text/plain": [
       "23.514572864321607"
      ]
     },
     "execution_count": 153,
     "metadata": {},
     "output_type": "execute_result"
    }
   ],
   "source": [
    "carsDF['mpg'].mean()"
   ]
  },
  {
   "cell_type": "markdown",
   "metadata": {},
   "source": [
    "Calling `groupby` on it's own will give you a `DataFrameGroupBy` object. Informally you can think of this as an iterator for \"sub\"-`Dataframe`s or slices of your original `DataFrame`. You're expected to perform aggregate operations (e.g. `sum`, `mean` or generic `.apply` methods) on these groups to actually see some results."
   ]
  },
  {
   "cell_type": "code",
   "execution_count": 154,
   "metadata": {},
   "outputs": [
    {
     "data": {
      "text/plain": [
       "<pandas.core.groupby.generic.DataFrameGroupBy object at 0x7f7cbaf07e10>"
      ]
     },
     "execution_count": 154,
     "metadata": {},
     "output_type": "execute_result"
    }
   ],
   "source": [
    "carsDFbyCylinders = carsDF.groupby('cylinders')\n",
    "carsDFbyCylinders"
   ]
  },
  {
   "cell_type": "code",
   "execution_count": 155,
   "metadata": {},
   "outputs": [
    {
     "data": {
      "text/html": [
       "<div>\n",
       "<style scoped>\n",
       "    .dataframe tbody tr th:only-of-type {\n",
       "        vertical-align: middle;\n",
       "    }\n",
       "\n",
       "    .dataframe tbody tr th {\n",
       "        vertical-align: top;\n",
       "    }\n",
       "\n",
       "    .dataframe thead tr th {\n",
       "        text-align: left;\n",
       "    }\n",
       "\n",
       "    .dataframe thead tr:last-of-type th {\n",
       "        text-align: right;\n",
       "    }\n",
       "</style>\n",
       "<table border=\"1\" class=\"dataframe\">\n",
       "  <thead>\n",
       "    <tr>\n",
       "      <th></th>\n",
       "      <th colspan=\"8\" halign=\"left\">mpg</th>\n",
       "      <th colspan=\"2\" halign=\"left\">displacement</th>\n",
       "      <th>...</th>\n",
       "      <th colspan=\"2\" halign=\"left\">acceleration</th>\n",
       "      <th colspan=\"8\" halign=\"left\">model_year</th>\n",
       "    </tr>\n",
       "    <tr>\n",
       "      <th></th>\n",
       "      <th>count</th>\n",
       "      <th>mean</th>\n",
       "      <th>std</th>\n",
       "      <th>min</th>\n",
       "      <th>25%</th>\n",
       "      <th>50%</th>\n",
       "      <th>75%</th>\n",
       "      <th>max</th>\n",
       "      <th>count</th>\n",
       "      <th>mean</th>\n",
       "      <th>...</th>\n",
       "      <th>75%</th>\n",
       "      <th>max</th>\n",
       "      <th>count</th>\n",
       "      <th>mean</th>\n",
       "      <th>std</th>\n",
       "      <th>min</th>\n",
       "      <th>25%</th>\n",
       "      <th>50%</th>\n",
       "      <th>75%</th>\n",
       "      <th>max</th>\n",
       "    </tr>\n",
       "    <tr>\n",
       "      <th>cylinders</th>\n",
       "      <th></th>\n",
       "      <th></th>\n",
       "      <th></th>\n",
       "      <th></th>\n",
       "      <th></th>\n",
       "      <th></th>\n",
       "      <th></th>\n",
       "      <th></th>\n",
       "      <th></th>\n",
       "      <th></th>\n",
       "      <th></th>\n",
       "      <th></th>\n",
       "      <th></th>\n",
       "      <th></th>\n",
       "      <th></th>\n",
       "      <th></th>\n",
       "      <th></th>\n",
       "      <th></th>\n",
       "      <th></th>\n",
       "      <th></th>\n",
       "      <th></th>\n",
       "    </tr>\n",
       "  </thead>\n",
       "  <tbody>\n",
       "    <tr>\n",
       "      <th>3</th>\n",
       "      <td>4.0</td>\n",
       "      <td>20.550000</td>\n",
       "      <td>2.564501</td>\n",
       "      <td>18.0</td>\n",
       "      <td>18.75</td>\n",
       "      <td>20.25</td>\n",
       "      <td>22.05</td>\n",
       "      <td>23.7</td>\n",
       "      <td>4.0</td>\n",
       "      <td>72.500000</td>\n",
       "      <td>...</td>\n",
       "      <td>13.5</td>\n",
       "      <td>13.5</td>\n",
       "      <td>4.0</td>\n",
       "      <td>75.500000</td>\n",
       "      <td>3.696846</td>\n",
       "      <td>72.0</td>\n",
       "      <td>72.75</td>\n",
       "      <td>75.0</td>\n",
       "      <td>77.75</td>\n",
       "      <td>80.0</td>\n",
       "    </tr>\n",
       "    <tr>\n",
       "      <th>4</th>\n",
       "      <td>204.0</td>\n",
       "      <td>29.286765</td>\n",
       "      <td>5.710156</td>\n",
       "      <td>18.0</td>\n",
       "      <td>25.00</td>\n",
       "      <td>28.25</td>\n",
       "      <td>33.00</td>\n",
       "      <td>46.6</td>\n",
       "      <td>204.0</td>\n",
       "      <td>109.796569</td>\n",
       "      <td>...</td>\n",
       "      <td>18.0</td>\n",
       "      <td>24.8</td>\n",
       "      <td>204.0</td>\n",
       "      <td>77.073529</td>\n",
       "      <td>3.753420</td>\n",
       "      <td>70.0</td>\n",
       "      <td>74.00</td>\n",
       "      <td>78.0</td>\n",
       "      <td>80.00</td>\n",
       "      <td>82.0</td>\n",
       "    </tr>\n",
       "    <tr>\n",
       "      <th>5</th>\n",
       "      <td>3.0</td>\n",
       "      <td>27.366667</td>\n",
       "      <td>8.228204</td>\n",
       "      <td>20.3</td>\n",
       "      <td>22.85</td>\n",
       "      <td>25.40</td>\n",
       "      <td>30.90</td>\n",
       "      <td>36.4</td>\n",
       "      <td>3.0</td>\n",
       "      <td>145.000000</td>\n",
       "      <td>...</td>\n",
       "      <td>20.0</td>\n",
       "      <td>20.1</td>\n",
       "      <td>3.0</td>\n",
       "      <td>79.000000</td>\n",
       "      <td>1.000000</td>\n",
       "      <td>78.0</td>\n",
       "      <td>78.50</td>\n",
       "      <td>79.0</td>\n",
       "      <td>79.50</td>\n",
       "      <td>80.0</td>\n",
       "    </tr>\n",
       "    <tr>\n",
       "      <th>6</th>\n",
       "      <td>84.0</td>\n",
       "      <td>19.985714</td>\n",
       "      <td>3.807322</td>\n",
       "      <td>15.0</td>\n",
       "      <td>18.00</td>\n",
       "      <td>19.00</td>\n",
       "      <td>21.00</td>\n",
       "      <td>38.0</td>\n",
       "      <td>84.0</td>\n",
       "      <td>218.142857</td>\n",
       "      <td>...</td>\n",
       "      <td>17.6</td>\n",
       "      <td>21.0</td>\n",
       "      <td>84.0</td>\n",
       "      <td>75.928571</td>\n",
       "      <td>3.251638</td>\n",
       "      <td>70.0</td>\n",
       "      <td>74.00</td>\n",
       "      <td>76.0</td>\n",
       "      <td>78.00</td>\n",
       "      <td>82.0</td>\n",
       "    </tr>\n",
       "    <tr>\n",
       "      <th>8</th>\n",
       "      <td>103.0</td>\n",
       "      <td>14.963107</td>\n",
       "      <td>2.836284</td>\n",
       "      <td>9.0</td>\n",
       "      <td>13.00</td>\n",
       "      <td>14.00</td>\n",
       "      <td>16.00</td>\n",
       "      <td>26.6</td>\n",
       "      <td>103.0</td>\n",
       "      <td>345.009709</td>\n",
       "      <td>...</td>\n",
       "      <td>14.0</td>\n",
       "      <td>22.2</td>\n",
       "      <td>103.0</td>\n",
       "      <td>73.902913</td>\n",
       "      <td>3.021214</td>\n",
       "      <td>70.0</td>\n",
       "      <td>72.00</td>\n",
       "      <td>73.0</td>\n",
       "      <td>76.00</td>\n",
       "      <td>81.0</td>\n",
       "    </tr>\n",
       "  </tbody>\n",
       "</table>\n",
       "<p>5 rows × 48 columns</p>\n",
       "</div>"
      ],
      "text/plain": [
       "             mpg                                                        \\\n",
       "           count       mean       std   min    25%    50%    75%   max   \n",
       "cylinders                                                                \n",
       "3            4.0  20.550000  2.564501  18.0  18.75  20.25  22.05  23.7   \n",
       "4          204.0  29.286765  5.710156  18.0  25.00  28.25  33.00  46.6   \n",
       "5            3.0  27.366667  8.228204  20.3  22.85  25.40  30.90  36.4   \n",
       "6           84.0  19.985714  3.807322  15.0  18.00  19.00  21.00  38.0   \n",
       "8          103.0  14.963107  2.836284   9.0  13.00  14.00  16.00  26.6   \n",
       "\n",
       "          displacement              ... acceleration       model_year  \\\n",
       "                 count        mean  ...          75%   max      count   \n",
       "cylinders                           ...                                 \n",
       "3                  4.0   72.500000  ...         13.5  13.5        4.0   \n",
       "4                204.0  109.796569  ...         18.0  24.8      204.0   \n",
       "5                  3.0  145.000000  ...         20.0  20.1        3.0   \n",
       "6                 84.0  218.142857  ...         17.6  21.0       84.0   \n",
       "8                103.0  345.009709  ...         14.0  22.2      103.0   \n",
       "\n",
       "                                                                \n",
       "                mean       std   min    25%   50%    75%   max  \n",
       "cylinders                                                       \n",
       "3          75.500000  3.696846  72.0  72.75  75.0  77.75  80.0  \n",
       "4          77.073529  3.753420  70.0  74.00  78.0  80.00  82.0  \n",
       "5          79.000000  1.000000  78.0  78.50  79.0  79.50  80.0  \n",
       "6          75.928571  3.251638  70.0  74.00  76.0  78.00  82.0  \n",
       "8          73.902913  3.021214  70.0  72.00  73.0  76.00  81.0  \n",
       "\n",
       "[5 rows x 48 columns]"
      ]
     },
     "execution_count": 155,
     "metadata": {},
     "output_type": "execute_result"
    }
   ],
   "source": [
    "carsDFbyCylinders.describe()"
   ]
  },
  {
   "cell_type": "markdown",
   "metadata": {},
   "source": [
    "The typical aggregate operations are things like\n",
    "\n",
    "  * mean()\n",
    "  * sum()\n",
    "  * median()\n",
    "  * min()/max()\n",
    "  * count()\n",
    "  * nunique()\n",
    "  * size()"
   ]
  },
  {
   "cell_type": "code",
   "execution_count": 158,
   "metadata": {},
   "outputs": [
    {
     "data": {
      "text/html": [
       "<div>\n",
       "<style scoped>\n",
       "    .dataframe tbody tr th:only-of-type {\n",
       "        vertical-align: middle;\n",
       "    }\n",
       "\n",
       "    .dataframe tbody tr th {\n",
       "        vertical-align: top;\n",
       "    }\n",
       "\n",
       "    .dataframe thead th {\n",
       "        text-align: right;\n",
       "    }\n",
       "</style>\n",
       "<table border=\"1\" class=\"dataframe\">\n",
       "  <thead>\n",
       "    <tr style=\"text-align: right;\">\n",
       "      <th></th>\n",
       "      <th>mpg</th>\n",
       "      <th>displacement</th>\n",
       "      <th>horsepower</th>\n",
       "      <th>weight</th>\n",
       "      <th>acceleration</th>\n",
       "      <th>model_year</th>\n",
       "    </tr>\n",
       "    <tr>\n",
       "      <th>cylinders</th>\n",
       "      <th></th>\n",
       "      <th></th>\n",
       "      <th></th>\n",
       "      <th></th>\n",
       "      <th></th>\n",
       "      <th></th>\n",
       "    </tr>\n",
       "  </thead>\n",
       "  <tbody>\n",
       "    <tr>\n",
       "      <th>3</th>\n",
       "      <td>20.550000</td>\n",
       "      <td>72.500000</td>\n",
       "      <td>99.250000</td>\n",
       "      <td>2398.500000</td>\n",
       "      <td>13.250000</td>\n",
       "      <td>75.500000</td>\n",
       "    </tr>\n",
       "    <tr>\n",
       "      <th>4</th>\n",
       "      <td>29.286765</td>\n",
       "      <td>109.796569</td>\n",
       "      <td>78.281407</td>\n",
       "      <td>2308.127451</td>\n",
       "      <td>16.601471</td>\n",
       "      <td>77.073529</td>\n",
       "    </tr>\n",
       "    <tr>\n",
       "      <th>5</th>\n",
       "      <td>27.366667</td>\n",
       "      <td>145.000000</td>\n",
       "      <td>82.333333</td>\n",
       "      <td>3103.333333</td>\n",
       "      <td>18.633333</td>\n",
       "      <td>79.000000</td>\n",
       "    </tr>\n",
       "    <tr>\n",
       "      <th>6</th>\n",
       "      <td>19.985714</td>\n",
       "      <td>218.142857</td>\n",
       "      <td>101.506024</td>\n",
       "      <td>3198.226190</td>\n",
       "      <td>16.263095</td>\n",
       "      <td>75.928571</td>\n",
       "    </tr>\n",
       "    <tr>\n",
       "      <th>8</th>\n",
       "      <td>14.963107</td>\n",
       "      <td>345.009709</td>\n",
       "      <td>158.300971</td>\n",
       "      <td>4114.718447</td>\n",
       "      <td>12.955340</td>\n",
       "      <td>73.902913</td>\n",
       "    </tr>\n",
       "  </tbody>\n",
       "</table>\n",
       "</div>"
      ],
      "text/plain": [
       "                 mpg  displacement  horsepower       weight  acceleration  \\\n",
       "cylinders                                                                   \n",
       "3          20.550000     72.500000   99.250000  2398.500000     13.250000   \n",
       "4          29.286765    109.796569   78.281407  2308.127451     16.601471   \n",
       "5          27.366667    145.000000   82.333333  3103.333333     18.633333   \n",
       "6          19.985714    218.142857  101.506024  3198.226190     16.263095   \n",
       "8          14.963107    345.009709  158.300971  4114.718447     12.955340   \n",
       "\n",
       "           model_year  \n",
       "cylinders              \n",
       "3           75.500000  \n",
       "4           77.073529  \n",
       "5           79.000000  \n",
       "6           75.928571  \n",
       "8           73.902913  "
      ]
     },
     "execution_count": 158,
     "metadata": {},
     "output_type": "execute_result"
    }
   ],
   "source": [
    "carsDFbyCylinders.mean(numeric_only=True)"
   ]
  },
  {
   "cell_type": "markdown",
   "metadata": {},
   "source": [
    "The `agg` method lets you apply arbitrary aggregate functions as well, e.g."
   ]
  },
  {
   "cell_type": "code",
   "execution_count": 160,
   "metadata": {},
   "outputs": [
    {
     "data": {
      "text/plain": [
       "cylinders\n",
       "3    2.564501\n",
       "4    5.710156\n",
       "5    8.228204\n",
       "6    3.807322\n",
       "8    2.836284\n",
       "Name: mpg, dtype: float64"
      ]
     },
     "execution_count": 160,
     "metadata": {},
     "output_type": "execute_result"
    }
   ],
   "source": [
    "carsDFbyCylinders['mpg'].agg(np.std)"
   ]
  },
  {
   "cell_type": "markdown",
   "metadata": {},
   "source": [
    "_**Exercise**: Try grouping my model year and looking at the median value for each group_"
   ]
  },
  {
   "cell_type": "code",
   "execution_count": null,
   "metadata": {},
   "outputs": [],
   "source": []
  },
  {
   "cell_type": "markdown",
   "metadata": {},
   "source": [
    "The object returned by `groupby` is an iterator, so..."
   ]
  },
  {
   "cell_type": "code",
   "execution_count": 161,
   "metadata": {},
   "outputs": [
    {
     "name": "stdout",
     "output_type": "stream",
     "text": [
      "There are 4 cars with 3 cylinders\n",
      "There are 204 cars with 4 cylinders\n",
      "There are 3 cars with 5 cylinders\n",
      "There are 84 cars with 6 cylinders\n",
      "There are 103 cars with 8 cylinders\n"
     ]
    }
   ],
   "source": [
    "for vroom, group in carsDFbyCylinders:\n",
    "    print(f\"There are {group.shape[0]} cars with {vroom} cylinders\")"
   ]
  },
  {
   "cell_type": "markdown",
   "metadata": {},
   "source": [
    "How are there possibly 4 cars with 3 cylinders?!"
   ]
  },
  {
   "cell_type": "code",
   "execution_count": 163,
   "metadata": {},
   "outputs": [
    {
     "data": {
      "text/html": [
       "<div>\n",
       "<style scoped>\n",
       "    .dataframe tbody tr th:only-of-type {\n",
       "        vertical-align: middle;\n",
       "    }\n",
       "\n",
       "    .dataframe tbody tr th {\n",
       "        vertical-align: top;\n",
       "    }\n",
       "\n",
       "    .dataframe thead th {\n",
       "        text-align: right;\n",
       "    }\n",
       "</style>\n",
       "<table border=\"1\" class=\"dataframe\">\n",
       "  <thead>\n",
       "    <tr style=\"text-align: right;\">\n",
       "      <th></th>\n",
       "      <th>mpg</th>\n",
       "      <th>cylinders</th>\n",
       "      <th>displacement</th>\n",
       "      <th>horsepower</th>\n",
       "      <th>weight</th>\n",
       "      <th>acceleration</th>\n",
       "      <th>model_year</th>\n",
       "      <th>origin</th>\n",
       "      <th>name</th>\n",
       "    </tr>\n",
       "  </thead>\n",
       "  <tbody>\n",
       "    <tr>\n",
       "      <th>71</th>\n",
       "      <td>19.0</td>\n",
       "      <td>3</td>\n",
       "      <td>70.0</td>\n",
       "      <td>97.0</td>\n",
       "      <td>2330</td>\n",
       "      <td>13.5</td>\n",
       "      <td>72</td>\n",
       "      <td>japan</td>\n",
       "      <td>mazda rx2 coupe</td>\n",
       "    </tr>\n",
       "    <tr>\n",
       "      <th>111</th>\n",
       "      <td>18.0</td>\n",
       "      <td>3</td>\n",
       "      <td>70.0</td>\n",
       "      <td>90.0</td>\n",
       "      <td>2124</td>\n",
       "      <td>13.5</td>\n",
       "      <td>73</td>\n",
       "      <td>japan</td>\n",
       "      <td>maxda rx3</td>\n",
       "    </tr>\n",
       "    <tr>\n",
       "      <th>243</th>\n",
       "      <td>21.5</td>\n",
       "      <td>3</td>\n",
       "      <td>80.0</td>\n",
       "      <td>110.0</td>\n",
       "      <td>2720</td>\n",
       "      <td>13.5</td>\n",
       "      <td>77</td>\n",
       "      <td>japan</td>\n",
       "      <td>mazda rx-4</td>\n",
       "    </tr>\n",
       "    <tr>\n",
       "      <th>334</th>\n",
       "      <td>23.7</td>\n",
       "      <td>3</td>\n",
       "      <td>70.0</td>\n",
       "      <td>100.0</td>\n",
       "      <td>2420</td>\n",
       "      <td>12.5</td>\n",
       "      <td>80</td>\n",
       "      <td>japan</td>\n",
       "      <td>mazda rx-7 gs</td>\n",
       "    </tr>\n",
       "  </tbody>\n",
       "</table>\n",
       "</div>"
      ],
      "text/plain": [
       "      mpg  cylinders  displacement  horsepower  weight  acceleration  \\\n",
       "71   19.0          3          70.0        97.0    2330          13.5   \n",
       "111  18.0          3          70.0        90.0    2124          13.5   \n",
       "243  21.5          3          80.0       110.0    2720          13.5   \n",
       "334  23.7          3          70.0       100.0    2420          12.5   \n",
       "\n",
       "     model_year origin             name  \n",
       "71           72  japan  mazda rx2 coupe  \n",
       "111          73  japan        maxda rx3  \n",
       "243          77  japan       mazda rx-4  \n",
       "334          80  japan    mazda rx-7 gs  "
      ]
     },
     "execution_count": 163,
     "metadata": {},
     "output_type": "execute_result"
    }
   ],
   "source": [
    "carsDFbyCylinders.get_group(3)"
   ]
  },
  {
   "cell_type": "markdown",
   "metadata": {},
   "source": [
    "We can also apply multiple operations at the same time. The `.agg()` method can take a list of the operations you want to perform (e.g. [\"max\", \"min\"])"
   ]
  },
  {
   "cell_type": "code",
   "execution_count": 164,
   "metadata": {},
   "outputs": [
    {
     "data": {
      "text/html": [
       "<div>\n",
       "<style scoped>\n",
       "    .dataframe tbody tr th:only-of-type {\n",
       "        vertical-align: middle;\n",
       "    }\n",
       "\n",
       "    .dataframe tbody tr th {\n",
       "        vertical-align: top;\n",
       "    }\n",
       "\n",
       "    .dataframe thead th {\n",
       "        text-align: right;\n",
       "    }\n",
       "</style>\n",
       "<table border=\"1\" class=\"dataframe\">\n",
       "  <thead>\n",
       "    <tr style=\"text-align: right;\">\n",
       "      <th></th>\n",
       "      <th>min</th>\n",
       "      <th>max</th>\n",
       "      <th>mean</th>\n",
       "    </tr>\n",
       "    <tr>\n",
       "      <th>cylinders</th>\n",
       "      <th></th>\n",
       "      <th></th>\n",
       "      <th></th>\n",
       "    </tr>\n",
       "  </thead>\n",
       "  <tbody>\n",
       "    <tr>\n",
       "      <th>3</th>\n",
       "      <td>18.0</td>\n",
       "      <td>23.7</td>\n",
       "      <td>20.550000</td>\n",
       "    </tr>\n",
       "    <tr>\n",
       "      <th>4</th>\n",
       "      <td>18.0</td>\n",
       "      <td>46.6</td>\n",
       "      <td>29.286765</td>\n",
       "    </tr>\n",
       "    <tr>\n",
       "      <th>5</th>\n",
       "      <td>20.3</td>\n",
       "      <td>36.4</td>\n",
       "      <td>27.366667</td>\n",
       "    </tr>\n",
       "    <tr>\n",
       "      <th>6</th>\n",
       "      <td>15.0</td>\n",
       "      <td>38.0</td>\n",
       "      <td>19.985714</td>\n",
       "    </tr>\n",
       "    <tr>\n",
       "      <th>8</th>\n",
       "      <td>9.0</td>\n",
       "      <td>26.6</td>\n",
       "      <td>14.963107</td>\n",
       "    </tr>\n",
       "  </tbody>\n",
       "</table>\n",
       "</div>"
      ],
      "text/plain": [
       "            min   max       mean\n",
       "cylinders                       \n",
       "3          18.0  23.7  20.550000\n",
       "4          18.0  46.6  29.286765\n",
       "5          20.3  36.4  27.366667\n",
       "6          15.0  38.0  19.985714\n",
       "8           9.0  26.6  14.963107"
      ]
     },
     "execution_count": 164,
     "metadata": {},
     "output_type": "execute_result"
    }
   ],
   "source": [
    "carsDFbyCylinders['mpg'].agg([\"min\",\"max\",\"mean\"])"
   ]
  },
  {
   "cell_type": "markdown",
   "metadata": {},
   "source": [
    "We can filter based on our groups. This isn't the recommended way of doing the following, but let's manually group the cars by cylinder count, then find any particular cars that are more than 1.5 times the mean mpg of their group."
   ]
  },
  {
   "cell_type": "code",
   "execution_count": 166,
   "metadata": {},
   "outputs": [
    {
     "name": "stderr",
     "output_type": "stream",
     "text": [
      "/tmp/ipykernel_164/3590171030.py:1: UserWarning: Boolean Series key will be reindexed to match DataFrame index.\n",
      "  carsDF[\n"
     ]
    },
    {
     "data": {
      "text/html": [
       "<div>\n",
       "<style scoped>\n",
       "    .dataframe tbody tr th:only-of-type {\n",
       "        vertical-align: middle;\n",
       "    }\n",
       "\n",
       "    .dataframe tbody tr th {\n",
       "        vertical-align: top;\n",
       "    }\n",
       "\n",
       "    .dataframe thead th {\n",
       "        text-align: right;\n",
       "    }\n",
       "</style>\n",
       "<table border=\"1\" class=\"dataframe\">\n",
       "  <thead>\n",
       "    <tr style=\"text-align: right;\">\n",
       "      <th></th>\n",
       "      <th>mpg</th>\n",
       "      <th>cylinders</th>\n",
       "      <th>displacement</th>\n",
       "      <th>horsepower</th>\n",
       "      <th>weight</th>\n",
       "      <th>acceleration</th>\n",
       "      <th>model_year</th>\n",
       "      <th>origin</th>\n",
       "      <th>name</th>\n",
       "    </tr>\n",
       "  </thead>\n",
       "  <tbody>\n",
       "    <tr>\n",
       "      <th>298</th>\n",
       "      <td>23.0</td>\n",
       "      <td>8</td>\n",
       "      <td>350.0</td>\n",
       "      <td>125.0</td>\n",
       "      <td>3900</td>\n",
       "      <td>17.4</td>\n",
       "      <td>79</td>\n",
       "      <td>usa</td>\n",
       "      <td>cadillac eldorado</td>\n",
       "    </tr>\n",
       "    <tr>\n",
       "      <th>300</th>\n",
       "      <td>23.9</td>\n",
       "      <td>8</td>\n",
       "      <td>260.0</td>\n",
       "      <td>90.0</td>\n",
       "      <td>3420</td>\n",
       "      <td>22.2</td>\n",
       "      <td>79</td>\n",
       "      <td>usa</td>\n",
       "      <td>oldsmobile cutlass salon brougham</td>\n",
       "    </tr>\n",
       "    <tr>\n",
       "      <th>322</th>\n",
       "      <td>46.6</td>\n",
       "      <td>4</td>\n",
       "      <td>86.0</td>\n",
       "      <td>65.0</td>\n",
       "      <td>2110</td>\n",
       "      <td>17.9</td>\n",
       "      <td>80</td>\n",
       "      <td>japan</td>\n",
       "      <td>mazda glc</td>\n",
       "    </tr>\n",
       "    <tr>\n",
       "      <th>325</th>\n",
       "      <td>44.3</td>\n",
       "      <td>4</td>\n",
       "      <td>90.0</td>\n",
       "      <td>48.0</td>\n",
       "      <td>2085</td>\n",
       "      <td>21.7</td>\n",
       "      <td>80</td>\n",
       "      <td>europe</td>\n",
       "      <td>vw rabbit c (diesel)</td>\n",
       "    </tr>\n",
       "    <tr>\n",
       "      <th>329</th>\n",
       "      <td>44.6</td>\n",
       "      <td>4</td>\n",
       "      <td>91.0</td>\n",
       "      <td>67.0</td>\n",
       "      <td>1850</td>\n",
       "      <td>13.8</td>\n",
       "      <td>80</td>\n",
       "      <td>japan</td>\n",
       "      <td>honda civic 1500 gl</td>\n",
       "    </tr>\n",
       "    <tr>\n",
       "      <th>333</th>\n",
       "      <td>32.7</td>\n",
       "      <td>6</td>\n",
       "      <td>168.0</td>\n",
       "      <td>132.0</td>\n",
       "      <td>2910</td>\n",
       "      <td>11.4</td>\n",
       "      <td>80</td>\n",
       "      <td>japan</td>\n",
       "      <td>datsun 280-zx</td>\n",
       "    </tr>\n",
       "    <tr>\n",
       "      <th>360</th>\n",
       "      <td>30.7</td>\n",
       "      <td>6</td>\n",
       "      <td>145.0</td>\n",
       "      <td>76.0</td>\n",
       "      <td>3160</td>\n",
       "      <td>19.6</td>\n",
       "      <td>81</td>\n",
       "      <td>europe</td>\n",
       "      <td>volvo diesel</td>\n",
       "    </tr>\n",
       "    <tr>\n",
       "      <th>364</th>\n",
       "      <td>26.6</td>\n",
       "      <td>8</td>\n",
       "      <td>350.0</td>\n",
       "      <td>105.0</td>\n",
       "      <td>3725</td>\n",
       "      <td>19.0</td>\n",
       "      <td>81</td>\n",
       "      <td>usa</td>\n",
       "      <td>oldsmobile cutlass ls</td>\n",
       "    </tr>\n",
       "    <tr>\n",
       "      <th>387</th>\n",
       "      <td>38.0</td>\n",
       "      <td>6</td>\n",
       "      <td>262.0</td>\n",
       "      <td>85.0</td>\n",
       "      <td>3015</td>\n",
       "      <td>17.0</td>\n",
       "      <td>82</td>\n",
       "      <td>usa</td>\n",
       "      <td>oldsmobile cutlass ciera (diesel)</td>\n",
       "    </tr>\n",
       "    <tr>\n",
       "      <th>394</th>\n",
       "      <td>44.0</td>\n",
       "      <td>4</td>\n",
       "      <td>97.0</td>\n",
       "      <td>52.0</td>\n",
       "      <td>2130</td>\n",
       "      <td>24.6</td>\n",
       "      <td>82</td>\n",
       "      <td>europe</td>\n",
       "      <td>vw pickup</td>\n",
       "    </tr>\n",
       "  </tbody>\n",
       "</table>\n",
       "</div>"
      ],
      "text/plain": [
       "      mpg  cylinders  displacement  horsepower  weight  acceleration  \\\n",
       "298  23.0          8         350.0       125.0    3900          17.4   \n",
       "300  23.9          8         260.0        90.0    3420          22.2   \n",
       "322  46.6          4          86.0        65.0    2110          17.9   \n",
       "325  44.3          4          90.0        48.0    2085          21.7   \n",
       "329  44.6          4          91.0        67.0    1850          13.8   \n",
       "333  32.7          6         168.0       132.0    2910          11.4   \n",
       "360  30.7          6         145.0        76.0    3160          19.6   \n",
       "364  26.6          8         350.0       105.0    3725          19.0   \n",
       "387  38.0          6         262.0        85.0    3015          17.0   \n",
       "394  44.0          4          97.0        52.0    2130          24.6   \n",
       "\n",
       "     model_year  origin                               name  \n",
       "298          79     usa                  cadillac eldorado  \n",
       "300          79     usa  oldsmobile cutlass salon brougham  \n",
       "322          80   japan                          mazda glc  \n",
       "325          80  europe               vw rabbit c (diesel)  \n",
       "329          80   japan                honda civic 1500 gl  \n",
       "333          80   japan                      datsun 280-zx  \n",
       "360          81  europe                       volvo diesel  \n",
       "364          81     usa              oldsmobile cutlass ls  \n",
       "387          82     usa  oldsmobile cutlass ciera (diesel)  \n",
       "394          82  europe                          vw pickup  "
      ]
     },
     "execution_count": 166,
     "metadata": {},
     "output_type": "execute_result"
    }
   ],
   "source": [
    "carsDF[\n",
    "    carsDFbyCylinders.apply(lambda x: x.mpg > 1.5 * x.mpg.mean()).reset_index(level=0).mpg\n",
    "]\n"
   ]
  },
  {
   "cell_type": "markdown",
   "metadata": {},
   "source": [
    "There's actually a transform method lets you perform a group operation then use the results to update the rows. For example, we could calculate mean values for our groups, then look at how individual cars perform relative to that"
   ]
  },
  {
   "cell_type": "code",
   "execution_count": 168,
   "metadata": {},
   "outputs": [
    {
     "data": {
      "text/html": [
       "<div>\n",
       "<style scoped>\n",
       "    .dataframe tbody tr th:only-of-type {\n",
       "        vertical-align: middle;\n",
       "    }\n",
       "\n",
       "    .dataframe tbody tr th {\n",
       "        vertical-align: top;\n",
       "    }\n",
       "\n",
       "    .dataframe thead th {\n",
       "        text-align: right;\n",
       "    }\n",
       "</style>\n",
       "<table border=\"1\" class=\"dataframe\">\n",
       "  <thead>\n",
       "    <tr style=\"text-align: right;\">\n",
       "      <th></th>\n",
       "      <th>mpg</th>\n",
       "      <th>cylinders</th>\n",
       "      <th>displacement</th>\n",
       "      <th>horsepower</th>\n",
       "      <th>weight</th>\n",
       "      <th>acceleration</th>\n",
       "      <th>model_year</th>\n",
       "      <th>origin</th>\n",
       "      <th>name</th>\n",
       "    </tr>\n",
       "  </thead>\n",
       "  <tbody>\n",
       "    <tr>\n",
       "      <th>298</th>\n",
       "      <td>23.0</td>\n",
       "      <td>8</td>\n",
       "      <td>350.0</td>\n",
       "      <td>125.0</td>\n",
       "      <td>3900</td>\n",
       "      <td>17.4</td>\n",
       "      <td>79</td>\n",
       "      <td>usa</td>\n",
       "      <td>cadillac eldorado</td>\n",
       "    </tr>\n",
       "    <tr>\n",
       "      <th>300</th>\n",
       "      <td>23.9</td>\n",
       "      <td>8</td>\n",
       "      <td>260.0</td>\n",
       "      <td>90.0</td>\n",
       "      <td>3420</td>\n",
       "      <td>22.2</td>\n",
       "      <td>79</td>\n",
       "      <td>usa</td>\n",
       "      <td>oldsmobile cutlass salon brougham</td>\n",
       "    </tr>\n",
       "    <tr>\n",
       "      <th>322</th>\n",
       "      <td>46.6</td>\n",
       "      <td>4</td>\n",
       "      <td>86.0</td>\n",
       "      <td>65.0</td>\n",
       "      <td>2110</td>\n",
       "      <td>17.9</td>\n",
       "      <td>80</td>\n",
       "      <td>japan</td>\n",
       "      <td>mazda glc</td>\n",
       "    </tr>\n",
       "    <tr>\n",
       "      <th>325</th>\n",
       "      <td>44.3</td>\n",
       "      <td>4</td>\n",
       "      <td>90.0</td>\n",
       "      <td>48.0</td>\n",
       "      <td>2085</td>\n",
       "      <td>21.7</td>\n",
       "      <td>80</td>\n",
       "      <td>europe</td>\n",
       "      <td>vw rabbit c (diesel)</td>\n",
       "    </tr>\n",
       "    <tr>\n",
       "      <th>329</th>\n",
       "      <td>44.6</td>\n",
       "      <td>4</td>\n",
       "      <td>91.0</td>\n",
       "      <td>67.0</td>\n",
       "      <td>1850</td>\n",
       "      <td>13.8</td>\n",
       "      <td>80</td>\n",
       "      <td>japan</td>\n",
       "      <td>honda civic 1500 gl</td>\n",
       "    </tr>\n",
       "    <tr>\n",
       "      <th>333</th>\n",
       "      <td>32.7</td>\n",
       "      <td>6</td>\n",
       "      <td>168.0</td>\n",
       "      <td>132.0</td>\n",
       "      <td>2910</td>\n",
       "      <td>11.4</td>\n",
       "      <td>80</td>\n",
       "      <td>japan</td>\n",
       "      <td>datsun 280-zx</td>\n",
       "    </tr>\n",
       "    <tr>\n",
       "      <th>360</th>\n",
       "      <td>30.7</td>\n",
       "      <td>6</td>\n",
       "      <td>145.0</td>\n",
       "      <td>76.0</td>\n",
       "      <td>3160</td>\n",
       "      <td>19.6</td>\n",
       "      <td>81</td>\n",
       "      <td>europe</td>\n",
       "      <td>volvo diesel</td>\n",
       "    </tr>\n",
       "    <tr>\n",
       "      <th>364</th>\n",
       "      <td>26.6</td>\n",
       "      <td>8</td>\n",
       "      <td>350.0</td>\n",
       "      <td>105.0</td>\n",
       "      <td>3725</td>\n",
       "      <td>19.0</td>\n",
       "      <td>81</td>\n",
       "      <td>usa</td>\n",
       "      <td>oldsmobile cutlass ls</td>\n",
       "    </tr>\n",
       "    <tr>\n",
       "      <th>387</th>\n",
       "      <td>38.0</td>\n",
       "      <td>6</td>\n",
       "      <td>262.0</td>\n",
       "      <td>85.0</td>\n",
       "      <td>3015</td>\n",
       "      <td>17.0</td>\n",
       "      <td>82</td>\n",
       "      <td>usa</td>\n",
       "      <td>oldsmobile cutlass ciera (diesel)</td>\n",
       "    </tr>\n",
       "    <tr>\n",
       "      <th>394</th>\n",
       "      <td>44.0</td>\n",
       "      <td>4</td>\n",
       "      <td>97.0</td>\n",
       "      <td>52.0</td>\n",
       "      <td>2130</td>\n",
       "      <td>24.6</td>\n",
       "      <td>82</td>\n",
       "      <td>europe</td>\n",
       "      <td>vw pickup</td>\n",
       "    </tr>\n",
       "  </tbody>\n",
       "</table>\n",
       "</div>"
      ],
      "text/plain": [
       "      mpg  cylinders  displacement  horsepower  weight  acceleration  \\\n",
       "298  23.0          8         350.0       125.0    3900          17.4   \n",
       "300  23.9          8         260.0        90.0    3420          22.2   \n",
       "322  46.6          4          86.0        65.0    2110          17.9   \n",
       "325  44.3          4          90.0        48.0    2085          21.7   \n",
       "329  44.6          4          91.0        67.0    1850          13.8   \n",
       "333  32.7          6         168.0       132.0    2910          11.4   \n",
       "360  30.7          6         145.0        76.0    3160          19.6   \n",
       "364  26.6          8         350.0       105.0    3725          19.0   \n",
       "387  38.0          6         262.0        85.0    3015          17.0   \n",
       "394  44.0          4          97.0        52.0    2130          24.6   \n",
       "\n",
       "     model_year  origin                               name  \n",
       "298          79     usa                  cadillac eldorado  \n",
       "300          79     usa  oldsmobile cutlass salon brougham  \n",
       "322          80   japan                          mazda glc  \n",
       "325          80  europe               vw rabbit c (diesel)  \n",
       "329          80   japan                honda civic 1500 gl  \n",
       "333          80   japan                      datsun 280-zx  \n",
       "360          81  europe                       volvo diesel  \n",
       "364          81     usa              oldsmobile cutlass ls  \n",
       "387          82     usa  oldsmobile cutlass ciera (diesel)  \n",
       "394          82  europe                          vw pickup  "
      ]
     },
     "execution_count": 168,
     "metadata": {},
     "output_type": "execute_result"
    }
   ],
   "source": [
    "means = carsDFbyCylinders.mpg.transform('mean')\n",
    "carsDF[carsDF.mpg > 1.5 * means]"
   ]
  },
  {
   "cell_type": "markdown",
   "metadata": {},
   "source": [
    "We could also look at the best and worst performing car relative to the group means, `idxmin` and `idxmax` are to pandas what `argmin` and `argmax` are to numpy (see also `nlargest`)."
   ]
  },
  {
   "cell_type": "code",
   "execution_count": 169,
   "metadata": {},
   "outputs": [
    {
     "data": {
      "text/html": [
       "<div>\n",
       "<style scoped>\n",
       "    .dataframe tbody tr th:only-of-type {\n",
       "        vertical-align: middle;\n",
       "    }\n",
       "\n",
       "    .dataframe tbody tr th {\n",
       "        vertical-align: top;\n",
       "    }\n",
       "\n",
       "    .dataframe thead th {\n",
       "        text-align: right;\n",
       "    }\n",
       "</style>\n",
       "<table border=\"1\" class=\"dataframe\">\n",
       "  <thead>\n",
       "    <tr style=\"text-align: right;\">\n",
       "      <th></th>\n",
       "      <th>mpg</th>\n",
       "      <th>cylinders</th>\n",
       "      <th>displacement</th>\n",
       "      <th>horsepower</th>\n",
       "      <th>weight</th>\n",
       "      <th>acceleration</th>\n",
       "      <th>model_year</th>\n",
       "      <th>origin</th>\n",
       "      <th>name</th>\n",
       "      <th>mpg_mean</th>\n",
       "    </tr>\n",
       "  </thead>\n",
       "  <tbody>\n",
       "    <tr>\n",
       "      <th>334</th>\n",
       "      <td>23.7</td>\n",
       "      <td>3</td>\n",
       "      <td>70.0</td>\n",
       "      <td>100.0</td>\n",
       "      <td>2420</td>\n",
       "      <td>12.5</td>\n",
       "      <td>80</td>\n",
       "      <td>japan</td>\n",
       "      <td>mazda rx-7 gs</td>\n",
       "      <td>3.150000</td>\n",
       "    </tr>\n",
       "    <tr>\n",
       "      <th>322</th>\n",
       "      <td>46.6</td>\n",
       "      <td>4</td>\n",
       "      <td>86.0</td>\n",
       "      <td>65.0</td>\n",
       "      <td>2110</td>\n",
       "      <td>17.9</td>\n",
       "      <td>80</td>\n",
       "      <td>japan</td>\n",
       "      <td>mazda glc</td>\n",
       "      <td>17.313235</td>\n",
       "    </tr>\n",
       "    <tr>\n",
       "      <th>327</th>\n",
       "      <td>36.4</td>\n",
       "      <td>5</td>\n",
       "      <td>121.0</td>\n",
       "      <td>67.0</td>\n",
       "      <td>2950</td>\n",
       "      <td>19.9</td>\n",
       "      <td>80</td>\n",
       "      <td>europe</td>\n",
       "      <td>audi 5000s (diesel)</td>\n",
       "      <td>9.033333</td>\n",
       "    </tr>\n",
       "    <tr>\n",
       "      <th>387</th>\n",
       "      <td>38.0</td>\n",
       "      <td>6</td>\n",
       "      <td>262.0</td>\n",
       "      <td>85.0</td>\n",
       "      <td>3015</td>\n",
       "      <td>17.0</td>\n",
       "      <td>82</td>\n",
       "      <td>usa</td>\n",
       "      <td>oldsmobile cutlass ciera (diesel)</td>\n",
       "      <td>18.014286</td>\n",
       "    </tr>\n",
       "    <tr>\n",
       "      <th>364</th>\n",
       "      <td>26.6</td>\n",
       "      <td>8</td>\n",
       "      <td>350.0</td>\n",
       "      <td>105.0</td>\n",
       "      <td>3725</td>\n",
       "      <td>19.0</td>\n",
       "      <td>81</td>\n",
       "      <td>usa</td>\n",
       "      <td>oldsmobile cutlass ls</td>\n",
       "      <td>11.636893</td>\n",
       "    </tr>\n",
       "  </tbody>\n",
       "</table>\n",
       "</div>"
      ],
      "text/plain": [
       "      mpg  cylinders  displacement  horsepower  weight  acceleration  \\\n",
       "334  23.7          3          70.0       100.0    2420          12.5   \n",
       "322  46.6          4          86.0        65.0    2110          17.9   \n",
       "327  36.4          5         121.0        67.0    2950          19.9   \n",
       "387  38.0          6         262.0        85.0    3015          17.0   \n",
       "364  26.6          8         350.0       105.0    3725          19.0   \n",
       "\n",
       "     model_year  origin                               name   mpg_mean  \n",
       "334          80   japan                      mazda rx-7 gs   3.150000  \n",
       "322          80   japan                          mazda glc  17.313235  \n",
       "327          80  europe                audi 5000s (diesel)   9.033333  \n",
       "387          82     usa  oldsmobile cutlass ciera (diesel)  18.014286  \n",
       "364          81     usa              oldsmobile cutlass ls  11.636893  "
      ]
     },
     "execution_count": 169,
     "metadata": {},
     "output_type": "execute_result"
    }
   ],
   "source": [
    "carsDF['mpg_mean'] = carsDF['mpg'] - means\n",
    "carsDF.loc[carsDF.groupby('cylinders')['mpg_mean'].idxmax()]"
   ]
  },
  {
   "cell_type": "code",
   "execution_count": 170,
   "metadata": {},
   "outputs": [
    {
     "data": {
      "text/html": [
       "<div>\n",
       "<style scoped>\n",
       "    .dataframe tbody tr th:only-of-type {\n",
       "        vertical-align: middle;\n",
       "    }\n",
       "\n",
       "    .dataframe tbody tr th {\n",
       "        vertical-align: top;\n",
       "    }\n",
       "\n",
       "    .dataframe thead th {\n",
       "        text-align: right;\n",
       "    }\n",
       "</style>\n",
       "<table border=\"1\" class=\"dataframe\">\n",
       "  <thead>\n",
       "    <tr style=\"text-align: right;\">\n",
       "      <th></th>\n",
       "      <th>mpg</th>\n",
       "      <th>cylinders</th>\n",
       "      <th>displacement</th>\n",
       "      <th>horsepower</th>\n",
       "      <th>weight</th>\n",
       "      <th>acceleration</th>\n",
       "      <th>model_year</th>\n",
       "      <th>origin</th>\n",
       "      <th>name</th>\n",
       "      <th>mpg_mean</th>\n",
       "    </tr>\n",
       "  </thead>\n",
       "  <tbody>\n",
       "    <tr>\n",
       "      <th>111</th>\n",
       "      <td>18.0</td>\n",
       "      <td>3</td>\n",
       "      <td>70.0</td>\n",
       "      <td>90.0</td>\n",
       "      <td>2124</td>\n",
       "      <td>13.5</td>\n",
       "      <td>73</td>\n",
       "      <td>japan</td>\n",
       "      <td>maxda rx3</td>\n",
       "      <td>-2.550000</td>\n",
       "    </tr>\n",
       "    <tr>\n",
       "      <th>76</th>\n",
       "      <td>18.0</td>\n",
       "      <td>4</td>\n",
       "      <td>121.0</td>\n",
       "      <td>112.0</td>\n",
       "      <td>2933</td>\n",
       "      <td>14.5</td>\n",
       "      <td>72</td>\n",
       "      <td>europe</td>\n",
       "      <td>volvo 145e (sw)</td>\n",
       "      <td>-11.286765</td>\n",
       "    </tr>\n",
       "    <tr>\n",
       "      <th>274</th>\n",
       "      <td>20.3</td>\n",
       "      <td>5</td>\n",
       "      <td>131.0</td>\n",
       "      <td>103.0</td>\n",
       "      <td>2830</td>\n",
       "      <td>15.9</td>\n",
       "      <td>78</td>\n",
       "      <td>europe</td>\n",
       "      <td>audi 5000</td>\n",
       "      <td>-7.066667</td>\n",
       "    </tr>\n",
       "    <tr>\n",
       "      <th>128</th>\n",
       "      <td>15.0</td>\n",
       "      <td>6</td>\n",
       "      <td>250.0</td>\n",
       "      <td>100.0</td>\n",
       "      <td>3336</td>\n",
       "      <td>17.0</td>\n",
       "      <td>74</td>\n",
       "      <td>usa</td>\n",
       "      <td>chevrolet nova</td>\n",
       "      <td>-4.985714</td>\n",
       "    </tr>\n",
       "    <tr>\n",
       "      <th>28</th>\n",
       "      <td>9.0</td>\n",
       "      <td>8</td>\n",
       "      <td>304.0</td>\n",
       "      <td>193.0</td>\n",
       "      <td>4732</td>\n",
       "      <td>18.5</td>\n",
       "      <td>70</td>\n",
       "      <td>usa</td>\n",
       "      <td>hi 1200d</td>\n",
       "      <td>-5.963107</td>\n",
       "    </tr>\n",
       "  </tbody>\n",
       "</table>\n",
       "</div>"
      ],
      "text/plain": [
       "      mpg  cylinders  displacement  horsepower  weight  acceleration  \\\n",
       "111  18.0          3          70.0        90.0    2124          13.5   \n",
       "76   18.0          4         121.0       112.0    2933          14.5   \n",
       "274  20.3          5         131.0       103.0    2830          15.9   \n",
       "128  15.0          6         250.0       100.0    3336          17.0   \n",
       "28    9.0          8         304.0       193.0    4732          18.5   \n",
       "\n",
       "     model_year  origin             name   mpg_mean  \n",
       "111          73   japan        maxda rx3  -2.550000  \n",
       "76           72  europe  volvo 145e (sw) -11.286765  \n",
       "274          78  europe        audi 5000  -7.066667  \n",
       "128          74     usa   chevrolet nova  -4.985714  \n",
       "28           70     usa         hi 1200d  -5.963107  "
      ]
     },
     "execution_count": 170,
     "metadata": {},
     "output_type": "execute_result"
    }
   ],
   "source": [
    "carsDF.loc[carsDF.groupby('cylinders')['mpg_mean'].idxmin()]"
   ]
  },
  {
   "cell_type": "markdown",
   "metadata": {},
   "source": [
    "You can also group by multiple conditions, but you'll get a hierarchical index as the result"
   ]
  },
  {
   "cell_type": "code",
   "execution_count": 171,
   "metadata": {},
   "outputs": [
    {
     "data": {
      "text/html": [
       "<div>\n",
       "<style scoped>\n",
       "    .dataframe tbody tr th:only-of-type {\n",
       "        vertical-align: middle;\n",
       "    }\n",
       "\n",
       "    .dataframe tbody tr th {\n",
       "        vertical-align: top;\n",
       "    }\n",
       "\n",
       "    .dataframe thead th {\n",
       "        text-align: right;\n",
       "    }\n",
       "</style>\n",
       "<table border=\"1\" class=\"dataframe\">\n",
       "  <thead>\n",
       "    <tr style=\"text-align: right;\">\n",
       "      <th></th>\n",
       "      <th></th>\n",
       "      <th>mpg</th>\n",
       "      <th>displacement</th>\n",
       "      <th>horsepower</th>\n",
       "      <th>weight</th>\n",
       "      <th>acceleration</th>\n",
       "      <th>model_year</th>\n",
       "      <th>mpg_mean</th>\n",
       "    </tr>\n",
       "    <tr>\n",
       "      <th>origin</th>\n",
       "      <th>cylinders</th>\n",
       "      <th></th>\n",
       "      <th></th>\n",
       "      <th></th>\n",
       "      <th></th>\n",
       "      <th></th>\n",
       "      <th></th>\n",
       "      <th></th>\n",
       "    </tr>\n",
       "  </thead>\n",
       "  <tbody>\n",
       "    <tr>\n",
       "      <th rowspan=\"3\" valign=\"top\">europe</th>\n",
       "      <th>4</th>\n",
       "      <td>28.411111</td>\n",
       "      <td>104.222222</td>\n",
       "      <td>78.311475</td>\n",
       "      <td>2330.015873</td>\n",
       "      <td>16.722222</td>\n",
       "      <td>75.507937</td>\n",
       "      <td>-8.756536e-01</td>\n",
       "    </tr>\n",
       "    <tr>\n",
       "      <th>5</th>\n",
       "      <td>27.366667</td>\n",
       "      <td>145.000000</td>\n",
       "      <td>82.333333</td>\n",
       "      <td>3103.333333</td>\n",
       "      <td>18.633333</td>\n",
       "      <td>79.000000</td>\n",
       "      <td>2.368476e-15</td>\n",
       "    </tr>\n",
       "    <tr>\n",
       "      <th>6</th>\n",
       "      <td>20.100000</td>\n",
       "      <td>159.750000</td>\n",
       "      <td>113.500000</td>\n",
       "      <td>3382.500000</td>\n",
       "      <td>16.425000</td>\n",
       "      <td>78.250000</td>\n",
       "      <td>1.142857e-01</td>\n",
       "    </tr>\n",
       "    <tr>\n",
       "      <th rowspan=\"3\" valign=\"top\">japan</th>\n",
       "      <th>3</th>\n",
       "      <td>20.550000</td>\n",
       "      <td>72.500000</td>\n",
       "      <td>99.250000</td>\n",
       "      <td>2398.500000</td>\n",
       "      <td>13.250000</td>\n",
       "      <td>75.500000</td>\n",
       "      <td>-8.881784e-16</td>\n",
       "    </tr>\n",
       "    <tr>\n",
       "      <th>4</th>\n",
       "      <td>31.595652</td>\n",
       "      <td>99.768116</td>\n",
       "      <td>75.579710</td>\n",
       "      <td>2153.492754</td>\n",
       "      <td>16.569565</td>\n",
       "      <td>77.507246</td>\n",
       "      <td>2.308887e+00</td>\n",
       "    </tr>\n",
       "    <tr>\n",
       "      <th>6</th>\n",
       "      <td>23.883333</td>\n",
       "      <td>156.666667</td>\n",
       "      <td>115.833333</td>\n",
       "      <td>2882.000000</td>\n",
       "      <td>13.550000</td>\n",
       "      <td>78.000000</td>\n",
       "      <td>3.897619e+00</td>\n",
       "    </tr>\n",
       "    <tr>\n",
       "      <th rowspan=\"3\" valign=\"top\">usa</th>\n",
       "      <th>4</th>\n",
       "      <td>27.840278</td>\n",
       "      <td>124.284722</td>\n",
       "      <td>80.956522</td>\n",
       "      <td>2437.166667</td>\n",
       "      <td>16.526389</td>\n",
       "      <td>78.027778</td>\n",
       "      <td>-1.446487e+00</td>\n",
       "    </tr>\n",
       "    <tr>\n",
       "      <th>6</th>\n",
       "      <td>19.663514</td>\n",
       "      <td>226.283784</td>\n",
       "      <td>99.671233</td>\n",
       "      <td>3213.905405</td>\n",
       "      <td>16.474324</td>\n",
       "      <td>75.635135</td>\n",
       "      <td>-3.222008e-01</td>\n",
       "    </tr>\n",
       "    <tr>\n",
       "      <th>8</th>\n",
       "      <td>14.963107</td>\n",
       "      <td>345.009709</td>\n",
       "      <td>158.300971</td>\n",
       "      <td>4114.718447</td>\n",
       "      <td>12.955340</td>\n",
       "      <td>73.902913</td>\n",
       "      <td>-1.034771e-15</td>\n",
       "    </tr>\n",
       "  </tbody>\n",
       "</table>\n",
       "</div>"
      ],
      "text/plain": [
       "                        mpg  displacement  horsepower       weight  \\\n",
       "origin cylinders                                                     \n",
       "europe 4          28.411111    104.222222   78.311475  2330.015873   \n",
       "       5          27.366667    145.000000   82.333333  3103.333333   \n",
       "       6          20.100000    159.750000  113.500000  3382.500000   \n",
       "japan  3          20.550000     72.500000   99.250000  2398.500000   \n",
       "       4          31.595652     99.768116   75.579710  2153.492754   \n",
       "       6          23.883333    156.666667  115.833333  2882.000000   \n",
       "usa    4          27.840278    124.284722   80.956522  2437.166667   \n",
       "       6          19.663514    226.283784   99.671233  3213.905405   \n",
       "       8          14.963107    345.009709  158.300971  4114.718447   \n",
       "\n",
       "                  acceleration  model_year      mpg_mean  \n",
       "origin cylinders                                          \n",
       "europe 4             16.722222   75.507937 -8.756536e-01  \n",
       "       5             18.633333   79.000000  2.368476e-15  \n",
       "       6             16.425000   78.250000  1.142857e-01  \n",
       "japan  3             13.250000   75.500000 -8.881784e-16  \n",
       "       4             16.569565   77.507246  2.308887e+00  \n",
       "       6             13.550000   78.000000  3.897619e+00  \n",
       "usa    4             16.526389   78.027778 -1.446487e+00  \n",
       "       6             16.474324   75.635135 -3.222008e-01  \n",
       "       8             12.955340   73.902913 -1.034771e-15  "
      ]
     },
     "execution_count": 171,
     "metadata": {},
     "output_type": "execute_result"
    }
   ],
   "source": [
    "carsDF.groupby(['origin', 'cylinders']).mean(numeric_only=True)"
   ]
  },
  {
   "cell_type": "markdown",
   "metadata": {},
   "source": [
    "We won't cover Hierarchical indices, so for now we will just flatten the result by resetting the index"
   ]
  },
  {
   "cell_type": "code",
   "execution_count": null,
   "metadata": {},
   "outputs": [],
   "source": [
    "carsDF.groupby(['origin', 'cylinders'])['mpg'].mean().reset_index()"
   ]
  },
  {
   "cell_type": "markdown",
   "metadata": {},
   "source": [
    "N.B. `.transform` and `.apply` exist as methods of both ordinary DataFrames and `DataFrameGroupBy` objects, depending on what you want to do."
   ]
  },
  {
   "cell_type": "markdown",
   "metadata": {},
   "source": [
    "## Concatenate & Join\n",
    "\n",
    "There are a handful of functions which handle concatenation. The main ones are `pd.concat`, `pd.join` and `pd.merge` and there is some overlap in exactly what they do so. You can combine either `Series` and `DataFrames` but we'll jump straight to `DataFrames`,"
   ]
  },
  {
   "cell_type": "code",
   "execution_count": 173,
   "metadata": {},
   "outputs": [
    {
     "data": {
      "text/html": [
       "<div>\n",
       "<style scoped>\n",
       "    .dataframe tbody tr th:only-of-type {\n",
       "        vertical-align: middle;\n",
       "    }\n",
       "\n",
       "    .dataframe tbody tr th {\n",
       "        vertical-align: top;\n",
       "    }\n",
       "\n",
       "    .dataframe thead th {\n",
       "        text-align: right;\n",
       "    }\n",
       "</style>\n",
       "<table border=\"1\" class=\"dataframe\">\n",
       "  <thead>\n",
       "    <tr style=\"text-align: right;\">\n",
       "      <th></th>\n",
       "      <th>upper</th>\n",
       "      <th>lower</th>\n",
       "    </tr>\n",
       "  </thead>\n",
       "  <tbody>\n",
       "    <tr>\n",
       "      <th>1</th>\n",
       "      <td>D</td>\n",
       "      <td>d</td>\n",
       "    </tr>\n",
       "    <tr>\n",
       "      <th>2</th>\n",
       "      <td>E</td>\n",
       "      <td>e</td>\n",
       "    </tr>\n",
       "    <tr>\n",
       "      <th>3</th>\n",
       "      <td>F</td>\n",
       "      <td>f</td>\n",
       "    </tr>\n",
       "  </tbody>\n",
       "</table>\n",
       "</div>"
      ],
      "text/plain": [
       "  upper lower\n",
       "1     D     d\n",
       "2     E     e\n",
       "3     F     f"
      ]
     },
     "execution_count": 173,
     "metadata": {},
     "output_type": "execute_result"
    }
   ],
   "source": [
    "s1 = pd.DataFrame(\n",
    "    {\n",
    "        'upper': ['A', 'B', 'C'], \n",
    "        'lower': ['a', 'b', 'c']\n",
    "    }, \n",
    "    columns=['upper', 'lower'], \n",
    "    index=[1,2,3]\n",
    ")\n",
    "\n",
    "s2 = pd.DataFrame(\n",
    "    {\n",
    "        'upper': ['D', 'E', 'F'],\n",
    "        'lower': ['d', 'e', 'f']\n",
    "    }, \n",
    "    columns=['upper', 'lower'],\n",
    "    index=[1, 2, 3]\n",
    ")\n",
    "s2"
   ]
  },
  {
   "cell_type": "markdown",
   "metadata": {},
   "source": [
    "`pd.join` will combine by aligning on the index, but expects unique column names, we can use the suffix keyword to make our columns unique"
   ]
  },
  {
   "cell_type": "code",
   "execution_count": 174,
   "metadata": {},
   "outputs": [
    {
     "data": {
      "text/html": [
       "<div>\n",
       "<style scoped>\n",
       "    .dataframe tbody tr th:only-of-type {\n",
       "        vertical-align: middle;\n",
       "    }\n",
       "\n",
       "    .dataframe tbody tr th {\n",
       "        vertical-align: top;\n",
       "    }\n",
       "\n",
       "    .dataframe thead th {\n",
       "        text-align: right;\n",
       "    }\n",
       "</style>\n",
       "<table border=\"1\" class=\"dataframe\">\n",
       "  <thead>\n",
       "    <tr style=\"text-align: right;\">\n",
       "      <th></th>\n",
       "      <th>upper_l</th>\n",
       "      <th>lower_l</th>\n",
       "      <th>upper_r</th>\n",
       "      <th>lower_r</th>\n",
       "    </tr>\n",
       "  </thead>\n",
       "  <tbody>\n",
       "    <tr>\n",
       "      <th>1</th>\n",
       "      <td>A</td>\n",
       "      <td>a</td>\n",
       "      <td>D</td>\n",
       "      <td>d</td>\n",
       "    </tr>\n",
       "    <tr>\n",
       "      <th>2</th>\n",
       "      <td>B</td>\n",
       "      <td>b</td>\n",
       "      <td>E</td>\n",
       "      <td>e</td>\n",
       "    </tr>\n",
       "    <tr>\n",
       "      <th>3</th>\n",
       "      <td>C</td>\n",
       "      <td>c</td>\n",
       "      <td>F</td>\n",
       "      <td>f</td>\n",
       "    </tr>\n",
       "  </tbody>\n",
       "</table>\n",
       "</div>"
      ],
      "text/plain": [
       "  upper_l lower_l upper_r lower_r\n",
       "1       A       a       D       d\n",
       "2       B       b       E       e\n",
       "3       C       c       F       f"
      ]
     },
     "execution_count": 174,
     "metadata": {},
     "output_type": "execute_result"
    }
   ],
   "source": [
    "s1.join(s2, lsuffix='_l', rsuffix='_r')"
   ]
  },
  {
   "cell_type": "markdown",
   "metadata": {},
   "source": [
    "With concat we can combine rows (we'll reindex to get unique index values in the result)"
   ]
  },
  {
   "cell_type": "code",
   "execution_count": 177,
   "metadata": {},
   "outputs": [
    {
     "data": {
      "text/html": [
       "<div>\n",
       "<style scoped>\n",
       "    .dataframe tbody tr th:only-of-type {\n",
       "        vertical-align: middle;\n",
       "    }\n",
       "\n",
       "    .dataframe tbody tr th {\n",
       "        vertical-align: top;\n",
       "    }\n",
       "\n",
       "    .dataframe thead th {\n",
       "        text-align: right;\n",
       "    }\n",
       "</style>\n",
       "<table border=\"1\" class=\"dataframe\">\n",
       "  <thead>\n",
       "    <tr style=\"text-align: right;\">\n",
       "      <th></th>\n",
       "      <th>index</th>\n",
       "      <th>upper</th>\n",
       "      <th>lower</th>\n",
       "    </tr>\n",
       "  </thead>\n",
       "  <tbody>\n",
       "    <tr>\n",
       "      <th>0</th>\n",
       "      <td>1</td>\n",
       "      <td>A</td>\n",
       "      <td>a</td>\n",
       "    </tr>\n",
       "    <tr>\n",
       "      <th>1</th>\n",
       "      <td>2</td>\n",
       "      <td>B</td>\n",
       "      <td>b</td>\n",
       "    </tr>\n",
       "    <tr>\n",
       "      <th>2</th>\n",
       "      <td>3</td>\n",
       "      <td>C</td>\n",
       "      <td>c</td>\n",
       "    </tr>\n",
       "    <tr>\n",
       "      <th>3</th>\n",
       "      <td>1</td>\n",
       "      <td>D</td>\n",
       "      <td>d</td>\n",
       "    </tr>\n",
       "    <tr>\n",
       "      <th>4</th>\n",
       "      <td>2</td>\n",
       "      <td>E</td>\n",
       "      <td>e</td>\n",
       "    </tr>\n",
       "    <tr>\n",
       "      <th>5</th>\n",
       "      <td>3</td>\n",
       "      <td>F</td>\n",
       "      <td>f</td>\n",
       "    </tr>\n",
       "  </tbody>\n",
       "</table>\n",
       "</div>"
      ],
      "text/plain": [
       "   index upper lower\n",
       "0      1     A     a\n",
       "1      2     B     b\n",
       "2      3     C     c\n",
       "3      1     D     d\n",
       "4      2     E     e\n",
       "5      3     F     f"
      ]
     },
     "execution_count": 177,
     "metadata": {},
     "output_type": "execute_result"
    }
   ],
   "source": [
    "pd.concat([s1,s2]).reset_index()"
   ]
  },
  {
   "cell_type": "markdown",
   "metadata": {},
   "source": [
    "Notice that we enclosed the things we want to join as some sort of iterable (a `list` here).\n",
    "\n",
    "`concat` can also combine columns"
   ]
  },
  {
   "cell_type": "code",
   "execution_count": 178,
   "metadata": {},
   "outputs": [
    {
     "data": {
      "text/html": [
       "<div>\n",
       "<style scoped>\n",
       "    .dataframe tbody tr th:only-of-type {\n",
       "        vertical-align: middle;\n",
       "    }\n",
       "\n",
       "    .dataframe tbody tr th {\n",
       "        vertical-align: top;\n",
       "    }\n",
       "\n",
       "    .dataframe thead th {\n",
       "        text-align: right;\n",
       "    }\n",
       "</style>\n",
       "<table border=\"1\" class=\"dataframe\">\n",
       "  <thead>\n",
       "    <tr style=\"text-align: right;\">\n",
       "      <th></th>\n",
       "      <th>upper</th>\n",
       "      <th>lower</th>\n",
       "      <th>upper</th>\n",
       "      <th>lower</th>\n",
       "    </tr>\n",
       "  </thead>\n",
       "  <tbody>\n",
       "    <tr>\n",
       "      <th>1</th>\n",
       "      <td>A</td>\n",
       "      <td>a</td>\n",
       "      <td>D</td>\n",
       "      <td>d</td>\n",
       "    </tr>\n",
       "    <tr>\n",
       "      <th>2</th>\n",
       "      <td>B</td>\n",
       "      <td>b</td>\n",
       "      <td>E</td>\n",
       "      <td>e</td>\n",
       "    </tr>\n",
       "    <tr>\n",
       "      <th>3</th>\n",
       "      <td>C</td>\n",
       "      <td>c</td>\n",
       "      <td>F</td>\n",
       "      <td>f</td>\n",
       "    </tr>\n",
       "  </tbody>\n",
       "</table>\n",
       "</div>"
      ],
      "text/plain": [
       "  upper lower upper lower\n",
       "1     A     a     D     d\n",
       "2     B     b     E     e\n",
       "3     C     c     F     f"
      ]
     },
     "execution_count": 178,
     "metadata": {},
     "output_type": "execute_result"
    }
   ],
   "source": [
    "pd.concat([s1, s2], axis='columns')"
   ]
  },
  {
   "cell_type": "markdown",
   "metadata": {},
   "source": [
    "`pd.concat` will accept duplicate indices, but normally that indicates a problem with the data normalization. `concat` has a `verify_index` argument which can check for these problems and you can specify what you want to do with duplicates manually.\n",
    "\n",
    "concat will often result in `NaN`s because some columns might not exist in both/all frames."
   ]
  },
  {
   "cell_type": "code",
   "execution_count": 179,
   "metadata": {},
   "outputs": [
    {
     "data": {
      "text/html": [
       "<div>\n",
       "<style scoped>\n",
       "    .dataframe tbody tr th:only-of-type {\n",
       "        vertical-align: middle;\n",
       "    }\n",
       "\n",
       "    .dataframe tbody tr th {\n",
       "        vertical-align: top;\n",
       "    }\n",
       "\n",
       "    .dataframe thead th {\n",
       "        text-align: right;\n",
       "    }\n",
       "</style>\n",
       "<table border=\"1\" class=\"dataframe\">\n",
       "  <thead>\n",
       "    <tr style=\"text-align: right;\">\n",
       "      <th></th>\n",
       "      <th>fruit</th>\n",
       "      <th>veg</th>\n",
       "      <th>tree</th>\n",
       "    </tr>\n",
       "  </thead>\n",
       "  <tbody>\n",
       "    <tr>\n",
       "      <th>0</th>\n",
       "      <td>apple</td>\n",
       "      <td>brocolli</td>\n",
       "      <td>cedar</td>\n",
       "    </tr>\n",
       "    <tr>\n",
       "      <th>1</th>\n",
       "      <td>orange</td>\n",
       "      <td>carrot</td>\n",
       "      <td>alder</td>\n",
       "    </tr>\n",
       "    <tr>\n",
       "      <th>2</th>\n",
       "      <td>banana</td>\n",
       "      <td>onion</td>\n",
       "      <td>NaN</td>\n",
       "    </tr>\n",
       "    <tr>\n",
       "      <th>3</th>\n",
       "      <td>grape</td>\n",
       "      <td>potato</td>\n",
       "      <td>NaN</td>\n",
       "    </tr>\n",
       "  </tbody>\n",
       "</table>\n",
       "</div>"
      ],
      "text/plain": [
       "    fruit       veg   tree\n",
       "0   apple  brocolli  cedar\n",
       "1  orange    carrot  alder\n",
       "2  banana     onion    NaN\n",
       "3   grape    potato    NaN"
      ]
     },
     "execution_count": 179,
     "metadata": {},
     "output_type": "execute_result"
    }
   ],
   "source": [
    "d4 = pd.DataFrame({'fruit': ['apple', 'orange'], 'veg': ['brocolli', 'carrot'], 'tree': ['cedar', 'alder']})\n",
    "d5 = pd.DataFrame({'veg': ['onion', 'potato'], 'fruit': ['banana','grape']})\n",
    "pd.concat([d4,d5], sort=False, ignore_index=True)"
   ]
  },
  {
   "cell_type": "markdown",
   "metadata": {},
   "source": [
    "Since the index wasn't important here, I threw it away and just accepted a new one.\n",
    "\n",
    "In the general case joining DataFrames can get complex. The concat method can take a `join` keyword to specify a database like join stragegy (inner or outer), but `pd.merge` is a bit more flexible. It implements the usual relations\n",
    "\n",
    "  * one-to-one (similar to a concat)\n",
    "  * many-to-one\n",
    "  * many-to-many\n",
    "\n",
    "and lets us join based on column value(s). Here is an example of a many-to-one merge"
   ]
  },
  {
   "cell_type": "code",
   "execution_count": 181,
   "metadata": {},
   "outputs": [
    {
     "name": "stdout",
     "output_type": "stream",
     "text": [
      "    class  legs\n",
      "0  insect     6\n",
      "1  spider     8\n",
      "      name   class\n",
      "0    molly  insect\n",
      "1     anna  insect\n",
      "2  stephen  spider\n",
      "3     mica  insect\n"
     ]
    }
   ],
   "source": [
    "adf1=pd.DataFrame({\n",
    "    'class': ['insect', 'spider'], \n",
    "    'legs': [6, 8]}\n",
    ")\n",
    "\n",
    "adf2=pd.DataFrame({\n",
    "    'name': ['molly', 'anna', 'stephen', 'mica'], \n",
    "    'class': ['insect','insect','spider','insect']}\n",
    ")                     \n",
    "\n",
    "print(adf1); print(adf2)"
   ]
  },
  {
   "cell_type": "code",
   "execution_count": 182,
   "metadata": {},
   "outputs": [
    {
     "data": {
      "text/html": [
       "<div>\n",
       "<style scoped>\n",
       "    .dataframe tbody tr th:only-of-type {\n",
       "        vertical-align: middle;\n",
       "    }\n",
       "\n",
       "    .dataframe tbody tr th {\n",
       "        vertical-align: top;\n",
       "    }\n",
       "\n",
       "    .dataframe thead th {\n",
       "        text-align: right;\n",
       "    }\n",
       "</style>\n",
       "<table border=\"1\" class=\"dataframe\">\n",
       "  <thead>\n",
       "    <tr style=\"text-align: right;\">\n",
       "      <th></th>\n",
       "      <th>class</th>\n",
       "      <th>legs</th>\n",
       "      <th>name</th>\n",
       "    </tr>\n",
       "  </thead>\n",
       "  <tbody>\n",
       "    <tr>\n",
       "      <th>0</th>\n",
       "      <td>insect</td>\n",
       "      <td>6</td>\n",
       "      <td>molly</td>\n",
       "    </tr>\n",
       "    <tr>\n",
       "      <th>1</th>\n",
       "      <td>insect</td>\n",
       "      <td>6</td>\n",
       "      <td>anna</td>\n",
       "    </tr>\n",
       "    <tr>\n",
       "      <th>2</th>\n",
       "      <td>insect</td>\n",
       "      <td>6</td>\n",
       "      <td>mica</td>\n",
       "    </tr>\n",
       "    <tr>\n",
       "      <th>3</th>\n",
       "      <td>spider</td>\n",
       "      <td>8</td>\n",
       "      <td>stephen</td>\n",
       "    </tr>\n",
       "  </tbody>\n",
       "</table>\n",
       "</div>"
      ],
      "text/plain": [
       "    class  legs     name\n",
       "0  insect     6    molly\n",
       "1  insect     6     anna\n",
       "2  insect     6     mica\n",
       "3  spider     8  stephen"
      ]
     },
     "execution_count": 182,
     "metadata": {},
     "output_type": "execute_result"
    }
   ],
   "source": [
    "pd.merge(adf1, adf2)"
   ]
  },
  {
   "cell_type": "markdown",
   "metadata": {},
   "source": [
    "The _many-to-one_ is many different rows in adf2 being mapped to a single row in adf1 (insects). `pd.merge` also accepts a selection of keyword arguments so you can manually specify which columns to join, patch up name differences etc."
   ]
  },
  {
   "cell_type": "markdown",
   "metadata": {},
   "source": [
    "## Extra"
   ]
  },
  {
   "cell_type": "markdown",
   "metadata": {},
   "source": [
    "Here is a dataset on UFO observations for the US and Canada, read it in and try to extract the following information\n",
    "\n",
    "* _How many from each country?_\n",
    "* _States with the most observations_\n",
    "* _What is the most common shape observed in each country/state?_\n",
    "* _Find the most recent report from each province in canada_\n",
    "* _Look at the number of observations in California by month_\n",
    "* _For each state find the ufo hotspot with a `.pivot table`_\n",
    "  * _Since _lat_ and _lng_ are just coordinates, try plotting the hot spots_"
   ]
  },
  {
   "cell_type": "code",
   "execution_count": 209,
   "metadata": {},
   "outputs": [
    {
     "data": {
      "text/html": [
       "<div>\n",
       "<style scoped>\n",
       "    .dataframe tbody tr th:only-of-type {\n",
       "        vertical-align: middle;\n",
       "    }\n",
       "\n",
       "    .dataframe tbody tr th {\n",
       "        vertical-align: top;\n",
       "    }\n",
       "\n",
       "    .dataframe thead th {\n",
       "        text-align: right;\n",
       "    }\n",
       "</style>\n",
       "<table border=\"1\" class=\"dataframe\">\n",
       "  <thead>\n",
       "    <tr style=\"text-align: right;\">\n",
       "      <th></th>\n",
       "      <th>Date</th>\n",
       "      <th>Country</th>\n",
       "      <th>City</th>\n",
       "      <th>State</th>\n",
       "      <th>Shape</th>\n",
       "      <th>Summary</th>\n",
       "      <th>lat</th>\n",
       "      <th>lng</th>\n",
       "    </tr>\n",
       "  </thead>\n",
       "  <tbody>\n",
       "    <tr>\n",
       "      <th>0</th>\n",
       "      <td>2016-12-21 19:15:00</td>\n",
       "      <td>USA</td>\n",
       "      <td>Waynesboro</td>\n",
       "      <td>VA</td>\n",
       "      <td>Sphere</td>\n",
       "      <td>Bright round object hovering in sky.</td>\n",
       "      <td>38.065229</td>\n",
       "      <td>-78.905888</td>\n",
       "    </tr>\n",
       "    <tr>\n",
       "      <th>1</th>\n",
       "      <td>2016-12-21 00:00:00</td>\n",
       "      <td>USA</td>\n",
       "      <td>Louisville</td>\n",
       "      <td>KY</td>\n",
       "      <td>Unknown</td>\n",
       "      <td>Multiple craft ascending from north of Shelbyv...</td>\n",
       "      <td>38.254238</td>\n",
       "      <td>-85.759407</td>\n",
       "    </tr>\n",
       "    <tr>\n",
       "      <th>2</th>\n",
       "      <td>2016-12-20 22:30:00</td>\n",
       "      <td>USA</td>\n",
       "      <td>Santa Rosa</td>\n",
       "      <td>CA</td>\n",
       "      <td>Sphere</td>\n",
       "      <td>Bright orange planet-like object sighted near ...</td>\n",
       "      <td>38.440467</td>\n",
       "      <td>-122.714431</td>\n",
       "    </tr>\n",
       "    <tr>\n",
       "      <th>3</th>\n",
       "      <td>2016-12-20 19:00:00</td>\n",
       "      <td>USA</td>\n",
       "      <td>Fresno</td>\n",
       "      <td>CA</td>\n",
       "      <td>Circle</td>\n",
       "      <td>Twelve orange globes in formation over Fresno</td>\n",
       "      <td>36.729529</td>\n",
       "      <td>-119.708861</td>\n",
       "    </tr>\n",
       "    <tr>\n",
       "      <th>4</th>\n",
       "      <td>2016-12-19 21:53:00</td>\n",
       "      <td>USA</td>\n",
       "      <td>Reymert</td>\n",
       "      <td>AZ</td>\n",
       "      <td>Circle</td>\n",
       "      <td>While camping in the Cottonwood canyon Rd., al...</td>\n",
       "      <td>33.229779</td>\n",
       "      <td>-111.209290</td>\n",
       "    </tr>\n",
       "  </tbody>\n",
       "</table>\n",
       "</div>"
      ],
      "text/plain": [
       "                 Date Country        City State    Shape  \\\n",
       "0 2016-12-21 19:15:00     USA  Waynesboro    VA   Sphere   \n",
       "1 2016-12-21 00:00:00     USA  Louisville    KY  Unknown   \n",
       "2 2016-12-20 22:30:00     USA  Santa Rosa    CA   Sphere   \n",
       "3 2016-12-20 19:00:00     USA      Fresno    CA   Circle   \n",
       "4 2016-12-19 21:53:00     USA     Reymert    AZ   Circle   \n",
       "\n",
       "                                             Summary        lat         lng  \n",
       "0               Bright round object hovering in sky.  38.065229  -78.905888  \n",
       "1  Multiple craft ascending from north of Shelbyv...  38.254238  -85.759407  \n",
       "2  Bright orange planet-like object sighted near ...  38.440467 -122.714431  \n",
       "3      Twelve orange globes in formation over Fresno  36.729529 -119.708861  \n",
       "4  While camping in the Cottonwood canyon Rd., al...  33.229779 -111.209290  "
      ]
     },
     "execution_count": 209,
     "metadata": {},
     "output_type": "execute_result"
    }
   ],
   "source": [
    "ufoDF = pd.read_csv(\n",
    "    'https://m2pi.syzygy.ca/data/UFOs_coord.csv', \n",
    "    names = ['Date', 'Country', 'City', 'State', 'Shape', 'Summary', 'lat', 'lng'],\n",
    "    skiprows=[0],\n",
    "    encoding='latin1'\n",
    ")\n",
    "ufoDF['Date'] = pd.to_datetime(ufoDF.Date.str.replace('.', ':', regex=False))\n",
    "ufoDF.head()"
   ]
  },
  {
   "cell_type": "markdown",
   "metadata": {},
   "source": [
    "How many from each country?"
   ]
  },
  {
   "cell_type": "code",
   "execution_count": 211,
   "metadata": {},
   "outputs": [
    {
     "data": {
      "text/plain": [
       "Country\n",
       "CANADA     150\n",
       "USA       5027\n",
       "dtype: int64"
      ]
     },
     "execution_count": 211,
     "metadata": {},
     "output_type": "execute_result"
    }
   ],
   "source": [
    "ufoDF.groupby('Country').size()"
   ]
  },
  {
   "cell_type": "markdown",
   "metadata": {},
   "source": [
    "States with the most observations?"
   ]
  },
  {
   "cell_type": "code",
   "execution_count": 212,
   "metadata": {},
   "outputs": [
    {
     "data": {
      "text/plain": [
       "State\n",
       "CA    546\n",
       "FL    338\n",
       "AZ    220\n",
       "WA    215\n",
       "NC    211\n",
       "NY    203\n",
       "CO    192\n",
       "PA    189\n",
       "OR    157\n",
       "IL    142\n",
       "OH    141\n",
       "TX    139\n",
       "MI    131\n",
       "NJ    125\n",
       "GA    117\n",
       "WI    114\n",
       "MO    109\n",
       "TN    108\n",
       "VA    108\n",
       "MA    105\n",
       "MD     98\n",
       "SC     88\n",
       "UT     84\n",
       "MN     77\n",
       "IN     77\n",
       "NM     73\n",
       "ID     69\n",
       "ME     67\n",
       "CT     65\n",
       "ON     62\n",
       "NV     61\n",
       "KY     51\n",
       "NH     50\n",
       "KS     47\n",
       "LA     46\n",
       "AL     46\n",
       "MT     45\n",
       "OK     43\n",
       "AR     40\n",
       "IA     40\n",
       "AK     37\n",
       "MS     31\n",
       "RI     29\n",
       "WV     28\n",
       "HI     28\n",
       "BC     27\n",
       "AB     25\n",
       "SD     20\n",
       "VT     19\n",
       "DE     16\n",
       "NE     16\n",
       "WY     15\n",
       "ND     11\n",
       "SK     10\n",
       "QC      9\n",
       "MB      7\n",
       "NB      4\n",
       "NS      4\n",
       "YT      2\n",
       "Name: Shape, dtype: int64"
      ]
     },
     "execution_count": 212,
     "metadata": {},
     "output_type": "execute_result"
    }
   ],
   "source": [
    "ufoDF.groupby('State').Shape.count().sort_values(ascending=False)"
   ]
  },
  {
   "cell_type": "markdown",
   "metadata": {},
   "source": [
    "What is the most common shape observed in each country/state?"
   ]
  },
  {
   "cell_type": "code",
   "execution_count": 213,
   "metadata": {},
   "outputs": [
    {
     "name": "stdout",
     "output_type": "stream",
     "text": [
      "CANADA: ('Light', 46)\n",
      "USA: ('Light', 1072)\n"
     ]
    }
   ],
   "source": [
    "for area, group in ufoDF.groupby('Country'):\n",
    "    shape_counts = group.groupby('Shape').size()\n",
    "    print(f\"{area}: {shape_counts.idxmax(), shape_counts.max()}\")"
   ]
  },
  {
   "cell_type": "markdown",
   "metadata": {},
   "source": [
    "_Find the most recent report from each province in canada_"
   ]
  },
  {
   "cell_type": "code",
   "execution_count": 215,
   "metadata": {},
   "outputs": [
    {
     "data": {
      "text/html": [
       "<div>\n",
       "<style scoped>\n",
       "    .dataframe tbody tr th:only-of-type {\n",
       "        vertical-align: middle;\n",
       "    }\n",
       "\n",
       "    .dataframe tbody tr th {\n",
       "        vertical-align: top;\n",
       "    }\n",
       "\n",
       "    .dataframe thead th {\n",
       "        text-align: right;\n",
       "    }\n",
       "</style>\n",
       "<table border=\"1\" class=\"dataframe\">\n",
       "  <thead>\n",
       "    <tr style=\"text-align: right;\">\n",
       "      <th></th>\n",
       "      <th>Date</th>\n",
       "      <th>Country</th>\n",
       "      <th>City</th>\n",
       "      <th>State</th>\n",
       "      <th>Shape</th>\n",
       "      <th>Summary</th>\n",
       "      <th>lat</th>\n",
       "      <th>lng</th>\n",
       "    </tr>\n",
       "  </thead>\n",
       "  <tbody>\n",
       "    <tr>\n",
       "      <th>14</th>\n",
       "      <td>2016-12-18 22:00:00</td>\n",
       "      <td>CANADA</td>\n",
       "      <td>Wetaskiwin</td>\n",
       "      <td>AB</td>\n",
       "      <td>Light</td>\n",
       "      <td>Bright Red Light Seen by Roommate and Myself i...</td>\n",
       "      <td>52.968492</td>\n",
       "      <td>-113.367920</td>\n",
       "    </tr>\n",
       "    <tr>\n",
       "      <th>278</th>\n",
       "      <td>2016-11-21 23:15:00</td>\n",
       "      <td>CANADA</td>\n",
       "      <td>Victoria</td>\n",
       "      <td>BC</td>\n",
       "      <td>Other</td>\n",
       "      <td>A moving glow from something above a cloud ove...</td>\n",
       "      <td>48.428333</td>\n",
       "      <td>-123.364927</td>\n",
       "    </tr>\n",
       "    <tr>\n",
       "      <th>1466</th>\n",
       "      <td>2016-10-09 22:00:00</td>\n",
       "      <td>CANADA</td>\n",
       "      <td>Selkirk</td>\n",
       "      <td>MB</td>\n",
       "      <td>Light</td>\n",
       "      <td>8-10 red orbs crossing the sky</td>\n",
       "      <td>50.145621</td>\n",
       "      <td>-96.878800</td>\n",
       "    </tr>\n",
       "    <tr>\n",
       "      <th>3887</th>\n",
       "      <td>2016-07-04 21:00:00</td>\n",
       "      <td>CANADA</td>\n",
       "      <td>Fredericton</td>\n",
       "      <td>NB</td>\n",
       "      <td>Unknown</td>\n",
       "      <td>Low flying object with red and green lights - ...</td>\n",
       "      <td>45.964649</td>\n",
       "      <td>-66.643753</td>\n",
       "    </tr>\n",
       "    <tr>\n",
       "      <th>103</th>\n",
       "      <td>2016-09-12 05:25:00</td>\n",
       "      <td>CANADA</td>\n",
       "      <td>Truro</td>\n",
       "      <td>NS</td>\n",
       "      <td>Oval</td>\n",
       "      <td>Oval/ 1st was oval yellowsish red white glowin...</td>\n",
       "      <td>45.366668</td>\n",
       "      <td>-63.300006</td>\n",
       "    </tr>\n",
       "    <tr>\n",
       "      <th>1971</th>\n",
       "      <td>2016-12-08 08:10:00</td>\n",
       "      <td>CANADA</td>\n",
       "      <td>Oakville</td>\n",
       "      <td>ON</td>\n",
       "      <td>Light</td>\n",
       "      <td>Object in morning sky gets white bright and di...</td>\n",
       "      <td>43.447436</td>\n",
       "      <td>-79.666672</td>\n",
       "    </tr>\n",
       "    <tr>\n",
       "      <th>3483</th>\n",
       "      <td>2016-11-05 21:05:00</td>\n",
       "      <td>CANADA</td>\n",
       "      <td>Gatineau</td>\n",
       "      <td>QC</td>\n",
       "      <td>Light</td>\n",
       "      <td>Two separate lights touching each other, then ...</td>\n",
       "      <td>45.456305</td>\n",
       "      <td>-75.722883</td>\n",
       "    </tr>\n",
       "    <tr>\n",
       "      <th>375</th>\n",
       "      <td>2016-11-15 18:00:00</td>\n",
       "      <td>CANADA</td>\n",
       "      <td>Prince Albert</td>\n",
       "      <td>SK</td>\n",
       "      <td>Triangle</td>\n",
       "      <td>A bright halogen like light listed lazily in a...</td>\n",
       "      <td>53.201097</td>\n",
       "      <td>-105.748901</td>\n",
       "    </tr>\n",
       "    <tr>\n",
       "      <th>1813</th>\n",
       "      <td>2016-08-22 00:00:00</td>\n",
       "      <td>CANADA</td>\n",
       "      <td>Whitehorse</td>\n",
       "      <td>YT</td>\n",
       "      <td>Other</td>\n",
       "      <td>((HOAX??)) Cool scary and weird.</td>\n",
       "      <td>60.721571</td>\n",
       "      <td>-135.054932</td>\n",
       "    </tr>\n",
       "  </tbody>\n",
       "</table>\n",
       "</div>"
      ],
      "text/plain": [
       "                    Date Country           City State     Shape  \\\n",
       "14   2016-12-18 22:00:00  CANADA     Wetaskiwin    AB     Light   \n",
       "278  2016-11-21 23:15:00  CANADA       Victoria    BC     Other   \n",
       "1466 2016-10-09 22:00:00  CANADA        Selkirk    MB     Light   \n",
       "3887 2016-07-04 21:00:00  CANADA    Fredericton    NB   Unknown   \n",
       "103  2016-09-12 05:25:00  CANADA          Truro    NS      Oval   \n",
       "1971 2016-12-08 08:10:00  CANADA       Oakville    ON     Light   \n",
       "3483 2016-11-05 21:05:00  CANADA       Gatineau    QC     Light   \n",
       "375  2016-11-15 18:00:00  CANADA  Prince Albert    SK  Triangle   \n",
       "1813 2016-08-22 00:00:00  CANADA     Whitehorse    YT     Other   \n",
       "\n",
       "                                                Summary        lat         lng  \n",
       "14    Bright Red Light Seen by Roommate and Myself i...  52.968492 -113.367920  \n",
       "278   A moving glow from something above a cloud ove...  48.428333 -123.364927  \n",
       "1466                     8-10 red orbs crossing the sky  50.145621  -96.878800  \n",
       "3887  Low flying object with red and green lights - ...  45.964649  -66.643753  \n",
       "103   Oval/ 1st was oval yellowsish red white glowin...  45.366668  -63.300006  \n",
       "1971  Object in morning sky gets white bright and di...  43.447436  -79.666672  \n",
       "3483  Two separate lights touching each other, then ...  45.456305  -75.722883  \n",
       "375   A bright halogen like light listed lazily in a...  53.201097 -105.748901  \n",
       "1813                   ((HOAX??)) Cool scary and weird.  60.721571 -135.054932  "
      ]
     },
     "execution_count": 215,
     "metadata": {},
     "output_type": "execute_result"
    }
   ],
   "source": [
    "ufoDF.loc[ufoDF[ufoDF['Country'] == 'CANADA'].groupby('State').Date.idxmax()]"
   ]
  },
  {
   "cell_type": "markdown",
   "metadata": {},
   "source": [
    "_Look at the number of observations in California by month_"
   ]
  },
  {
   "cell_type": "code",
   "execution_count": 216,
   "metadata": {},
   "outputs": [],
   "source": [
    "ufoDF['Month'] = ufoDF.Date.dt.month"
   ]
  },
  {
   "cell_type": "code",
   "execution_count": 217,
   "metadata": {},
   "outputs": [],
   "source": [
    "byMonth = ufoDF.groupby(['Country', 'State', 'Month']).size().reset_index().sort_values('Month')"
   ]
  },
  {
   "cell_type": "code",
   "execution_count": 218,
   "metadata": {},
   "outputs": [
    {
     "data": {
      "text/plain": [
       "<Axes: ylabel='Month'>"
      ]
     },
     "execution_count": 218,
     "metadata": {},
     "output_type": "execute_result"
    },
    {
     "data": {
      "image/png": "[encoded data removed]",
      "text/plain": [
       "<Figure size 640x480 with 1 Axes>"
      ]
     },
     "metadata": {},
     "output_type": "display_data"
    }
   ],
   "source": [
    "ca = byMonth[(byMonth['Country'] == 'USA') & (byMonth['State'] == 'CA')].set_index('Month')\n",
    "ca.plot(kind='barh')"
   ]
  },
  {
   "cell_type": "markdown",
   "metadata": {},
   "source": [
    "* _For each state find the ufo hotspot with a `.pivot table`_\n",
    "  * _Since _lat_ and _lng_ are just coordinates, try plotting the hot spots_"
   ]
  },
  {
   "cell_type": "code",
   "execution_count": 208,
   "metadata": {},
   "outputs": [
    {
     "data": {
      "text/plain": [
       "<Axes: xlabel='lng', ylabel='lat'>"
      ]
     },
     "execution_count": 208,
     "metadata": {},
     "output_type": "execute_result"
    },
    {
     "data": {
      "image/png": "[encoded data removed]",
      "text/plain": [
       "<Figure size 640x480 with 1 Axes>"
      ]
     },
     "metadata": {},
     "output_type": "display_data"
    }
   ],
   "source": [
    "ufoDF.pivot_table(index=['State'], values=['lat', 'lng']).plot(\n",
    "    kind='scatter', x='lng', y='lat', s = ufoDF.groupby('State').size(), alpha=0.3\n",
    ")"
   ]
  },
  {
   "cell_type": "markdown",
   "metadata": {},
   "source": [
    "## Other bits and pieces...\n",
    "\n",
    "* pd.cut: Binning data"
   ]
  },
  {
   "cell_type": "code",
   "execution_count": null,
   "metadata": {},
   "outputs": [],
   "source": [
    "g = np.random.default_rng(42)\n",
    "age = g.integers(15, 70, size=15)\n",
    "bins = [10, 19, 20, 29, 30, 45, 55, 70]\n",
    "age_groups = pd.cut(age, bins)\n",
    "type(age_groups)"
   ]
  }
 ],
 "metadata": {
  "kernelspec": {
   "display_name": "Python 3 (ipykernel)",
   "language": "python",
   "name": "python3"
  },
  "language_info": {
   "codemirror_mode": {
    "name": "ipython",
    "version": 3
   },
   "file_extension": ".py",
   "mimetype": "text/x-python",
   "name": "python",
   "nbconvert_exporter": "python",
   "pygments_lexer": "ipython3",
   "version": "3.11.4"
  }
 },
 "nbformat": 4,
 "nbformat_minor": 4
}
